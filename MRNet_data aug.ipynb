{
 "cells": [
  {
   "cell_type": "code",
   "execution_count": 1,
   "metadata": {
    "colab": {
     "base_uri": "https://localhost:8080/",
     "height": 35
    },
    "colab_type": "code",
    "id": "VgPa4TB6FGYm",
    "outputId": "d81397c0-b49b-42d1-e7f1-308cee985c13"
   },
   "outputs": [
    {
     "name": "stderr",
     "output_type": "stream",
     "text": [
      "Using TensorFlow backend.\n"
     ]
    }
   ],
   "source": [
    "from google.colab import drive\n",
    "import numpy as np\n",
    "import matplotlib\n",
    "import matplotlib.pyplot as plt\n",
    "import matplotlib as mpl\n",
    "import glob\n",
    "from sklearn.preprocessing import normalize\n",
    "import gc\n",
    "from keras.applications.inception_v3 import InceptionV3\n",
    "from keras.applications.xception import Xception\n",
    "from keras.layers import Input, Dense, Flatten, GlobalAveragePooling2D, GlobalMaxPooling2D \n",
    "from keras.models import Model\n",
    "from keras.optimizers import SGD\n",
    "from sklearn.model_selection import train_test_split\n",
    "from keras.callbacks import EarlyStopping, ModelCheckpoint, Callback\n",
    "from keras.models import load_model\n",
    "from keras.layers import Dropout\n",
    "from keras import backend as K\n",
    "from sklearn.metrics import accuracy_score, confusion_matrix, f1_score, precision_score, recall_score\n",
    "from keras.preprocessing.image import ImageDataGenerator"
   ]
  },
  {
   "cell_type": "code",
   "execution_count": 2,
   "metadata": {
    "colab": {
     "base_uri": "https://localhost:8080/",
     "height": 55
    },
    "colab_type": "code",
    "id": "wr4vmtAHFWd6",
    "outputId": "5b82c39b-12e0-4a6b-a65c-49ae394c25aa"
   },
   "outputs": [
    {
     "name": "stdout",
     "output_type": "stream",
     "text": [
      "Drive already mounted at /content/drive; to attempt to forcibly remount, call drive.mount(\"/content/drive\", force_remount=True).\n"
     ]
    }
   ],
   "source": [
    "drive.mount('/content/drive')\n",
    "root_path = 'drive/My Drive/Colab Notebooks/'"
   ]
  },
  {
   "cell_type": "code",
   "execution_count": 3,
   "metadata": {
    "colab": {
     "base_uri": "https://localhost:8080/",
     "height": 35
    },
    "colab_type": "code",
    "id": "IGZvfyYLFfOA",
    "outputId": "f4320b22-c9ba-4412-925d-a6f0ec6f84e1"
   },
   "outputs": [
    {
     "name": "stdout",
     "output_type": "stream",
     "text": [
      "/content/drive/My Drive/Colab Notebooks\n"
     ]
    }
   ],
   "source": [
    "cd drive/My Drive/Colab Notebooks"
   ]
  },
  {
   "cell_type": "code",
   "execution_count": 0,
   "metadata": {
    "colab": {},
    "colab_type": "code",
    "id": "0IZsEifGF6xD"
   },
   "outputs": [],
   "source": [
    "#load the training data of one single angle of the exams (axial | coronal | sagittal) by giving the angle name\n",
    "def trainingSet(file_name):\n",
    "    training_set = []\n",
    "    for np_name in sorted(glob.glob('MRNet-v1.0/train/'+file_name+'/*.npy')):\n",
    "        training_set.append(np.load(np_name))\n",
    "    return training_set  "
   ]
  },
  {
   "cell_type": "code",
   "execution_count": 0,
   "metadata": {
    "colab": {},
    "colab_type": "code",
    "id": "hDEOQ3sUG-JL"
   },
   "outputs": [],
   "source": [
    "#load the labels of one knee tear(abnormal | acl | meniscus) by the giving the file name that contains the labels\n",
    "def load_labels(train_file_name):\n",
    "    training_labels = np.loadtxt(train_file_name, delimiter=',')[:,1]\n",
    "    return training_labels"
   ]
  },
  {
   "cell_type": "code",
   "execution_count": 0,
   "metadata": {
    "colab": {},
    "colab_type": "code",
    "id": "MA0X0JzCNfXX"
   },
   "outputs": [],
   "source": [
    "#as each exam (stack) contains S slices and most of the pretrained CNN models accept the image with channel = 3\n",
    "#extract the middle 3 slices as most of the time they deside if the patiant has a certain tear or not\n",
    "def extract_3(dataset, data_size):\n",
    "    for i in range(len(dataset)):\n",
    "        dataset[i] = list(dataset[i])\n",
    "        middel_idx = int(len(dataset[i]) / 2)\n",
    "        dataset[i] = dataset[i][middel_idx - 1 : middel_idx + 2]\n",
    "        dataset[i] = np.array(dataset[i])\n",
    "    dataset = np.array(dataset)\n",
    "    dataset = dataset.reshape(data_size, 256, 256 ,3)\n",
    "    return dataset"
   ]
  },
  {
   "cell_type": "code",
   "execution_count": 0,
   "metadata": {
    "colab": {},
    "colab_type": "code",
    "id": "w_hU0XOUGhby"
   },
   "outputs": [],
   "source": [
    "#load the training data for each angle of the knee\n",
    "training_set_axial= trainingSet('axial')\n",
    "training_set_coronal=trainingSet('coronal')\n",
    "training_set_sagittal=trainingSet('sagittal')"
   ]
  },
  {
   "cell_type": "code",
   "execution_count": 0,
   "metadata": {
    "colab": {},
    "colab_type": "code",
    "id": "fnjEyVtvN8mS"
   },
   "outputs": [],
   "source": [
    "#extract the middel 3 slices from each stack\n",
    "training_set_axial = extract_3(training_set_axial, 1130)\n",
    "training_set_coronal =extract_3(training_set_coronal, 1130)\n",
    "training_set_sagittal =extract_3(training_set_sagittal, 1130)"
   ]
  },
  {
   "cell_type": "code",
   "execution_count": 9,
   "metadata": {
    "colab": {
     "base_uri": "https://localhost:8080/",
     "height": 35
    },
    "colab_type": "code",
    "id": "4oOEuN-VTVYB",
    "outputId": "e0649204-b5db-4c78-a2c0-7d45f02e5993"
   },
   "outputs": [
    {
     "data": {
      "text/plain": [
       "(1130, 256, 256, 3)"
      ]
     },
     "execution_count": 9,
     "metadata": {
      "tags": []
     },
     "output_type": "execute_result"
    }
   ],
   "source": [
    "training_set_axial.shape"
   ]
  },
  {
   "cell_type": "code",
   "execution_count": 0,
   "metadata": {
    "colab": {},
    "colab_type": "code",
    "id": "5-fzezVNHInf"
   },
   "outputs": [],
   "source": [
    "#load the labels of the trainig data for each knee tear \n",
    "training_label_abnormal = load_labels('MRNet-v1.0/train-abnormal.csv')\n",
    "training_label_acl = load_labels('MRNet-v1.0/train-acl.csv')\n",
    "training_label_meniscus = load_labels('MRNet-v1.0/train-meniscus.csv')"
   ]
  },
  {
   "cell_type": "code",
   "execution_count": 11,
   "metadata": {
    "colab": {
     "base_uri": "https://localhost:8080/",
     "height": 35
    },
    "colab_type": "code",
    "id": "soOp5GPoTbOh",
    "outputId": "44813e6a-25e7-460b-b82d-925713d105ea"
   },
   "outputs": [
    {
     "data": {
      "text/plain": [
       "(1130,)"
      ]
     },
     "execution_count": 11,
     "metadata": {
      "tags": []
     },
     "output_type": "execute_result"
    }
   ],
   "source": [
    "training_label_abnormal.shape"
   ]
  },
  {
   "cell_type": "code",
   "execution_count": 0,
   "metadata": {
    "colab": {},
    "colab_type": "code",
    "id": "mKpopatuHiUu"
   },
   "outputs": [],
   "source": [
    "datagen = ImageDataGenerator(\n",
    "        rotation_range=5,\n",
    "        width_shift_range=0.05,\n",
    "        height_shift_range=0.05,\n",
    "        zoom_range=0.01,\n",
    "        fill_mode='nearest')"
   ]
  },
  {
   "cell_type": "code",
   "execution_count": 0,
   "metadata": {
    "colab": {},
    "colab_type": "code",
    "id": "v3f9NyZpHidA"
   },
   "outputs": [],
   "source": [
    "def data_augmentation(dataset, labels):\n",
    "  augmented_data = []\n",
    "  augmented_labels = []\n",
    "  num_augmented = 0\n",
    "  for X_batch, y_batch in datagen.flow(dataset, labels, batch_size= dataset.shape[0], shuffle=False):\n",
    "      augmented_data.append(X_batch)\n",
    "      augmented_labels.append(y_batch)\n",
    "      num_augmented += dataset.shape[0]\n",
    "      if num_augmented == dataset.shape[0] * 2:\n",
    "          break\n",
    "          \n",
    "  dataset = np.array(augmented_data).reshape(num_augmented, 256, 256, 3)\n",
    "  labels = np.array(augmented_labels).reshape(num_augmented, 1)\n",
    "  return dataset, labels"
   ]
  },
  {
   "cell_type": "code",
   "execution_count": 0,
   "metadata": {
    "colab": {},
    "colab_type": "code",
    "id": "qAPQR6ufHiiX"
   },
   "outputs": [],
   "source": [
    "training_set_axial, training_label_abnormal = data_augmentation(training_set_axial, training_label_abnormal)"
   ]
  },
  {
   "cell_type": "code",
   "execution_count": 0,
   "metadata": {
    "colab": {},
    "colab_type": "code",
    "id": "GiGP4ht1WZOB"
   },
   "outputs": [],
   "source": [
    "training_set_coronal, training_label_acl = data_augmentation(training_set_coronal, training_label_acl)"
   ]
  },
  {
   "cell_type": "code",
   "execution_count": 0,
   "metadata": {
    "colab": {},
    "colab_type": "code",
    "id": "Yo0B1mWiWZcj"
   },
   "outputs": [],
   "source": [
    "training_set_sagittal, training_label_meniscus = data_augmentation(training_set_sagittal, training_label_meniscus)"
   ]
  },
  {
   "cell_type": "code",
   "execution_count": 0,
   "metadata": {
    "colab": {},
    "colab_type": "code",
    "id": "KjJQBf4aOW2d"
   },
   "outputs": [],
   "source": [
    "training_set_axial.shape"
   ]
  },
  {
   "cell_type": "code",
   "execution_count": 0,
   "metadata": {
    "colab": {},
    "colab_type": "code",
    "id": "9fXZ-LbeKhR0"
   },
   "outputs": [],
   "source": [
    "#load INCEPTIONV3 pretrainned model from keras without the top layer &\n",
    "#specify the shape of the input image as (256x256x3) \n",
    "mri_InceptionV3 = InceptionV3(include_top = False, input_shape = (256, 256, 3))\n",
    "\n",
    "#remove the last one\n",
    "mri_InceptionV3.layers.pop()\n",
    "\n",
    "#get the output of the INCEPTIONV# model \"feature extraction\" and add Dense layers so that the model is designed\n",
    "#to classify our data\n",
    "mri_InceptionV3_output = mri_InceptionV3.output\n",
    "\n",
    "mri_InceptionV3_last_layer = GlobalMaxPooling2D()(mri_InceptionV3_output)\n",
    "\n",
    "mri_InceptionV3_last_layer = Dense(1024, activation = 'relu')(mri_InceptionV3_last_layer)\n",
    "\n",
    "mri_InceptionV3_last_layer = Dense(128, activation = 'relu')(mri_InceptionV3_last_layer)\n",
    "\n",
    "mri_InceptionV3_last_layer = Dense(32, activation = 'relu')(mri_InceptionV3_last_layer)\n",
    "\n",
    "predictor = Dense(1, activation='sigmoid')(mri_InceptionV3_last_layer)\n",
    "\n",
    "modified_mri_InceptionV3 = Model(inputs = mri_InceptionV3.input, output = predictor)\n",
    "\n",
    "modified_mri_InceptionV3.summary()"
   ]
  },
  {
   "cell_type": "code",
   "execution_count": 0,
   "metadata": {
    "colab": {},
    "colab_type": "code",
    "id": "h_Ex8umhLHRf"
   },
   "outputs": [],
   "source": [
    "#freeze the added dense layers and unfreeze the rest:\n",
    "for layer in modified_mri_InceptionV3.layers[15:]:\n",
    "    layer.trainable = True \n",
    "    \n",
    "for layer in mri_InceptionV3.layers:\n",
    "    layer.trainable = False\n",
    "    \n",
    "modified_mri_InceptionV3.compile(loss='binary_crossentropy', optimizer=\"adam\", metrics=['accuracy'])"
   ]
  },
  {
   "cell_type": "code",
   "execution_count": 0,
   "metadata": {
    "colab": {},
    "colab_type": "code",
    "id": "QW0nkyYphAXF"
   },
   "outputs": [],
   "source": [
    "class Metrics(Callback):\n",
    "  def on_train_begin(self, logs={}):\n",
    "    self.val_f1s = []\n",
    "  def on_epoch_end(self, epoch, logs={}):\n",
    "    val_predict = (np.asarray(self.model.predict(self.validation_data[0]))).round()\n",
    "    val_targ = self.validation_data[1]\n",
    "    _val_f1 = f1_score(val_targ, val_predict)\n",
    "    self.val_f1s.append(_val_f1)\n",
    "    print ('-val_f1 : %f '%(_val_f1))\n",
    "    return\n",
    "metrics = Metrics()"
   ]
  },
  {
   "cell_type": "code",
   "execution_count": 0,
   "metadata": {
    "colab": {},
    "colab_type": "code",
    "id": "YsweVLh8p68x"
   },
   "outputs": [],
   "source": [
    "def plot_history(history):\n",
    "  plt.figure(figsize=(8, 6))\n",
    "  ax = plt.gca()\n",
    "  plt.title('Training performance')\n",
    "  plt.plot(history.epoch, history.history['loss'], label='Loss')\n",
    "  plt.plot(history.epoch, history.history['val_loss'], label='validation error')\n",
    "  plt.plot(history.epoch, history.history['acc'], label='accuracy')\n",
    "  plt.plot(history.epoch, history.history['val_acc'], label='validation accuracy')\n",
    "  plt.plot(metrics.val_f1s, label='f_score')\n",
    "  plt.grid(True,color='white')\n",
    "  mpl.style.use('seaborn')\n",
    "  plt.legend() \n",
    "  "
   ]
  },
  {
   "cell_type": "code",
   "execution_count": 0,
   "metadata": {
    "colab": {},
    "colab_type": "code",
    "id": "Qy5DNM96LedU"
   },
   "outputs": [],
   "source": [
    "#train the model with 1073 trainning data & 57 validation data\n",
    "#save the model that has the max validation accuracy\n",
    "#at the end plot the trainng loss & accuracy, validation loss & accuracy & F-score \n",
    "def fit_model(training_set, training_labels, model_file_name):\n",
    "  \n",
    "    history = modified_mri_InceptionV3.fit(x = training_set, y = training_labels, batch_size=32,\n",
    "                       epochs=30, validation_split = 0.05,\n",
    "                       callbacks =[\n",
    "                          EarlyStopping(patience=3, monitor = 'val_loss', mode = 'min'),\n",
    "                          ModelCheckpoint(model_file_name, monitor='val_acc', save_best_only=True, mode='max', period=1), metrics])\n",
    "    plot_history(history)\n",
    "    best_model = load_model(model_file_name)\n",
    "    return best_model"
   ]
  },
  {
   "cell_type": "code",
   "execution_count": 0,
   "metadata": {
    "colab": {},
    "colab_type": "code",
    "id": "yJMZ8-NMLon_"
   },
   "outputs": [],
   "source": [
    "#train the modified INCEPTIONV3 model that will accept the axial data and classify the knee is it has an abnormal tear or not \n",
    "axial_abnormal_model = fit_model(training_set_axial, training_label_abnormal, \"axial_abnormal_model\")"
   ]
  },
  {
   "cell_type": "code",
   "execution_count": 0,
   "metadata": {
    "colab": {},
    "colab_type": "code",
    "id": "rgwq4QabMM3f"
   },
   "outputs": [],
   "source": [
    "#train the modified INCEPTIONV3 model that will accept the axial data and classify the knee is it has an acl tear or not \n",
    "axial_acl_model = fit_model(training_set_axial, training_label_acl, \"axial_acl_model\")"
   ]
  },
  {
   "cell_type": "code",
   "execution_count": 0,
   "metadata": {
    "colab": {},
    "colab_type": "code",
    "id": "n6koKwqZTiIR"
   },
   "outputs": [],
   "source": [
    "#train the modified INCEPTIONV3 model that will accept the axial data and classify the knee is it has a meniscus tear or not \n",
    "axial_meniscus_model = fit_model(training_set_axial, training_label_meniscus, \"axial_meniscus_model\")"
   ]
  },
  {
   "cell_type": "code",
   "execution_count": 0,
   "metadata": {
    "colab": {},
    "colab_type": "code",
    "id": "IaMWyKecTiWD"
   },
   "outputs": [],
   "source": [
    "#train the modified INCEPTIONV3 model that will accept the coronal data and classify the knee is it has an abnormal tear or not \n",
    "coronal_abnormal_model = fit_model(training_set_coronal, training_label_abnormal, \"coronal_abnormal_model\")"
   ]
  },
  {
   "cell_type": "code",
   "execution_count": 0,
   "metadata": {
    "colab": {},
    "colab_type": "code",
    "id": "YFEUHQozTik8"
   },
   "outputs": [],
   "source": [
    "#train the modified INCEPTIONV3 model that will accept the coronal data and classify the knee is it has an acl tear or not \n",
    "coronal_acl_model = fit_model(training_set_coronal, training_label_acl, \"coronal_acl_model\")"
   ]
  },
  {
   "cell_type": "code",
   "execution_count": 0,
   "metadata": {
    "colab": {},
    "colab_type": "code",
    "id": "cN3i8KC4TixN"
   },
   "outputs": [],
   "source": [
    "#train the modified INCEPTIONV3 model that will accept the coronal data and classify the knee is it has a meniscus tear or not \n",
    "coronal_meniscus_model = fit_model(training_set_coronal, training_label_meniscus, \"coronal_meniscus_model\")"
   ]
  },
  {
   "cell_type": "code",
   "execution_count": 0,
   "metadata": {
    "colab": {},
    "colab_type": "code",
    "id": "H_YrRaorTi9t"
   },
   "outputs": [],
   "source": [
    "#train the modified INCEPTIONV3 model that will accept the sagittal data and classify the knee is it has an abnormal tear or not \n",
    "sagittal_abnormal_model = fit_model(training_set_sagittal, training_label_abnormal, \"sagittal_abormal_model\")"
   ]
  },
  {
   "cell_type": "code",
   "execution_count": 0,
   "metadata": {
    "colab": {},
    "colab_type": "code",
    "id": "8EQtUg7STjJ2"
   },
   "outputs": [],
   "source": [
    "#train the modified INCEPTIONV3 model that will accept the sagittal data and classify the knee is it has an acl tear or not \n",
    "sagittal_acl_model = fit_model(training_set_sagittal, training_label_acl, \"sagittal_acl_model\")"
   ]
  },
  {
   "cell_type": "code",
   "execution_count": 0,
   "metadata": {
    "colab": {},
    "colab_type": "code",
    "id": "gPKd-N7eTjUg"
   },
   "outputs": [],
   "source": [
    "#train the modified INCEPTIONV3 model that will accept the sagittal data and classify the knee is it has a meniscus tear or not \n",
    "sagittal_meniscus_model = fit_model(training_set_sagittal, training_label_meniscus, \"sagittal_meniscus_model\")"
   ]
  },
  {
   "cell_type": "markdown",
   "metadata": {
    "colab_type": "text",
    "id": "T2OJcQKsZbs4"
   },
   "source": [
    "## Evaluate the 9 models"
   ]
  },
  {
   "cell_type": "code",
   "execution_count": 0,
   "metadata": {
    "colab": {},
    "colab_type": "code",
    "id": "rLaW7IDwZeXD"
   },
   "outputs": [],
   "source": [
    "#load the test data of one single angle of the exams (axial | coronal | sagittal) by giving the angle name\n",
    "def testSet(file_name):\n",
    "    test_set = []\n",
    "    for np_name in sorted(glob.glob('MRNet-v1.0/valid/'+file_name+'/*.npy')):\n",
    "        test_set.append(np.load(np_name))\n",
    "    return test_set   "
   ]
  },
  {
   "cell_type": "code",
   "execution_count": 0,
   "metadata": {
    "colab": {},
    "colab_type": "code",
    "id": "Zokr_v_0aXCD"
   },
   "outputs": [],
   "source": [
    "#load the test data for each angle of the knee\n",
    "test_set_axial= testSet('axial')\n",
    "test_set_coronal=testSet('coronal')\n",
    "test_set_sagittal=testSet('sagittal')"
   ]
  },
  {
   "cell_type": "code",
   "execution_count": 0,
   "metadata": {
    "colab": {},
    "colab_type": "code",
    "id": "ewlW0t1-atSY"
   },
   "outputs": [],
   "source": [
    "#extract the middel 3 slices from each stack\n",
    "test_set_axial = extract_3(test_set_axial, 120)\n",
    "test_set_coronal =extract_3(test_set_coronal, 120)\n",
    "test_set_sagittal =extract_3(test_set_sagittal, 120)"
   ]
  },
  {
   "cell_type": "code",
   "execution_count": 0,
   "metadata": {
    "colab": {},
    "colab_type": "code",
    "id": "6U0JME9GbQ6c"
   },
   "outputs": [],
   "source": [
    "#load the labels of the test data for each knee tear \n",
    "test_label_abnormal = load_labels('MRNet-v1.0/valid-abnormal.csv')\n",
    "test_label_acl = load_labels('MRNet-v1.0/valid-acl.csv')\n",
    "test_label_meniscus = load_labels('MRNet-v1.0/valid-meniscus.csv')"
   ]
  },
  {
   "cell_type": "code",
   "execution_count": 0,
   "metadata": {
    "colab": {},
    "colab_type": "code",
    "id": "9s9dhoElbugv"
   },
   "outputs": [],
   "source": [
    "axial_abnormal_model.evaluate(test_set_axial, test_label_abnormal)"
   ]
  },
  {
   "cell_type": "code",
   "execution_count": 0,
   "metadata": {
    "colab": {},
    "colab_type": "code",
    "id": "RcjfITHubwXY"
   },
   "outputs": [],
   "source": [
    "axial_acl_model.evaluate(test_set_axial, test_label_acl) "
   ]
  },
  {
   "cell_type": "code",
   "execution_count": 0,
   "metadata": {
    "colab": {},
    "colab_type": "code",
    "id": "uqxIfVvUbwtx"
   },
   "outputs": [],
   "source": [
    "axial_meniscus_model.evaluate(test_set_axial, test_label_meniscus) "
   ]
  },
  {
   "cell_type": "code",
   "execution_count": 0,
   "metadata": {
    "colab": {},
    "colab_type": "code",
    "id": "gEgu3jd4bw3W"
   },
   "outputs": [],
   "source": [
    "coronal_abnormal_model.evaluate(test_set_coronal, test_label_abnormal)"
   ]
  },
  {
   "cell_type": "code",
   "execution_count": 0,
   "metadata": {
    "colab": {},
    "colab_type": "code",
    "id": "ZPQpGpC2bw7v"
   },
   "outputs": [],
   "source": [
    "coronal_acl_model.evaluate(test_set_coronal, test_label_acl)"
   ]
  },
  {
   "cell_type": "code",
   "execution_count": 0,
   "metadata": {
    "colab": {},
    "colab_type": "code",
    "id": "FmvpiJsnbw-r"
   },
   "outputs": [],
   "source": [
    "coronal_meniscus_model.evaluate(test_set_coronal, test_label_meniscus)"
   ]
  },
  {
   "cell_type": "code",
   "execution_count": 0,
   "metadata": {
    "colab": {},
    "colab_type": "code",
    "id": "HN2eLE6ObxBM"
   },
   "outputs": [],
   "source": [
    "sagittal_abnormal_model.evaluate(test_set_sagittal, test_label_abnormal)"
   ]
  },
  {
   "cell_type": "code",
   "execution_count": 0,
   "metadata": {
    "colab": {},
    "colab_type": "code",
    "id": "mqIhEuzrsqDE"
   },
   "outputs": [],
   "source": [
    "sagittal_acl_model.evaluate(test_set_sagittal, test_label_acl)"
   ]
  },
  {
   "cell_type": "code",
   "execution_count": 0,
   "metadata": {
    "colab": {},
    "colab_type": "code",
    "id": "ZTcUHNtEeVOQ"
   },
   "outputs": [],
   "source": [
    "sagittal_meniscus_model.evaluate(test_set_sagittal, test_label_meniscus)"
   ]
  },
  {
   "cell_type": "code",
   "execution_count": 0,
   "metadata": {
    "colab": {},
    "colab_type": "code",
    "id": "s4FM2wYUeZYm"
   },
   "outputs": [],
   "source": [
    "#predict if the knee has an acl tear by using the data of the 3 knee angel (axial, coronal & sagittal)\n",
    "#and the 3 models that accept one of these data and predict if the knee has an abnromal tear or not\n",
    "#by doing a majority voting between the 3 models\n",
    "def predict_abnormal(axial_input, coronal_input, sagittal_input, ground_truth):\n",
    "    axial_abnormal_prediction = axial_abnormal_model.predict(axial_input)\n",
    "    coronal_abnormal_prediction = coronal_abnormal_model.predict(coronal_input)\n",
    "    sagittal_abnormal_prediction = sagittal_abnormal_model.predict(sagittal_input)\n",
    "    \n",
    "    #to say that the exam has the acl tear or not, each of the models will vote in this decision\n",
    "    #and the final decision will be made by taking the max vote\n",
    "    predict_voting = []\n",
    "    for i in range (len(axial_abnormal_prediction)):\n",
    "        voting_list =[0, 0] \n",
    "        \n",
    "        #make the axial_acl_model vote for the final decision \n",
    "        if(axial_abnormal_prediction[i]>0.5):\n",
    "            voting_list[1] +=1\n",
    "        else:\n",
    "            voting_list[0] += 1\n",
    "    \n",
    "        #make the coronal_acl_model vote for the final decision \n",
    "        if(coronal_abnormal_prediction[i]>0.5):\n",
    "            voting_list[1] +=1\n",
    "        else:\n",
    "            voting_list[0] += 1\n",
    "            \n",
    "        #make the sagittal_acl_model vote for the final decision \n",
    "        if(sagittal_abnormal_prediction[i]>0.5):\n",
    "            voting_list[1] +=1\n",
    "        else:\n",
    "            voting_list[0] += 1\n",
    "        \n",
    "        #give the exam the prediction that has the most votes\n",
    "        predict_voting.append(np.argmax(voting_list))\n",
    "    \n",
    "  \n",
    "    return accuracy_score(ground_truth, np.array(predict_voting)) * 100"
   ]
  },
  {
   "cell_type": "code",
   "execution_count": 0,
   "metadata": {
    "colab": {},
    "colab_type": "code",
    "id": "41dMCBZleZgS"
   },
   "outputs": [],
   "source": [
    "#predict if the knee has an acl tear by using the data of the 3 knee angel (axial, coronal & sagittal)\n",
    "#and the 3 models that accept one of these data and predict if the knee has an acl tear or not\n",
    "#by doing a majority voting between the 3 models\n",
    "def predict_acl(axial_input, coronal_input, sagittal_input, ground_truth):\n",
    "    axial_acl_prediction = axial_acl_model.predict(axial_input)\n",
    "    coronal_acl_prediction = coronal_acl_model.predict(coronal_input)\n",
    "    sagittal_acl_prediction = sagittal_acl_model.predict(sagittal_input)\n",
    "    \n",
    "    #to say that the exam has the acl tear or not, each of the models will vote in this decision\n",
    "    #and the final decision will be made by taking the max vote\n",
    "    predict_voting = []\n",
    "    for i in range (len(axial_acl_prediction)):\n",
    "        voting_list =[0, 0] \n",
    "        \n",
    "        #make the axial_acl_model vote for the final decision \n",
    "        if(axial_acl_prediction[i]>0.5):\n",
    "            voting_list[1] +=1\n",
    "        else:\n",
    "            voting_list[0] += 1\n",
    "    \n",
    "        #make the coronal_acl_model vote for the final decision \n",
    "        if(coronal_acl_prediction[i]>0.5):\n",
    "            voting_list[1] +=1\n",
    "        else:\n",
    "            voting_list[0] += 1\n",
    "            \n",
    "        #make the sagittal_acl_model vote for the final decision \n",
    "        if(sagittal_acl_prediction[i]>0.5):\n",
    "            voting_list[1] +=1\n",
    "        else:\n",
    "            voting_list[0] += 1\n",
    "        \n",
    "        #give the exam the prediction that has the most votes\n",
    "        predict_voting.append(np.argmax(voting_list))\n",
    "    \n",
    "  \n",
    "    return accuracy_score(ground_truth, np.array(predict_voting)) * 100"
   ]
  },
  {
   "cell_type": "code",
   "execution_count": 0,
   "metadata": {
    "colab": {},
    "colab_type": "code",
    "id": "H_kbSJWyeZkB"
   },
   "outputs": [],
   "source": [
    "#predict if the knee has an meniscus tear by using the data of the 3 knee angel (axial, coronal & sagittal)\n",
    "#and the 3 models that accept one of these data and predict if the knee has an meniscus tear or not\n",
    "#by doing a majority voting between the 3 models\n",
    "def predict_meniscus(axial_input, coronal_input, sagittal_input, ground_truth):\n",
    "    axial_meniscus_prediction = axial_meniscus_model.predict(axial_input)\n",
    "    coronal_meniscus_prediction = coronal_meniscus_model.predict(coronal_input)\n",
    "    sagittal_meniscus_prediction = sagittal_meniscus_model.predict(sagittal_input)\n",
    "    \n",
    "    #to say that the exam has the meniscus tear or not, each of the models will vote in this decision\n",
    "    #and the final decision will be made by taking the max vote\n",
    "    predict_voting = []\n",
    "    for i in range (len(axial_meniscus_prediction)):\n",
    "        voting_list =[0, 0] \n",
    "        \n",
    "        #make the axial_meniscus_model vote for the final decision \n",
    "        if(axial_meniscus_prediction[i]>0.5):\n",
    "            voting_list[1] +=1\n",
    "        else:\n",
    "            voting_list[0] += 1\n",
    "    \n",
    "        #make the coronal_meniscus_model vote for the final decision \n",
    "        if(coronal_meniscus_prediction[i]>0.5):\n",
    "            voting_list[1] +=1\n",
    "        else:\n",
    "            voting_list[0] += 1\n",
    "            \n",
    "        #make the sagittal_meniscus_model vote for the final decision \n",
    "        if(sagittal_meniscus_prediction[i]>0.5):\n",
    "            voting_list[1] +=1\n",
    "        else:\n",
    "            voting_list[0] += 1\n",
    "        \n",
    "        #give the exam the prediction that has the most votes\n",
    "        predict_voting.append(np.argmax(voting_list))\n",
    "    \n",
    "  \n",
    "    return accuracy_score(ground_truth, np.array(predict_voting)) * 100"
   ]
  },
  {
   "cell_type": "code",
   "execution_count": 0,
   "metadata": {
    "colab": {},
    "colab_type": "code",
    "id": "ZFK0To77elJL"
   },
   "outputs": [],
   "source": [
    "#evaluate the abnormal ensemble models\n",
    "print (predict_abnormal(test_set_axial, test_set_coronal, test_set_sagittal, test_label_abnormal))"
   ]
  },
  {
   "cell_type": "code",
   "execution_count": 0,
   "metadata": {
    "colab": {},
    "colab_type": "code",
    "id": "sK1HlpfmelMb"
   },
   "outputs": [],
   "source": [
    "#evaluate the acl ensemble models\n",
    "print (predict_acl(test_set_axial, test_set_coronal, test_set_sagittal, test_label_acl))"
   ]
  },
  {
   "cell_type": "code",
   "execution_count": 0,
   "metadata": {
    "colab": {},
    "colab_type": "code",
    "id": "HIxG9mqielPy"
   },
   "outputs": [],
   "source": [
    "#evaluate the meniscus ensemble models\n",
    "print (predict_meniscus(test_set_axial, test_set_coronal, test_set_sagittal, test_label_meniscus))"
   ]
  }
 ],
 "metadata": {
  "accelerator": "GPU",
  "colab": {
   "collapsed_sections": [],
   "name": "MRNet2.ipynb",
   "provenance": [],
   "version": "0.3.2"
  },
  "kernelspec": {
   "display_name": "Python 3",
   "language": "python",
   "name": "python3"
  },
  "language_info": {
   "codemirror_mode": {
    "name": "ipython",
    "version": 3
   },
   "file_extension": ".py",
   "mimetype": "text/x-python",
   "name": "python",
   "nbconvert_exporter": "python",
   "pygments_lexer": "ipython3",
   "version": "3.7.3"
  }
 },
 "nbformat": 4,
 "nbformat_minor": 1
}
