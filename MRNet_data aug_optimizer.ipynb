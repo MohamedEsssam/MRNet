{
 "cells": [
  {
   "cell_type": "code",
   "execution_count": 1,
   "metadata": {
    "colab": {
     "base_uri": "https://localhost:8080/",
     "height": 35
    },
    "colab_type": "code",
    "id": "VgPa4TB6FGYm",
    "outputId": "c2496254-abc4-4088-e084-7cad94fa972c"
   },
   "outputs": [
    {
     "name": "stderr",
     "output_type": "stream",
     "text": [
      "Using TensorFlow backend.\n"
     ]
    }
   ],
   "source": [
    "from google.colab import drive\n",
    "import numpy as np\n",
    "import matplotlib\n",
    "import matplotlib.pyplot as plt\n",
    "import matplotlib as mpl\n",
    "import glob\n",
    "from sklearn.preprocessing import normalize\n",
    "import gc\n",
    "from keras.applications.nasnet import NASNetMobile\n",
    "from keras.applications.inception_v3 import InceptionV3\n",
    "from keras.layers import Input, Dense, Flatten, GlobalAveragePooling2D, GlobalMaxPooling2D \n",
    "from keras.models import Model\n",
    "from keras.optimizers import Adam\n",
    "from sklearn.model_selection import train_test_split\n",
    "from keras.callbacks import EarlyStopping, ModelCheckpoint, Callback\n",
    "from keras.models import load_model\n",
    "from keras.layers import Dropout\n",
    "from keras import backend as K\n",
    "from sklearn.metrics import accuracy_score, confusion_matrix, f1_score, precision_score, recall_score\n",
    "from keras.preprocessing.image import ImageDataGenerator"
   ]
  },
  {
   "cell_type": "code",
   "execution_count": 2,
   "metadata": {
    "colab": {
     "base_uri": "https://localhost:8080/",
     "height": 128
    },
    "colab_type": "code",
    "id": "wr4vmtAHFWd6",
    "outputId": "9a8f2a31-b2b8-4dd1-d1e2-b2a0e01bad97"
   },
   "outputs": [
    {
     "name": "stdout",
     "output_type": "stream",
     "text": [
      "Go to this URL in a browser: https://accounts.google.com/o/oauth2/auth?client_id=947318989803-6bn6qk8qdgf4n4g3pfee6491hc0brc4i.apps.googleusercontent.com&redirect_uri=urn%3Aietf%3Awg%3Aoauth%3A2.0%3Aoob&scope=email%20https%3A%2F%2Fwww.googleapis.com%2Fauth%2Fdocs.test%20https%3A%2F%2Fwww.googleapis.com%2Fauth%2Fdrive%20https%3A%2F%2Fwww.googleapis.com%2Fauth%2Fdrive.photos.readonly%20https%3A%2F%2Fwww.googleapis.com%2Fauth%2Fpeopleapi.readonly&response_type=code\n",
      "\n",
      "Enter your authorization code:\n",
      "··········\n",
      "Mounted at /content/drive\n"
     ]
    }
   ],
   "source": [
    "drive.mount('/content/drive')\n",
    "root_path = 'drive/My Drive/Colab Notebooks/'"
   ]
  },
  {
   "cell_type": "code",
   "execution_count": 3,
   "metadata": {
    "colab": {
     "base_uri": "https://localhost:8080/",
     "height": 35
    },
    "colab_type": "code",
    "id": "IGZvfyYLFfOA",
    "outputId": "a97f61d7-1c4a-49e2-887a-36d5ba96c92d"
   },
   "outputs": [
    {
     "name": "stdout",
     "output_type": "stream",
     "text": [
      "/content/drive/My Drive/Colab Notebooks\n"
     ]
    }
   ],
   "source": [
    "cd drive/My Drive/Colab Notebooks"
   ]
  },
  {
   "cell_type": "code",
   "execution_count": 0,
   "metadata": {
    "colab": {},
    "colab_type": "code",
    "id": "0IZsEifGF6xD"
   },
   "outputs": [],
   "source": [
    "#load the training data of one single angle of the exams (axial | coronal | sagittal) by giving the angle name\n",
    "def trainingSet(file_name):\n",
    "    training_set = []\n",
    "    for np_name in sorted(glob.glob('MRNet-v1.0/train/'+file_name+'/*.npy')):\n",
    "        training_set.append(np.load(np_name))\n",
    "    return training_set  "
   ]
  },
  {
   "cell_type": "code",
   "execution_count": 0,
   "metadata": {
    "colab": {},
    "colab_type": "code",
    "id": "hDEOQ3sUG-JL"
   },
   "outputs": [],
   "source": [
    "#load the labels of one knee tear(abnormal | acl | meniscus) by the giving the file name that contains the labels\n",
    "def load_labels(train_file_name, append_num):\n",
    "    training_labels = np.loadtxt(train_file_name, delimiter=',')[:,1]\n",
    "    label_list =  training_labels\n",
    "    \n",
    "    #repeat the labels \"append_num - 1\" times\n",
    "    for i in range(append_num - 1):\n",
    "        training_labels = np.concatenate((training_labels, label_list))\n",
    "  \n",
    "    return training_labels"
   ]
  },
  {
   "cell_type": "code",
   "execution_count": 0,
   "metadata": {
    "colab": {},
    "colab_type": "code",
    "id": "MA0X0JzCNfXX"
   },
   "outputs": [],
   "source": [
    "#as each exam (stack) contains S slices and most of the pretrained CNN models accept the image with channel = 3\n",
    "#extract the middle 3 slices as most of the time they deside if the patiant has a certain tear or not\n",
    "def extract_3(dataset, data_size):\n",
    "    for i in range(len(dataset)):\n",
    "        dataset[i] = list(dataset[i])\n",
    "        middel_idx = int(len(dataset[i]) / 2)\n",
    "        dataset[i] = dataset[i][middel_idx - 1 : middel_idx + 2]\n",
    "        dataset[i] = np.array(dataset[i])\n",
    "    dataset = np.array(dataset)\n",
    "    dataset = dataset.reshape(data_size, 256, 256 ,3)\n",
    "    return dataset"
   ]
  },
  {
   "cell_type": "code",
   "execution_count": 0,
   "metadata": {
    "colab": {},
    "colab_type": "code",
    "id": "wJDJCQrObXw6"
   },
   "outputs": [],
   "source": [
    "datagen = ImageDataGenerator(\n",
    "        rotation_range = 5,\n",
    "        width_shift_range = 0.05,\n",
    "        height_shift_range = 0.05,\n",
    "        zoom_range = 0.01,\n",
    "        fill_mode='nearest')"
   ]
  },
  {
   "cell_type": "code",
   "execution_count": 0,
   "metadata": {
    "colab": {},
    "colab_type": "code",
    "id": "D08Va12ObX8w"
   },
   "outputs": [],
   "source": [
    "#\"data_augmentation\" used to increase the size of the dataset and make some changes in the features of the data\n",
    "#\"datagen\" take \"batch_size\" of the \"dataset\" and make some changes to this batch and return it to be stored\n",
    "#the previous steb will be repeated until the new dataset size equals the size of the original data * \"repeat_num\"\n",
    "def data_augmentation(dataset, repeat_num):\n",
    "    augmented_data = []\n",
    "    num_augmented = 0\n",
    "    for X_batch in datagen.flow(dataset, batch_size= dataset.shape[0], shuffle=False):\n",
    "        augmented_data.append(X_batch)\n",
    "        num_augmented += dataset.shape[0]\n",
    "        if num_augmented == dataset.shape[0] * repeat_num:\n",
    "            break\n",
    "          \n",
    "    return np.array(augmented_data).reshape(num_augmented, 256, 256, 3)"
   ]
  },
  {
   "cell_type": "code",
   "execution_count": 9,
   "metadata": {
    "colab": {
     "base_uri": "https://localhost:8080/",
     "height": 12401
    },
    "colab_type": "code",
    "id": "9fXZ-LbeKhR0",
    "outputId": "05331d35-5861-438d-8bb7-3e7eaf2f699f"
   },
   "outputs": [
    {
     "name": "stdout",
     "output_type": "stream",
     "text": [
      "WARNING:tensorflow:From /usr/local/lib/python3.6/dist-packages/tensorflow/python/framework/op_def_library.py:263: colocate_with (from tensorflow.python.framework.ops) is deprecated and will be removed in a future version.\n",
      "Instructions for updating:\n",
      "Colocations handled automatically by placer.\n",
      "Downloading data from https://github.com/fchollet/deep-learning-models/releases/download/v0.5/inception_v3_weights_tf_dim_ordering_tf_kernels_notop.h5\n",
      "87916544/87910968 [==============================] - 1s 0us/step\n",
      "__________________________________________________________________________________________________\n",
      "Layer (type)                    Output Shape         Param #     Connected to                     \n",
      "==================================================================================================\n",
      "input_1 (InputLayer)            (None, 256, 256, 3)  0                                            \n",
      "__________________________________________________________________________________________________\n",
      "conv2d_1 (Conv2D)               (None, 127, 127, 32) 864         input_1[0][0]                    \n",
      "__________________________________________________________________________________________________\n",
      "batch_normalization_1 (BatchNor (None, 127, 127, 32) 96          conv2d_1[0][0]                   \n",
      "__________________________________________________________________________________________________\n",
      "activation_1 (Activation)       (None, 127, 127, 32) 0           batch_normalization_1[0][0]      \n",
      "__________________________________________________________________________________________________\n",
      "conv2d_2 (Conv2D)               (None, 125, 125, 32) 9216        activation_1[0][0]               \n",
      "__________________________________________________________________________________________________\n",
      "batch_normalization_2 (BatchNor (None, 125, 125, 32) 96          conv2d_2[0][0]                   \n",
      "__________________________________________________________________________________________________\n",
      "activation_2 (Activation)       (None, 125, 125, 32) 0           batch_normalization_2[0][0]      \n",
      "__________________________________________________________________________________________________\n",
      "conv2d_3 (Conv2D)               (None, 125, 125, 64) 18432       activation_2[0][0]               \n",
      "__________________________________________________________________________________________________\n",
      "batch_normalization_3 (BatchNor (None, 125, 125, 64) 192         conv2d_3[0][0]                   \n",
      "__________________________________________________________________________________________________\n",
      "activation_3 (Activation)       (None, 125, 125, 64) 0           batch_normalization_3[0][0]      \n",
      "__________________________________________________________________________________________________\n",
      "max_pooling2d_1 (MaxPooling2D)  (None, 62, 62, 64)   0           activation_3[0][0]               \n",
      "__________________________________________________________________________________________________\n",
      "conv2d_4 (Conv2D)               (None, 62, 62, 80)   5120        max_pooling2d_1[0][0]            \n",
      "__________________________________________________________________________________________________\n",
      "batch_normalization_4 (BatchNor (None, 62, 62, 80)   240         conv2d_4[0][0]                   \n",
      "__________________________________________________________________________________________________\n",
      "activation_4 (Activation)       (None, 62, 62, 80)   0           batch_normalization_4[0][0]      \n",
      "__________________________________________________________________________________________________\n",
      "conv2d_5 (Conv2D)               (None, 60, 60, 192)  138240      activation_4[0][0]               \n",
      "__________________________________________________________________________________________________\n",
      "batch_normalization_5 (BatchNor (None, 60, 60, 192)  576         conv2d_5[0][0]                   \n",
      "__________________________________________________________________________________________________\n",
      "activation_5 (Activation)       (None, 60, 60, 192)  0           batch_normalization_5[0][0]      \n",
      "__________________________________________________________________________________________________\n",
      "max_pooling2d_2 (MaxPooling2D)  (None, 29, 29, 192)  0           activation_5[0][0]               \n",
      "__________________________________________________________________________________________________\n",
      "conv2d_9 (Conv2D)               (None, 29, 29, 64)   12288       max_pooling2d_2[0][0]            \n",
      "__________________________________________________________________________________________________\n",
      "batch_normalization_9 (BatchNor (None, 29, 29, 64)   192         conv2d_9[0][0]                   \n",
      "__________________________________________________________________________________________________\n",
      "activation_9 (Activation)       (None, 29, 29, 64)   0           batch_normalization_9[0][0]      \n",
      "__________________________________________________________________________________________________\n",
      "conv2d_7 (Conv2D)               (None, 29, 29, 48)   9216        max_pooling2d_2[0][0]            \n",
      "__________________________________________________________________________________________________\n",
      "conv2d_10 (Conv2D)              (None, 29, 29, 96)   55296       activation_9[0][0]               \n",
      "__________________________________________________________________________________________________\n",
      "batch_normalization_7 (BatchNor (None, 29, 29, 48)   144         conv2d_7[0][0]                   \n",
      "__________________________________________________________________________________________________\n",
      "batch_normalization_10 (BatchNo (None, 29, 29, 96)   288         conv2d_10[0][0]                  \n",
      "__________________________________________________________________________________________________\n",
      "activation_7 (Activation)       (None, 29, 29, 48)   0           batch_normalization_7[0][0]      \n",
      "__________________________________________________________________________________________________\n",
      "activation_10 (Activation)      (None, 29, 29, 96)   0           batch_normalization_10[0][0]     \n",
      "__________________________________________________________________________________________________\n",
      "average_pooling2d_1 (AveragePoo (None, 29, 29, 192)  0           max_pooling2d_2[0][0]            \n",
      "__________________________________________________________________________________________________\n",
      "conv2d_6 (Conv2D)               (None, 29, 29, 64)   12288       max_pooling2d_2[0][0]            \n",
      "__________________________________________________________________________________________________\n",
      "conv2d_8 (Conv2D)               (None, 29, 29, 64)   76800       activation_7[0][0]               \n",
      "__________________________________________________________________________________________________\n",
      "conv2d_11 (Conv2D)              (None, 29, 29, 96)   82944       activation_10[0][0]              \n",
      "__________________________________________________________________________________________________\n",
      "conv2d_12 (Conv2D)              (None, 29, 29, 32)   6144        average_pooling2d_1[0][0]        \n",
      "__________________________________________________________________________________________________\n",
      "batch_normalization_6 (BatchNor (None, 29, 29, 64)   192         conv2d_6[0][0]                   \n",
      "__________________________________________________________________________________________________\n",
      "batch_normalization_8 (BatchNor (None, 29, 29, 64)   192         conv2d_8[0][0]                   \n",
      "__________________________________________________________________________________________________\n",
      "batch_normalization_11 (BatchNo (None, 29, 29, 96)   288         conv2d_11[0][0]                  \n",
      "__________________________________________________________________________________________________\n",
      "batch_normalization_12 (BatchNo (None, 29, 29, 32)   96          conv2d_12[0][0]                  \n",
      "__________________________________________________________________________________________________\n",
      "activation_6 (Activation)       (None, 29, 29, 64)   0           batch_normalization_6[0][0]      \n",
      "__________________________________________________________________________________________________\n",
      "activation_8 (Activation)       (None, 29, 29, 64)   0           batch_normalization_8[0][0]      \n",
      "__________________________________________________________________________________________________\n",
      "activation_11 (Activation)      (None, 29, 29, 96)   0           batch_normalization_11[0][0]     \n",
      "__________________________________________________________________________________________________\n",
      "activation_12 (Activation)      (None, 29, 29, 32)   0           batch_normalization_12[0][0]     \n",
      "__________________________________________________________________________________________________\n",
      "mixed0 (Concatenate)            (None, 29, 29, 256)  0           activation_6[0][0]               \n",
      "                                                                 activation_8[0][0]               \n",
      "                                                                 activation_11[0][0]              \n",
      "                                                                 activation_12[0][0]              \n",
      "__________________________________________________________________________________________________\n",
      "conv2d_16 (Conv2D)              (None, 29, 29, 64)   16384       mixed0[0][0]                     \n",
      "__________________________________________________________________________________________________\n",
      "batch_normalization_16 (BatchNo (None, 29, 29, 64)   192         conv2d_16[0][0]                  \n",
      "__________________________________________________________________________________________________\n",
      "activation_16 (Activation)      (None, 29, 29, 64)   0           batch_normalization_16[0][0]     \n",
      "__________________________________________________________________________________________________\n",
      "conv2d_14 (Conv2D)              (None, 29, 29, 48)   12288       mixed0[0][0]                     \n",
      "__________________________________________________________________________________________________\n",
      "conv2d_17 (Conv2D)              (None, 29, 29, 96)   55296       activation_16[0][0]              \n",
      "__________________________________________________________________________________________________\n",
      "batch_normalization_14 (BatchNo (None, 29, 29, 48)   144         conv2d_14[0][0]                  \n",
      "__________________________________________________________________________________________________\n",
      "batch_normalization_17 (BatchNo (None, 29, 29, 96)   288         conv2d_17[0][0]                  \n",
      "__________________________________________________________________________________________________\n",
      "activation_14 (Activation)      (None, 29, 29, 48)   0           batch_normalization_14[0][0]     \n",
      "__________________________________________________________________________________________________\n",
      "activation_17 (Activation)      (None, 29, 29, 96)   0           batch_normalization_17[0][0]     \n",
      "__________________________________________________________________________________________________\n",
      "average_pooling2d_2 (AveragePoo (None, 29, 29, 256)  0           mixed0[0][0]                     \n",
      "__________________________________________________________________________________________________\n",
      "conv2d_13 (Conv2D)              (None, 29, 29, 64)   16384       mixed0[0][0]                     \n",
      "__________________________________________________________________________________________________\n",
      "conv2d_15 (Conv2D)              (None, 29, 29, 64)   76800       activation_14[0][0]              \n",
      "__________________________________________________________________________________________________\n",
      "conv2d_18 (Conv2D)              (None, 29, 29, 96)   82944       activation_17[0][0]              \n",
      "__________________________________________________________________________________________________\n",
      "conv2d_19 (Conv2D)              (None, 29, 29, 64)   16384       average_pooling2d_2[0][0]        \n",
      "__________________________________________________________________________________________________\n",
      "batch_normalization_13 (BatchNo (None, 29, 29, 64)   192         conv2d_13[0][0]                  \n",
      "__________________________________________________________________________________________________\n",
      "batch_normalization_15 (BatchNo (None, 29, 29, 64)   192         conv2d_15[0][0]                  \n",
      "__________________________________________________________________________________________________\n",
      "batch_normalization_18 (BatchNo (None, 29, 29, 96)   288         conv2d_18[0][0]                  \n",
      "__________________________________________________________________________________________________\n",
      "batch_normalization_19 (BatchNo (None, 29, 29, 64)   192         conv2d_19[0][0]                  \n",
      "__________________________________________________________________________________________________\n",
      "activation_13 (Activation)      (None, 29, 29, 64)   0           batch_normalization_13[0][0]     \n",
      "__________________________________________________________________________________________________\n",
      "activation_15 (Activation)      (None, 29, 29, 64)   0           batch_normalization_15[0][0]     \n",
      "__________________________________________________________________________________________________\n",
      "activation_18 (Activation)      (None, 29, 29, 96)   0           batch_normalization_18[0][0]     \n",
      "__________________________________________________________________________________________________\n",
      "activation_19 (Activation)      (None, 29, 29, 64)   0           batch_normalization_19[0][0]     \n",
      "__________________________________________________________________________________________________\n",
      "mixed1 (Concatenate)            (None, 29, 29, 288)  0           activation_13[0][0]              \n",
      "                                                                 activation_15[0][0]              \n",
      "                                                                 activation_18[0][0]              \n",
      "                                                                 activation_19[0][0]              \n",
      "__________________________________________________________________________________________________\n",
      "conv2d_23 (Conv2D)              (None, 29, 29, 64)   18432       mixed1[0][0]                     \n",
      "__________________________________________________________________________________________________\n",
      "batch_normalization_23 (BatchNo (None, 29, 29, 64)   192         conv2d_23[0][0]                  \n",
      "__________________________________________________________________________________________________\n",
      "activation_23 (Activation)      (None, 29, 29, 64)   0           batch_normalization_23[0][0]     \n",
      "__________________________________________________________________________________________________\n",
      "conv2d_21 (Conv2D)              (None, 29, 29, 48)   13824       mixed1[0][0]                     \n",
      "__________________________________________________________________________________________________\n",
      "conv2d_24 (Conv2D)              (None, 29, 29, 96)   55296       activation_23[0][0]              \n",
      "__________________________________________________________________________________________________\n",
      "batch_normalization_21 (BatchNo (None, 29, 29, 48)   144         conv2d_21[0][0]                  \n",
      "__________________________________________________________________________________________________\n",
      "batch_normalization_24 (BatchNo (None, 29, 29, 96)   288         conv2d_24[0][0]                  \n",
      "__________________________________________________________________________________________________\n",
      "activation_21 (Activation)      (None, 29, 29, 48)   0           batch_normalization_21[0][0]     \n",
      "__________________________________________________________________________________________________\n",
      "activation_24 (Activation)      (None, 29, 29, 96)   0           batch_normalization_24[0][0]     \n",
      "__________________________________________________________________________________________________\n",
      "average_pooling2d_3 (AveragePoo (None, 29, 29, 288)  0           mixed1[0][0]                     \n",
      "__________________________________________________________________________________________________\n",
      "conv2d_20 (Conv2D)              (None, 29, 29, 64)   18432       mixed1[0][0]                     \n",
      "__________________________________________________________________________________________________\n",
      "conv2d_22 (Conv2D)              (None, 29, 29, 64)   76800       activation_21[0][0]              \n",
      "__________________________________________________________________________________________________\n",
      "conv2d_25 (Conv2D)              (None, 29, 29, 96)   82944       activation_24[0][0]              \n",
      "__________________________________________________________________________________________________\n",
      "conv2d_26 (Conv2D)              (None, 29, 29, 64)   18432       average_pooling2d_3[0][0]        \n",
      "__________________________________________________________________________________________________\n",
      "batch_normalization_20 (BatchNo (None, 29, 29, 64)   192         conv2d_20[0][0]                  \n",
      "__________________________________________________________________________________________________\n",
      "batch_normalization_22 (BatchNo (None, 29, 29, 64)   192         conv2d_22[0][0]                  \n",
      "__________________________________________________________________________________________________\n",
      "batch_normalization_25 (BatchNo (None, 29, 29, 96)   288         conv2d_25[0][0]                  \n",
      "__________________________________________________________________________________________________\n",
      "batch_normalization_26 (BatchNo (None, 29, 29, 64)   192         conv2d_26[0][0]                  \n",
      "__________________________________________________________________________________________________\n",
      "activation_20 (Activation)      (None, 29, 29, 64)   0           batch_normalization_20[0][0]     \n",
      "__________________________________________________________________________________________________\n",
      "activation_22 (Activation)      (None, 29, 29, 64)   0           batch_normalization_22[0][0]     \n",
      "__________________________________________________________________________________________________\n",
      "activation_25 (Activation)      (None, 29, 29, 96)   0           batch_normalization_25[0][0]     \n",
      "__________________________________________________________________________________________________\n",
      "activation_26 (Activation)      (None, 29, 29, 64)   0           batch_normalization_26[0][0]     \n",
      "__________________________________________________________________________________________________\n",
      "mixed2 (Concatenate)            (None, 29, 29, 288)  0           activation_20[0][0]              \n",
      "                                                                 activation_22[0][0]              \n",
      "                                                                 activation_25[0][0]              \n",
      "                                                                 activation_26[0][0]              \n",
      "__________________________________________________________________________________________________\n",
      "conv2d_28 (Conv2D)              (None, 29, 29, 64)   18432       mixed2[0][0]                     \n",
      "__________________________________________________________________________________________________\n",
      "batch_normalization_28 (BatchNo (None, 29, 29, 64)   192         conv2d_28[0][0]                  \n",
      "__________________________________________________________________________________________________\n",
      "activation_28 (Activation)      (None, 29, 29, 64)   0           batch_normalization_28[0][0]     \n",
      "__________________________________________________________________________________________________\n",
      "conv2d_29 (Conv2D)              (None, 29, 29, 96)   55296       activation_28[0][0]              \n",
      "__________________________________________________________________________________________________\n",
      "batch_normalization_29 (BatchNo (None, 29, 29, 96)   288         conv2d_29[0][0]                  \n",
      "__________________________________________________________________________________________________\n",
      "activation_29 (Activation)      (None, 29, 29, 96)   0           batch_normalization_29[0][0]     \n",
      "__________________________________________________________________________________________________\n",
      "conv2d_27 (Conv2D)              (None, 14, 14, 384)  995328      mixed2[0][0]                     \n",
      "__________________________________________________________________________________________________\n",
      "conv2d_30 (Conv2D)              (None, 14, 14, 96)   82944       activation_29[0][0]              \n",
      "__________________________________________________________________________________________________\n",
      "batch_normalization_27 (BatchNo (None, 14, 14, 384)  1152        conv2d_27[0][0]                  \n",
      "__________________________________________________________________________________________________\n",
      "batch_normalization_30 (BatchNo (None, 14, 14, 96)   288         conv2d_30[0][0]                  \n",
      "__________________________________________________________________________________________________\n",
      "activation_27 (Activation)      (None, 14, 14, 384)  0           batch_normalization_27[0][0]     \n",
      "__________________________________________________________________________________________________\n",
      "activation_30 (Activation)      (None, 14, 14, 96)   0           batch_normalization_30[0][0]     \n",
      "__________________________________________________________________________________________________\n",
      "max_pooling2d_3 (MaxPooling2D)  (None, 14, 14, 288)  0           mixed2[0][0]                     \n",
      "__________________________________________________________________________________________________\n",
      "mixed3 (Concatenate)            (None, 14, 14, 768)  0           activation_27[0][0]              \n",
      "                                                                 activation_30[0][0]              \n",
      "                                                                 max_pooling2d_3[0][0]            \n",
      "__________________________________________________________________________________________________\n",
      "conv2d_35 (Conv2D)              (None, 14, 14, 128)  98304       mixed3[0][0]                     \n",
      "__________________________________________________________________________________________________\n",
      "batch_normalization_35 (BatchNo (None, 14, 14, 128)  384         conv2d_35[0][0]                  \n",
      "__________________________________________________________________________________________________\n",
      "activation_35 (Activation)      (None, 14, 14, 128)  0           batch_normalization_35[0][0]     \n",
      "__________________________________________________________________________________________________\n",
      "conv2d_36 (Conv2D)              (None, 14, 14, 128)  114688      activation_35[0][0]              \n",
      "__________________________________________________________________________________________________\n",
      "batch_normalization_36 (BatchNo (None, 14, 14, 128)  384         conv2d_36[0][0]                  \n",
      "__________________________________________________________________________________________________\n",
      "activation_36 (Activation)      (None, 14, 14, 128)  0           batch_normalization_36[0][0]     \n",
      "__________________________________________________________________________________________________\n",
      "conv2d_32 (Conv2D)              (None, 14, 14, 128)  98304       mixed3[0][0]                     \n",
      "__________________________________________________________________________________________________\n",
      "conv2d_37 (Conv2D)              (None, 14, 14, 128)  114688      activation_36[0][0]              \n",
      "__________________________________________________________________________________________________\n",
      "batch_normalization_32 (BatchNo (None, 14, 14, 128)  384         conv2d_32[0][0]                  \n",
      "__________________________________________________________________________________________________\n",
      "batch_normalization_37 (BatchNo (None, 14, 14, 128)  384         conv2d_37[0][0]                  \n",
      "__________________________________________________________________________________________________\n",
      "activation_32 (Activation)      (None, 14, 14, 128)  0           batch_normalization_32[0][0]     \n",
      "__________________________________________________________________________________________________\n",
      "activation_37 (Activation)      (None, 14, 14, 128)  0           batch_normalization_37[0][0]     \n",
      "__________________________________________________________________________________________________\n",
      "conv2d_33 (Conv2D)              (None, 14, 14, 128)  114688      activation_32[0][0]              \n",
      "__________________________________________________________________________________________________\n",
      "conv2d_38 (Conv2D)              (None, 14, 14, 128)  114688      activation_37[0][0]              \n",
      "__________________________________________________________________________________________________\n",
      "batch_normalization_33 (BatchNo (None, 14, 14, 128)  384         conv2d_33[0][0]                  \n",
      "__________________________________________________________________________________________________\n",
      "batch_normalization_38 (BatchNo (None, 14, 14, 128)  384         conv2d_38[0][0]                  \n",
      "__________________________________________________________________________________________________\n",
      "activation_33 (Activation)      (None, 14, 14, 128)  0           batch_normalization_33[0][0]     \n",
      "__________________________________________________________________________________________________\n",
      "activation_38 (Activation)      (None, 14, 14, 128)  0           batch_normalization_38[0][0]     \n",
      "__________________________________________________________________________________________________\n",
      "average_pooling2d_4 (AveragePoo (None, 14, 14, 768)  0           mixed3[0][0]                     \n",
      "__________________________________________________________________________________________________\n",
      "conv2d_31 (Conv2D)              (None, 14, 14, 192)  147456      mixed3[0][0]                     \n",
      "__________________________________________________________________________________________________\n",
      "conv2d_34 (Conv2D)              (None, 14, 14, 192)  172032      activation_33[0][0]              \n",
      "__________________________________________________________________________________________________\n",
      "conv2d_39 (Conv2D)              (None, 14, 14, 192)  172032      activation_38[0][0]              \n",
      "__________________________________________________________________________________________________\n",
      "conv2d_40 (Conv2D)              (None, 14, 14, 192)  147456      average_pooling2d_4[0][0]        \n",
      "__________________________________________________________________________________________________\n",
      "batch_normalization_31 (BatchNo (None, 14, 14, 192)  576         conv2d_31[0][0]                  \n",
      "__________________________________________________________________________________________________\n",
      "batch_normalization_34 (BatchNo (None, 14, 14, 192)  576         conv2d_34[0][0]                  \n",
      "__________________________________________________________________________________________________\n",
      "batch_normalization_39 (BatchNo (None, 14, 14, 192)  576         conv2d_39[0][0]                  \n",
      "__________________________________________________________________________________________________\n",
      "batch_normalization_40 (BatchNo (None, 14, 14, 192)  576         conv2d_40[0][0]                  \n",
      "__________________________________________________________________________________________________\n",
      "activation_31 (Activation)      (None, 14, 14, 192)  0           batch_normalization_31[0][0]     \n",
      "__________________________________________________________________________________________________\n",
      "activation_34 (Activation)      (None, 14, 14, 192)  0           batch_normalization_34[0][0]     \n",
      "__________________________________________________________________________________________________\n",
      "activation_39 (Activation)      (None, 14, 14, 192)  0           batch_normalization_39[0][0]     \n",
      "__________________________________________________________________________________________________\n",
      "activation_40 (Activation)      (None, 14, 14, 192)  0           batch_normalization_40[0][0]     \n",
      "__________________________________________________________________________________________________\n",
      "mixed4 (Concatenate)            (None, 14, 14, 768)  0           activation_31[0][0]              \n",
      "                                                                 activation_34[0][0]              \n",
      "                                                                 activation_39[0][0]              \n",
      "                                                                 activation_40[0][0]              \n",
      "__________________________________________________________________________________________________\n",
      "conv2d_45 (Conv2D)              (None, 14, 14, 160)  122880      mixed4[0][0]                     \n",
      "__________________________________________________________________________________________________\n",
      "batch_normalization_45 (BatchNo (None, 14, 14, 160)  480         conv2d_45[0][0]                  \n",
      "__________________________________________________________________________________________________\n",
      "activation_45 (Activation)      (None, 14, 14, 160)  0           batch_normalization_45[0][0]     \n",
      "__________________________________________________________________________________________________\n",
      "conv2d_46 (Conv2D)              (None, 14, 14, 160)  179200      activation_45[0][0]              \n",
      "__________________________________________________________________________________________________\n",
      "batch_normalization_46 (BatchNo (None, 14, 14, 160)  480         conv2d_46[0][0]                  \n",
      "__________________________________________________________________________________________________\n",
      "activation_46 (Activation)      (None, 14, 14, 160)  0           batch_normalization_46[0][0]     \n",
      "__________________________________________________________________________________________________\n",
      "conv2d_42 (Conv2D)              (None, 14, 14, 160)  122880      mixed4[0][0]                     \n",
      "__________________________________________________________________________________________________\n",
      "conv2d_47 (Conv2D)              (None, 14, 14, 160)  179200      activation_46[0][0]              \n",
      "__________________________________________________________________________________________________\n",
      "batch_normalization_42 (BatchNo (None, 14, 14, 160)  480         conv2d_42[0][0]                  \n",
      "__________________________________________________________________________________________________\n",
      "batch_normalization_47 (BatchNo (None, 14, 14, 160)  480         conv2d_47[0][0]                  \n",
      "__________________________________________________________________________________________________\n",
      "activation_42 (Activation)      (None, 14, 14, 160)  0           batch_normalization_42[0][0]     \n",
      "__________________________________________________________________________________________________\n",
      "activation_47 (Activation)      (None, 14, 14, 160)  0           batch_normalization_47[0][0]     \n",
      "__________________________________________________________________________________________________\n",
      "conv2d_43 (Conv2D)              (None, 14, 14, 160)  179200      activation_42[0][0]              \n",
      "__________________________________________________________________________________________________\n",
      "conv2d_48 (Conv2D)              (None, 14, 14, 160)  179200      activation_47[0][0]              \n",
      "__________________________________________________________________________________________________\n",
      "batch_normalization_43 (BatchNo (None, 14, 14, 160)  480         conv2d_43[0][0]                  \n",
      "__________________________________________________________________________________________________\n",
      "batch_normalization_48 (BatchNo (None, 14, 14, 160)  480         conv2d_48[0][0]                  \n",
      "__________________________________________________________________________________________________\n",
      "activation_43 (Activation)      (None, 14, 14, 160)  0           batch_normalization_43[0][0]     \n",
      "__________________________________________________________________________________________________\n",
      "activation_48 (Activation)      (None, 14, 14, 160)  0           batch_normalization_48[0][0]     \n",
      "__________________________________________________________________________________________________\n",
      "average_pooling2d_5 (AveragePoo (None, 14, 14, 768)  0           mixed4[0][0]                     \n",
      "__________________________________________________________________________________________________\n",
      "conv2d_41 (Conv2D)              (None, 14, 14, 192)  147456      mixed4[0][0]                     \n",
      "__________________________________________________________________________________________________\n",
      "conv2d_44 (Conv2D)              (None, 14, 14, 192)  215040      activation_43[0][0]              \n",
      "__________________________________________________________________________________________________\n",
      "conv2d_49 (Conv2D)              (None, 14, 14, 192)  215040      activation_48[0][0]              \n",
      "__________________________________________________________________________________________________\n",
      "conv2d_50 (Conv2D)              (None, 14, 14, 192)  147456      average_pooling2d_5[0][0]        \n",
      "__________________________________________________________________________________________________\n",
      "batch_normalization_41 (BatchNo (None, 14, 14, 192)  576         conv2d_41[0][0]                  \n",
      "__________________________________________________________________________________________________\n",
      "batch_normalization_44 (BatchNo (None, 14, 14, 192)  576         conv2d_44[0][0]                  \n",
      "__________________________________________________________________________________________________\n",
      "batch_normalization_49 (BatchNo (None, 14, 14, 192)  576         conv2d_49[0][0]                  \n",
      "__________________________________________________________________________________________________\n",
      "batch_normalization_50 (BatchNo (None, 14, 14, 192)  576         conv2d_50[0][0]                  \n",
      "__________________________________________________________________________________________________\n",
      "activation_41 (Activation)      (None, 14, 14, 192)  0           batch_normalization_41[0][0]     \n",
      "__________________________________________________________________________________________________\n",
      "activation_44 (Activation)      (None, 14, 14, 192)  0           batch_normalization_44[0][0]     \n",
      "__________________________________________________________________________________________________\n",
      "activation_49 (Activation)      (None, 14, 14, 192)  0           batch_normalization_49[0][0]     \n",
      "__________________________________________________________________________________________________\n",
      "activation_50 (Activation)      (None, 14, 14, 192)  0           batch_normalization_50[0][0]     \n",
      "__________________________________________________________________________________________________\n",
      "mixed5 (Concatenate)            (None, 14, 14, 768)  0           activation_41[0][0]              \n",
      "                                                                 activation_44[0][0]              \n",
      "                                                                 activation_49[0][0]              \n",
      "                                                                 activation_50[0][0]              \n",
      "__________________________________________________________________________________________________\n",
      "conv2d_55 (Conv2D)              (None, 14, 14, 160)  122880      mixed5[0][0]                     \n",
      "__________________________________________________________________________________________________\n",
      "batch_normalization_55 (BatchNo (None, 14, 14, 160)  480         conv2d_55[0][0]                  \n",
      "__________________________________________________________________________________________________\n",
      "activation_55 (Activation)      (None, 14, 14, 160)  0           batch_normalization_55[0][0]     \n",
      "__________________________________________________________________________________________________\n",
      "conv2d_56 (Conv2D)              (None, 14, 14, 160)  179200      activation_55[0][0]              \n",
      "__________________________________________________________________________________________________\n",
      "batch_normalization_56 (BatchNo (None, 14, 14, 160)  480         conv2d_56[0][0]                  \n",
      "__________________________________________________________________________________________________\n",
      "activation_56 (Activation)      (None, 14, 14, 160)  0           batch_normalization_56[0][0]     \n",
      "__________________________________________________________________________________________________\n",
      "conv2d_52 (Conv2D)              (None, 14, 14, 160)  122880      mixed5[0][0]                     \n",
      "__________________________________________________________________________________________________\n",
      "conv2d_57 (Conv2D)              (None, 14, 14, 160)  179200      activation_56[0][0]              \n",
      "__________________________________________________________________________________________________\n",
      "batch_normalization_52 (BatchNo (None, 14, 14, 160)  480         conv2d_52[0][0]                  \n",
      "__________________________________________________________________________________________________\n",
      "batch_normalization_57 (BatchNo (None, 14, 14, 160)  480         conv2d_57[0][0]                  \n",
      "__________________________________________________________________________________________________\n",
      "activation_52 (Activation)      (None, 14, 14, 160)  0           batch_normalization_52[0][0]     \n",
      "__________________________________________________________________________________________________\n",
      "activation_57 (Activation)      (None, 14, 14, 160)  0           batch_normalization_57[0][0]     \n",
      "__________________________________________________________________________________________________\n",
      "conv2d_53 (Conv2D)              (None, 14, 14, 160)  179200      activation_52[0][0]              \n",
      "__________________________________________________________________________________________________\n",
      "conv2d_58 (Conv2D)              (None, 14, 14, 160)  179200      activation_57[0][0]              \n",
      "__________________________________________________________________________________________________\n",
      "batch_normalization_53 (BatchNo (None, 14, 14, 160)  480         conv2d_53[0][0]                  \n",
      "__________________________________________________________________________________________________\n",
      "batch_normalization_58 (BatchNo (None, 14, 14, 160)  480         conv2d_58[0][0]                  \n",
      "__________________________________________________________________________________________________\n",
      "activation_53 (Activation)      (None, 14, 14, 160)  0           batch_normalization_53[0][0]     \n",
      "__________________________________________________________________________________________________\n",
      "activation_58 (Activation)      (None, 14, 14, 160)  0           batch_normalization_58[0][0]     \n",
      "__________________________________________________________________________________________________\n",
      "average_pooling2d_6 (AveragePoo (None, 14, 14, 768)  0           mixed5[0][0]                     \n",
      "__________________________________________________________________________________________________\n",
      "conv2d_51 (Conv2D)              (None, 14, 14, 192)  147456      mixed5[0][0]                     \n",
      "__________________________________________________________________________________________________\n",
      "conv2d_54 (Conv2D)              (None, 14, 14, 192)  215040      activation_53[0][0]              \n",
      "__________________________________________________________________________________________________\n",
      "conv2d_59 (Conv2D)              (None, 14, 14, 192)  215040      activation_58[0][0]              \n",
      "__________________________________________________________________________________________________\n",
      "conv2d_60 (Conv2D)              (None, 14, 14, 192)  147456      average_pooling2d_6[0][0]        \n",
      "__________________________________________________________________________________________________\n",
      "batch_normalization_51 (BatchNo (None, 14, 14, 192)  576         conv2d_51[0][0]                  \n",
      "__________________________________________________________________________________________________\n",
      "batch_normalization_54 (BatchNo (None, 14, 14, 192)  576         conv2d_54[0][0]                  \n",
      "__________________________________________________________________________________________________\n",
      "batch_normalization_59 (BatchNo (None, 14, 14, 192)  576         conv2d_59[0][0]                  \n",
      "__________________________________________________________________________________________________\n",
      "batch_normalization_60 (BatchNo (None, 14, 14, 192)  576         conv2d_60[0][0]                  \n",
      "__________________________________________________________________________________________________\n",
      "activation_51 (Activation)      (None, 14, 14, 192)  0           batch_normalization_51[0][0]     \n",
      "__________________________________________________________________________________________________\n",
      "activation_54 (Activation)      (None, 14, 14, 192)  0           batch_normalization_54[0][0]     \n",
      "__________________________________________________________________________________________________\n",
      "activation_59 (Activation)      (None, 14, 14, 192)  0           batch_normalization_59[0][0]     \n",
      "__________________________________________________________________________________________________\n",
      "activation_60 (Activation)      (None, 14, 14, 192)  0           batch_normalization_60[0][0]     \n",
      "__________________________________________________________________________________________________\n",
      "mixed6 (Concatenate)            (None, 14, 14, 768)  0           activation_51[0][0]              \n",
      "                                                                 activation_54[0][0]              \n",
      "                                                                 activation_59[0][0]              \n",
      "                                                                 activation_60[0][0]              \n",
      "__________________________________________________________________________________________________\n",
      "conv2d_65 (Conv2D)              (None, 14, 14, 192)  147456      mixed6[0][0]                     \n",
      "__________________________________________________________________________________________________\n",
      "batch_normalization_65 (BatchNo (None, 14, 14, 192)  576         conv2d_65[0][0]                  \n",
      "__________________________________________________________________________________________________\n",
      "activation_65 (Activation)      (None, 14, 14, 192)  0           batch_normalization_65[0][0]     \n",
      "__________________________________________________________________________________________________\n",
      "conv2d_66 (Conv2D)              (None, 14, 14, 192)  258048      activation_65[0][0]              \n",
      "__________________________________________________________________________________________________\n",
      "batch_normalization_66 (BatchNo (None, 14, 14, 192)  576         conv2d_66[0][0]                  \n",
      "__________________________________________________________________________________________________\n",
      "activation_66 (Activation)      (None, 14, 14, 192)  0           batch_normalization_66[0][0]     \n",
      "__________________________________________________________________________________________________\n",
      "conv2d_62 (Conv2D)              (None, 14, 14, 192)  147456      mixed6[0][0]                     \n",
      "__________________________________________________________________________________________________\n",
      "conv2d_67 (Conv2D)              (None, 14, 14, 192)  258048      activation_66[0][0]              \n",
      "__________________________________________________________________________________________________\n",
      "batch_normalization_62 (BatchNo (None, 14, 14, 192)  576         conv2d_62[0][0]                  \n",
      "__________________________________________________________________________________________________\n",
      "batch_normalization_67 (BatchNo (None, 14, 14, 192)  576         conv2d_67[0][0]                  \n",
      "__________________________________________________________________________________________________\n",
      "activation_62 (Activation)      (None, 14, 14, 192)  0           batch_normalization_62[0][0]     \n",
      "__________________________________________________________________________________________________\n",
      "activation_67 (Activation)      (None, 14, 14, 192)  0           batch_normalization_67[0][0]     \n",
      "__________________________________________________________________________________________________\n",
      "conv2d_63 (Conv2D)              (None, 14, 14, 192)  258048      activation_62[0][0]              \n",
      "__________________________________________________________________________________________________\n",
      "conv2d_68 (Conv2D)              (None, 14, 14, 192)  258048      activation_67[0][0]              \n",
      "__________________________________________________________________________________________________\n",
      "batch_normalization_63 (BatchNo (None, 14, 14, 192)  576         conv2d_63[0][0]                  \n",
      "__________________________________________________________________________________________________\n",
      "batch_normalization_68 (BatchNo (None, 14, 14, 192)  576         conv2d_68[0][0]                  \n",
      "__________________________________________________________________________________________________\n",
      "activation_63 (Activation)      (None, 14, 14, 192)  0           batch_normalization_63[0][0]     \n",
      "__________________________________________________________________________________________________\n",
      "activation_68 (Activation)      (None, 14, 14, 192)  0           batch_normalization_68[0][0]     \n",
      "__________________________________________________________________________________________________\n",
      "average_pooling2d_7 (AveragePoo (None, 14, 14, 768)  0           mixed6[0][0]                     \n",
      "__________________________________________________________________________________________________\n",
      "conv2d_61 (Conv2D)              (None, 14, 14, 192)  147456      mixed6[0][0]                     \n",
      "__________________________________________________________________________________________________\n",
      "conv2d_64 (Conv2D)              (None, 14, 14, 192)  258048      activation_63[0][0]              \n",
      "__________________________________________________________________________________________________\n",
      "conv2d_69 (Conv2D)              (None, 14, 14, 192)  258048      activation_68[0][0]              \n",
      "__________________________________________________________________________________________________\n",
      "conv2d_70 (Conv2D)              (None, 14, 14, 192)  147456      average_pooling2d_7[0][0]        \n",
      "__________________________________________________________________________________________________\n",
      "batch_normalization_61 (BatchNo (None, 14, 14, 192)  576         conv2d_61[0][0]                  \n",
      "__________________________________________________________________________________________________\n",
      "batch_normalization_64 (BatchNo (None, 14, 14, 192)  576         conv2d_64[0][0]                  \n",
      "__________________________________________________________________________________________________\n",
      "batch_normalization_69 (BatchNo (None, 14, 14, 192)  576         conv2d_69[0][0]                  \n",
      "__________________________________________________________________________________________________\n",
      "batch_normalization_70 (BatchNo (None, 14, 14, 192)  576         conv2d_70[0][0]                  \n",
      "__________________________________________________________________________________________________\n",
      "activation_61 (Activation)      (None, 14, 14, 192)  0           batch_normalization_61[0][0]     \n",
      "__________________________________________________________________________________________________\n",
      "activation_64 (Activation)      (None, 14, 14, 192)  0           batch_normalization_64[0][0]     \n",
      "__________________________________________________________________________________________________\n",
      "activation_69 (Activation)      (None, 14, 14, 192)  0           batch_normalization_69[0][0]     \n",
      "__________________________________________________________________________________________________\n",
      "activation_70 (Activation)      (None, 14, 14, 192)  0           batch_normalization_70[0][0]     \n",
      "__________________________________________________________________________________________________\n",
      "mixed7 (Concatenate)            (None, 14, 14, 768)  0           activation_61[0][0]              \n",
      "                                                                 activation_64[0][0]              \n",
      "                                                                 activation_69[0][0]              \n",
      "                                                                 activation_70[0][0]              \n",
      "__________________________________________________________________________________________________\n",
      "conv2d_73 (Conv2D)              (None, 14, 14, 192)  147456      mixed7[0][0]                     \n",
      "__________________________________________________________________________________________________\n",
      "batch_normalization_73 (BatchNo (None, 14, 14, 192)  576         conv2d_73[0][0]                  \n",
      "__________________________________________________________________________________________________\n",
      "activation_73 (Activation)      (None, 14, 14, 192)  0           batch_normalization_73[0][0]     \n",
      "__________________________________________________________________________________________________\n",
      "conv2d_74 (Conv2D)              (None, 14, 14, 192)  258048      activation_73[0][0]              \n",
      "__________________________________________________________________________________________________\n",
      "batch_normalization_74 (BatchNo (None, 14, 14, 192)  576         conv2d_74[0][0]                  \n",
      "__________________________________________________________________________________________________\n",
      "activation_74 (Activation)      (None, 14, 14, 192)  0           batch_normalization_74[0][0]     \n",
      "__________________________________________________________________________________________________\n",
      "conv2d_71 (Conv2D)              (None, 14, 14, 192)  147456      mixed7[0][0]                     \n",
      "__________________________________________________________________________________________________\n",
      "conv2d_75 (Conv2D)              (None, 14, 14, 192)  258048      activation_74[0][0]              \n",
      "__________________________________________________________________________________________________\n",
      "batch_normalization_71 (BatchNo (None, 14, 14, 192)  576         conv2d_71[0][0]                  \n",
      "__________________________________________________________________________________________________\n",
      "batch_normalization_75 (BatchNo (None, 14, 14, 192)  576         conv2d_75[0][0]                  \n",
      "__________________________________________________________________________________________________\n",
      "activation_71 (Activation)      (None, 14, 14, 192)  0           batch_normalization_71[0][0]     \n",
      "__________________________________________________________________________________________________\n",
      "activation_75 (Activation)      (None, 14, 14, 192)  0           batch_normalization_75[0][0]     \n",
      "__________________________________________________________________________________________________\n",
      "conv2d_72 (Conv2D)              (None, 6, 6, 320)    552960      activation_71[0][0]              \n",
      "__________________________________________________________________________________________________\n",
      "conv2d_76 (Conv2D)              (None, 6, 6, 192)    331776      activation_75[0][0]              \n",
      "__________________________________________________________________________________________________\n",
      "batch_normalization_72 (BatchNo (None, 6, 6, 320)    960         conv2d_72[0][0]                  \n",
      "__________________________________________________________________________________________________\n",
      "batch_normalization_76 (BatchNo (None, 6, 6, 192)    576         conv2d_76[0][0]                  \n",
      "__________________________________________________________________________________________________\n",
      "activation_72 (Activation)      (None, 6, 6, 320)    0           batch_normalization_72[0][0]     \n",
      "__________________________________________________________________________________________________\n",
      "activation_76 (Activation)      (None, 6, 6, 192)    0           batch_normalization_76[0][0]     \n",
      "__________________________________________________________________________________________________\n",
      "max_pooling2d_4 (MaxPooling2D)  (None, 6, 6, 768)    0           mixed7[0][0]                     \n",
      "__________________________________________________________________________________________________\n",
      "mixed8 (Concatenate)            (None, 6, 6, 1280)   0           activation_72[0][0]              \n",
      "                                                                 activation_76[0][0]              \n",
      "                                                                 max_pooling2d_4[0][0]            \n",
      "__________________________________________________________________________________________________\n",
      "conv2d_81 (Conv2D)              (None, 6, 6, 448)    573440      mixed8[0][0]                     \n",
      "__________________________________________________________________________________________________\n",
      "batch_normalization_81 (BatchNo (None, 6, 6, 448)    1344        conv2d_81[0][0]                  \n",
      "__________________________________________________________________________________________________\n",
      "activation_81 (Activation)      (None, 6, 6, 448)    0           batch_normalization_81[0][0]     \n",
      "__________________________________________________________________________________________________\n",
      "conv2d_78 (Conv2D)              (None, 6, 6, 384)    491520      mixed8[0][0]                     \n",
      "__________________________________________________________________________________________________\n",
      "conv2d_82 (Conv2D)              (None, 6, 6, 384)    1548288     activation_81[0][0]              \n",
      "__________________________________________________________________________________________________\n",
      "batch_normalization_78 (BatchNo (None, 6, 6, 384)    1152        conv2d_78[0][0]                  \n",
      "__________________________________________________________________________________________________\n",
      "batch_normalization_82 (BatchNo (None, 6, 6, 384)    1152        conv2d_82[0][0]                  \n",
      "__________________________________________________________________________________________________\n",
      "activation_78 (Activation)      (None, 6, 6, 384)    0           batch_normalization_78[0][0]     \n",
      "__________________________________________________________________________________________________\n",
      "activation_82 (Activation)      (None, 6, 6, 384)    0           batch_normalization_82[0][0]     \n",
      "__________________________________________________________________________________________________\n",
      "conv2d_79 (Conv2D)              (None, 6, 6, 384)    442368      activation_78[0][0]              \n",
      "__________________________________________________________________________________________________\n",
      "conv2d_80 (Conv2D)              (None, 6, 6, 384)    442368      activation_78[0][0]              \n",
      "__________________________________________________________________________________________________\n",
      "conv2d_83 (Conv2D)              (None, 6, 6, 384)    442368      activation_82[0][0]              \n",
      "__________________________________________________________________________________________________\n",
      "conv2d_84 (Conv2D)              (None, 6, 6, 384)    442368      activation_82[0][0]              \n",
      "__________________________________________________________________________________________________\n",
      "average_pooling2d_8 (AveragePoo (None, 6, 6, 1280)   0           mixed8[0][0]                     \n",
      "__________________________________________________________________________________________________\n",
      "conv2d_77 (Conv2D)              (None, 6, 6, 320)    409600      mixed8[0][0]                     \n",
      "__________________________________________________________________________________________________\n",
      "batch_normalization_79 (BatchNo (None, 6, 6, 384)    1152        conv2d_79[0][0]                  \n",
      "__________________________________________________________________________________________________\n",
      "batch_normalization_80 (BatchNo (None, 6, 6, 384)    1152        conv2d_80[0][0]                  \n",
      "__________________________________________________________________________________________________\n",
      "batch_normalization_83 (BatchNo (None, 6, 6, 384)    1152        conv2d_83[0][0]                  \n",
      "__________________________________________________________________________________________________\n",
      "batch_normalization_84 (BatchNo (None, 6, 6, 384)    1152        conv2d_84[0][0]                  \n",
      "__________________________________________________________________________________________________\n",
      "conv2d_85 (Conv2D)              (None, 6, 6, 192)    245760      average_pooling2d_8[0][0]        \n",
      "__________________________________________________________________________________________________\n",
      "batch_normalization_77 (BatchNo (None, 6, 6, 320)    960         conv2d_77[0][0]                  \n",
      "__________________________________________________________________________________________________\n",
      "activation_79 (Activation)      (None, 6, 6, 384)    0           batch_normalization_79[0][0]     \n",
      "__________________________________________________________________________________________________\n",
      "activation_80 (Activation)      (None, 6, 6, 384)    0           batch_normalization_80[0][0]     \n",
      "__________________________________________________________________________________________________\n",
      "activation_83 (Activation)      (None, 6, 6, 384)    0           batch_normalization_83[0][0]     \n",
      "__________________________________________________________________________________________________\n",
      "activation_84 (Activation)      (None, 6, 6, 384)    0           batch_normalization_84[0][0]     \n",
      "__________________________________________________________________________________________________\n",
      "batch_normalization_85 (BatchNo (None, 6, 6, 192)    576         conv2d_85[0][0]                  \n",
      "__________________________________________________________________________________________________\n",
      "activation_77 (Activation)      (None, 6, 6, 320)    0           batch_normalization_77[0][0]     \n",
      "__________________________________________________________________________________________________\n",
      "mixed9_0 (Concatenate)          (None, 6, 6, 768)    0           activation_79[0][0]              \n",
      "                                                                 activation_80[0][0]              \n",
      "__________________________________________________________________________________________________\n",
      "concatenate_1 (Concatenate)     (None, 6, 6, 768)    0           activation_83[0][0]              \n",
      "                                                                 activation_84[0][0]              \n",
      "__________________________________________________________________________________________________\n",
      "activation_85 (Activation)      (None, 6, 6, 192)    0           batch_normalization_85[0][0]     \n",
      "__________________________________________________________________________________________________\n",
      "mixed9 (Concatenate)            (None, 6, 6, 2048)   0           activation_77[0][0]              \n",
      "                                                                 mixed9_0[0][0]                   \n",
      "                                                                 concatenate_1[0][0]              \n",
      "                                                                 activation_85[0][0]              \n",
      "__________________________________________________________________________________________________\n",
      "conv2d_90 (Conv2D)              (None, 6, 6, 448)    917504      mixed9[0][0]                     \n",
      "__________________________________________________________________________________________________\n",
      "batch_normalization_90 (BatchNo (None, 6, 6, 448)    1344        conv2d_90[0][0]                  \n",
      "__________________________________________________________________________________________________\n",
      "activation_90 (Activation)      (None, 6, 6, 448)    0           batch_normalization_90[0][0]     \n",
      "__________________________________________________________________________________________________\n",
      "conv2d_87 (Conv2D)              (None, 6, 6, 384)    786432      mixed9[0][0]                     \n",
      "__________________________________________________________________________________________________\n",
      "conv2d_91 (Conv2D)              (None, 6, 6, 384)    1548288     activation_90[0][0]              \n",
      "__________________________________________________________________________________________________\n",
      "batch_normalization_87 (BatchNo (None, 6, 6, 384)    1152        conv2d_87[0][0]                  \n",
      "__________________________________________________________________________________________________\n",
      "batch_normalization_91 (BatchNo (None, 6, 6, 384)    1152        conv2d_91[0][0]                  \n",
      "__________________________________________________________________________________________________\n",
      "activation_87 (Activation)      (None, 6, 6, 384)    0           batch_normalization_87[0][0]     \n",
      "__________________________________________________________________________________________________\n",
      "activation_91 (Activation)      (None, 6, 6, 384)    0           batch_normalization_91[0][0]     \n",
      "__________________________________________________________________________________________________\n",
      "conv2d_88 (Conv2D)              (None, 6, 6, 384)    442368      activation_87[0][0]              \n",
      "__________________________________________________________________________________________________\n",
      "conv2d_89 (Conv2D)              (None, 6, 6, 384)    442368      activation_87[0][0]              \n",
      "__________________________________________________________________________________________________\n",
      "conv2d_92 (Conv2D)              (None, 6, 6, 384)    442368      activation_91[0][0]              \n",
      "__________________________________________________________________________________________________\n",
      "conv2d_93 (Conv2D)              (None, 6, 6, 384)    442368      activation_91[0][0]              \n",
      "__________________________________________________________________________________________________\n",
      "average_pooling2d_9 (AveragePoo (None, 6, 6, 2048)   0           mixed9[0][0]                     \n",
      "__________________________________________________________________________________________________\n",
      "conv2d_86 (Conv2D)              (None, 6, 6, 320)    655360      mixed9[0][0]                     \n",
      "__________________________________________________________________________________________________\n",
      "batch_normalization_88 (BatchNo (None, 6, 6, 384)    1152        conv2d_88[0][0]                  \n",
      "__________________________________________________________________________________________________\n",
      "batch_normalization_89 (BatchNo (None, 6, 6, 384)    1152        conv2d_89[0][0]                  \n",
      "__________________________________________________________________________________________________\n",
      "batch_normalization_92 (BatchNo (None, 6, 6, 384)    1152        conv2d_92[0][0]                  \n",
      "__________________________________________________________________________________________________\n",
      "batch_normalization_93 (BatchNo (None, 6, 6, 384)    1152        conv2d_93[0][0]                  \n",
      "__________________________________________________________________________________________________\n",
      "conv2d_94 (Conv2D)              (None, 6, 6, 192)    393216      average_pooling2d_9[0][0]        \n",
      "__________________________________________________________________________________________________\n",
      "batch_normalization_86 (BatchNo (None, 6, 6, 320)    960         conv2d_86[0][0]                  \n",
      "__________________________________________________________________________________________________\n",
      "activation_88 (Activation)      (None, 6, 6, 384)    0           batch_normalization_88[0][0]     \n",
      "__________________________________________________________________________________________________\n",
      "activation_89 (Activation)      (None, 6, 6, 384)    0           batch_normalization_89[0][0]     \n",
      "__________________________________________________________________________________________________\n",
      "activation_92 (Activation)      (None, 6, 6, 384)    0           batch_normalization_92[0][0]     \n",
      "__________________________________________________________________________________________________\n",
      "activation_93 (Activation)      (None, 6, 6, 384)    0           batch_normalization_93[0][0]     \n",
      "__________________________________________________________________________________________________\n",
      "batch_normalization_94 (BatchNo (None, 6, 6, 192)    576         conv2d_94[0][0]                  \n",
      "__________________________________________________________________________________________________\n",
      "activation_86 (Activation)      (None, 6, 6, 320)    0           batch_normalization_86[0][0]     \n",
      "__________________________________________________________________________________________________\n",
      "mixed9_1 (Concatenate)          (None, 6, 6, 768)    0           activation_88[0][0]              \n",
      "                                                                 activation_89[0][0]              \n",
      "__________________________________________________________________________________________________\n",
      "concatenate_2 (Concatenate)     (None, 6, 6, 768)    0           activation_92[0][0]              \n",
      "                                                                 activation_93[0][0]              \n",
      "__________________________________________________________________________________________________\n",
      "activation_94 (Activation)      (None, 6, 6, 192)    0           batch_normalization_94[0][0]     \n",
      "__________________________________________________________________________________________________\n",
      "mixed10 (Concatenate)           (None, 6, 6, 2048)   0           activation_86[0][0]              \n",
      "                                                                 mixed9_1[0][0]                   \n",
      "                                                                 concatenate_2[0][0]              \n",
      "                                                                 activation_94[0][0]              \n",
      "__________________________________________________________________________________________________\n",
      "global_max_pooling2d_1 (GlobalM (None, 2048)         0           mixed10[0][0]                    \n",
      "__________________________________________________________________________________________________\n",
      "dense_1 (Dense)                 (None, 1024)         2098176     global_max_pooling2d_1[0][0]     \n",
      "__________________________________________________________________________________________________\n",
      "dense_2 (Dense)                 (None, 128)          131200      dense_1[0][0]                    \n",
      "__________________________________________________________________________________________________\n",
      "dense_3 (Dense)                 (None, 32)           4128        dense_2[0][0]                    \n",
      "__________________________________________________________________________________________________\n",
      "dense_4 (Dense)                 (None, 1)            33          dense_3[0][0]                    \n",
      "==================================================================================================\n",
      "Total params: 24,036,321\n",
      "Trainable params: 24,001,889\n",
      "Non-trainable params: 34,432\n",
      "__________________________________________________________________________________________________\n"
     ]
    },
    {
     "name": "stderr",
     "output_type": "stream",
     "text": [
      "/usr/local/lib/python3.6/dist-packages/ipykernel_launcher.py:18: UserWarning: Update your `Model` call to the Keras 2 API: `Model(inputs=Tensor(\"in..., outputs=Tensor(\"de...)`\n"
     ]
    }
   ],
   "source": [
    "#load INCEPTIONV3 pretrainned model from keras without the top layer &\n",
    "#specify the shape of the input image as (256x256x3) \n",
    "mri_InceptionV3 = InceptionV3(include_top = False, input_shape = (256, 256, 3))\n",
    "\n",
    "#remove the last one\n",
    "mri_InceptionV3.layers.pop()\n",
    "\n",
    "#get the output of the INCEPTIONV# model \"feature extraction\" and add Dense layers so that the model is designed\n",
    "#to classify our data\n",
    "mri_InceptionV3_output = mri_InceptionV3.output\n",
    "\n",
    "mri_InceptionV3_last_layer = GlobalMaxPooling2D()(mri_InceptionV3_output)\n",
    "\n",
    "mri_InceptionV3_last_layer = Dense(1024, activation = 'relu')(mri_InceptionV3_last_layer)\n",
    "\n",
    "mri_InceptionV3_last_layer = Dense(128, activation = 'relu')(mri_InceptionV3_last_layer)\n",
    "\n",
    "mri_InceptionV3_last_layer = Dense(32, activation = 'relu')(mri_InceptionV3_last_layer)\n",
    "\n",
    "predictor = Dense(1, activation='sigmoid')(mri_InceptionV3_last_layer)\n",
    "\n",
    "modified_mri_InceptionV3 = Model(inputs = mri_InceptionV3.input, output = predictor)\n",
    "\n",
    "modified_mri_InceptionV3.summary()"
   ]
  },
  {
   "cell_type": "code",
   "execution_count": 10,
   "metadata": {
    "colab": {
     "base_uri": "https://localhost:8080/",
     "height": 35
    },
    "colab_type": "code",
    "id": "83RRDyga1z3f",
    "outputId": "4613c674-c97d-42b4-e1aa-8929f17e21c6"
   },
   "outputs": [
    {
     "data": {
      "text/plain": [
       "16"
      ]
     },
     "execution_count": 10,
     "metadata": {
      "tags": []
     },
     "output_type": "execute_result"
    }
   ],
   "source": [
    "gc.collect()"
   ]
  },
  {
   "cell_type": "code",
   "execution_count": 0,
   "metadata": {
    "colab": {},
    "colab_type": "code",
    "id": "h_Ex8umhLHRf"
   },
   "outputs": [],
   "source": [
    "#freeze the layers and unfreeze the rest:\n",
    "for layer in modified_mri_InceptionV3.layers[40:]:\n",
    "    layer.trainable = True \n",
    "    \n",
    "for layer in modified_mri_InceptionV3.layers[:40]:\n",
    "    layer.trainable = False\n",
    "    \n",
    "#the loss function is binary_crossentropy as our labels are binary(0|1)\n",
    "#Adam optimizer use small learning rate(lr) to \n",
    "modified_mri_InceptionV3.compile(loss='binary_crossentropy', metrics=['accuracy'],\n",
    "                 optimizer=Adam(lr = 0.0001, beta_1 = 0.9, beta_2 = 0.999, epsilon = 1e-08, decay = 0.0))"
   ]
  },
  {
   "cell_type": "code",
   "execution_count": 0,
   "metadata": {
    "colab": {},
    "colab_type": "code",
    "id": "QW0nkyYphAXF"
   },
   "outputs": [],
   "source": [
    "class Metrics(Callback):\n",
    "  def on_train_begin(self, logs={}):\n",
    "    self.val_f1s = []\n",
    "  def on_epoch_end(self, epoch, logs={}):\n",
    "    val_predict = (np.asarray(self.model.predict(self.validation_data[0]))).round()\n",
    "    val_targ = self.validation_data[1]\n",
    "    _val_f1 = f1_score(val_targ, val_predict)\n",
    "    self.val_f1s.append(_val_f1)\n",
    "    print ('-val_f1 : %f '%(_val_f1))\n",
    "    return\n",
    "metrics = Metrics()"
   ]
  },
  {
   "cell_type": "code",
   "execution_count": 0,
   "metadata": {
    "colab": {},
    "colab_type": "code",
    "id": "YsweVLh8p68x"
   },
   "outputs": [],
   "source": [
    "def plot_history(history):\n",
    "  plt.figure(figsize=(8, 6))\n",
    "  ax = plt.gca()\n",
    "  plt.title('Training performance')\n",
    "  plt.plot(history.epoch, history.history['loss'], label='Loss')\n",
    "  plt.plot(history.epoch, history.history['val_loss'], label='validation error')\n",
    "  plt.plot(history.epoch, history.history['acc'], label='accuracy')\n",
    "  plt.plot(history.epoch, history.history['val_acc'], label='validation accuracy')\n",
    "  plt.plot(metrics.val_f1s, label='f_score')\n",
    "  plt.grid(True,color='white')\n",
    "  mpl.style.use('seaborn')\n",
    "  plt.legend() \n",
    "  "
   ]
  },
  {
   "cell_type": "code",
   "execution_count": 14,
   "metadata": {
    "colab": {
     "base_uri": "https://localhost:8080/",
     "height": 35
    },
    "colab_type": "code",
    "id": "HJHXC8HYwlCq",
    "outputId": "2bff819b-3923-4ee0-ab92-73a2a872a52a"
   },
   "outputs": [
    {
     "data": {
      "text/plain": [
       "553"
      ]
     },
     "execution_count": 14,
     "metadata": {
      "tags": []
     },
     "output_type": "execute_result"
    }
   ],
   "source": [
    "gc.collect()"
   ]
  },
  {
   "cell_type": "code",
   "execution_count": 0,
   "metadata": {
    "colab": {},
    "colab_type": "code",
    "id": "Qy5DNM96LedU"
   },
   "outputs": [],
   "source": [
    "#train the model with 2214 trainning data & 46 validation data\n",
    "#save the model that has the min validation loss\n",
    "#at the end plot the trainng loss & accuracy, validation loss & accuracy & F-score \n",
    "def fit_model(training_set, training_labels, model_file_name):\n",
    "  \n",
    "    history = modified_mri_InceptionV3.fit(x = training_set, y = training_labels, batch_size=32,\n",
    "                       epochs=30, validation_split = 0.02,\n",
    "                       callbacks =[\n",
    "                          EarlyStopping(patience=3, monitor = 'val_loss', mode = 'min'),\n",
    "                          ModelCheckpoint(model_file_name, monitor='val_acc', save_best_only=True, mode='max', period=1), metrics])\n",
    "    plot_history(history)\n",
    "    best_model = load_model(model_file_name)\n",
    "    return best_model"
   ]
  },
  {
   "cell_type": "code",
   "execution_count": 0,
   "metadata": {
    "colab": {},
    "colab_type": "code",
    "id": "bijv8AjX0Cgy"
   },
   "outputs": [],
   "source": [
    "#load the data labels for the abnormal tear\n",
    "training_label_abnormal = load_labels('MRNet-v1.0/train-abnormal.csv', 2)\n",
    "\n",
    "#load the axial data, extract 3 slices from each exam & augment this data\n",
    "training_set_axial = trainingSet('axial')\n",
    "training_set_axial = extract_3(training_set_axial, 1130)\n",
    "training_set_axial = data_augmentation(training_set_axial, 2)"
   ]
  },
  {
   "cell_type": "code",
   "execution_count": 17,
   "metadata": {
    "colab": {
     "base_uri": "https://localhost:8080/",
     "height": 755
    },
    "colab_type": "code",
    "id": "yJMZ8-NMLon_",
    "outputId": "cff97903-b9fb-4d9b-92d7-4f7d5769b713"
   },
   "outputs": [
    {
     "name": "stdout",
     "output_type": "stream",
     "text": [
      "WARNING:tensorflow:From /usr/local/lib/python3.6/dist-packages/tensorflow/python/ops/math_ops.py:3066: to_int32 (from tensorflow.python.ops.math_ops) is deprecated and will be removed in a future version.\n",
      "Instructions for updating:\n",
      "Use tf.cast instead.\n",
      "WARNING:tensorflow:From /usr/local/lib/python3.6/dist-packages/tensorflow/python/ops/math_grad.py:102: div (from tensorflow.python.ops.math_ops) is deprecated and will be removed in a future version.\n",
      "Instructions for updating:\n",
      "Deprecated in favor of operator or tf.math.divide.\n",
      "Train on 2214 samples, validate on 46 samples\n",
      "Epoch 1/30\n",
      "2214/2214 [==============================] - 42s 19ms/step - loss: 0.4172 - acc: 0.8261 - val_loss: 2.0794 - val_acc: 0.8696\n",
      "-val_f1 : 0.930233 \n",
      "Epoch 2/30\n",
      "2214/2214 [==============================] - 21s 9ms/step - loss: 0.1797 - acc: 0.9255 - val_loss: 2.0794 - val_acc: 0.8696\n",
      "-val_f1 : 0.930233 \n",
      "Epoch 3/30\n",
      "2214/2214 [==============================] - 21s 9ms/step - loss: 0.0886 - acc: 0.9643 - val_loss: 2.3408 - val_acc: 0.8043\n",
      "-val_f1 : 0.888889 \n",
      "Epoch 4/30\n",
      "2214/2214 [==============================] - 21s 9ms/step - loss: 0.0652 - acc: 0.9765 - val_loss: 3.7469 - val_acc: 0.7391\n",
      "-val_f1 : 0.846154 \n"
     ]
    },
    {
     "data": {
      "image/png": "[encoded data removed]",
      "text/plain": [
       "<Figure size 576x432 with 1 Axes>"
      ]
     },
     "metadata": {
      "tags": []
     },
     "output_type": "display_data"
    }
   ],
   "source": [
    "#train the modified INCEPTIONV3 model that will accept the axial data and classify the knee is it has an abnormal tear or not \n",
    "axial_abnormal_model = fit_model(training_set_axial, training_label_abnormal, \"axial_abnormal_model\")"
   ]
  },
  {
   "cell_type": "code",
   "execution_count": 0,
   "metadata": {
    "colab": {},
    "colab_type": "code",
    "id": "be2ZUW4GDJJB"
   },
   "outputs": [],
   "source": [
    "del(training_label_abnormal)\n",
    "gc.collect()\n",
    "\n",
    "#load the data labels for the acl tear\n",
    "training_label_acl = load_labels('MRNet-v1.0/train-acl.csv', 2)"
   ]
  },
  {
   "cell_type": "code",
   "execution_count": 19,
   "metadata": {
    "colab": {
     "base_uri": "https://localhost:8080/",
     "height": 682
    },
    "colab_type": "code",
    "id": "rgwq4QabMM3f",
    "outputId": "d0dac446-ff78-40c5-c0f2-3113971a9ded"
   },
   "outputs": [
    {
     "name": "stdout",
     "output_type": "stream",
     "text": [
      "Train on 2214 samples, validate on 46 samples\n",
      "Epoch 1/30\n",
      "2214/2214 [==============================] - 20s 9ms/step - loss: 0.6054 - acc: 0.7958 - val_loss: 2.1024 - val_acc: 0.8696\n"
     ]
    },
    {
     "name": "stderr",
     "output_type": "stream",
     "text": [
      "/usr/local/lib/python3.6/dist-packages/sklearn/metrics/classification.py:1437: UndefinedMetricWarning: F-score is ill-defined and being set to 0.0 due to no predicted samples.\n",
      "  'precision', 'predicted', average, warn_for)\n"
     ]
    },
    {
     "name": "stdout",
     "output_type": "stream",
     "text": [
      "-val_f1 : 0.000000 \n",
      "Epoch 2/30\n",
      "2214/2214 [==============================] - 21s 9ms/step - loss: 0.1449 - acc: 0.9494 - val_loss: 2.1024 - val_acc: 0.8696\n",
      "-val_f1 : 0.000000 \n",
      "Epoch 3/30\n",
      "2214/2214 [==============================] - 21s 9ms/step - loss: 0.0384 - acc: 0.9864 - val_loss: 2.1024 - val_acc: 0.8696\n",
      "-val_f1 : 0.000000 \n",
      "Epoch 4/30\n",
      "2214/2214 [==============================] - 21s 9ms/step - loss: 0.0533 - acc: 0.9833 - val_loss: 2.1024 - val_acc: 0.8696\n",
      "-val_f1 : 0.000000 \n"
     ]
    },
    {
     "data": {
      "image/png": "[encoded data removed]",
      "text/plain": [
       "<Figure size 576x432 with 1 Axes>"
      ]
     },
     "metadata": {
      "tags": []
     },
     "output_type": "display_data"
    }
   ],
   "source": [
    "#train the modified INCEPTIONV3 model that will accept the axial data and classify the knee is it has an acl tear or not \n",
    "axial_acl_model = fit_model(training_set_axial, training_label_acl, \"axial_acl_model\")"
   ]
  },
  {
   "cell_type": "code",
   "execution_count": 0,
   "metadata": {
    "colab": {},
    "colab_type": "code",
    "id": "keNhxZumDYvo"
   },
   "outputs": [],
   "source": [
    "del(training_label_acl)\n",
    "gc.collect()\n",
    "\n",
    "#load the data labels for the meniscus tear\n",
    "training_label_meniscus = load_labels('MRNet-v1.0/train-meniscus.csv', 2)"
   ]
  },
  {
   "cell_type": "code",
   "execution_count": 21,
   "metadata": {
    "colab": {
     "base_uri": "https://localhost:8080/",
     "height": 682
    },
    "colab_type": "code",
    "id": "n6koKwqZTiIR",
    "outputId": "fb0d9017-585b-40ba-c8ac-1e98636053e3"
   },
   "outputs": [
    {
     "name": "stdout",
     "output_type": "stream",
     "text": [
      "Train on 2214 samples, validate on 46 samples\n",
      "Epoch 1/30\n",
      "2214/2214 [==============================] - 21s 9ms/step - loss: 0.6851 - acc: 0.7005 - val_loss: 6.3071 - val_acc: 0.6087\n"
     ]
    },
    {
     "name": "stderr",
     "output_type": "stream",
     "text": [
      "/usr/local/lib/python3.6/dist-packages/sklearn/metrics/classification.py:1437: UndefinedMetricWarning: F-score is ill-defined and being set to 0.0 due to no predicted samples.\n",
      "  'precision', 'predicted', average, warn_for)\n"
     ]
    },
    {
     "name": "stdout",
     "output_type": "stream",
     "text": [
      "-val_f1 : 0.000000 \n",
      "Epoch 2/30\n",
      "2214/2214 [==============================] - 21s 9ms/step - loss: 0.2720 - acc: 0.8799 - val_loss: 6.3071 - val_acc: 0.6087\n",
      "-val_f1 : 0.000000 \n",
      "Epoch 3/30\n",
      "2214/2214 [==============================] - 21s 9ms/step - loss: 0.1035 - acc: 0.9603 - val_loss: 6.3071 - val_acc: 0.6087\n",
      "-val_f1 : 0.000000 \n",
      "Epoch 4/30\n",
      "2214/2214 [==============================] - 21s 9ms/step - loss: 0.1067 - acc: 0.9612 - val_loss: 6.6150 - val_acc: 0.5435\n",
      "-val_f1 : 0.000000 \n"
     ]
    },
    {
     "data": {
      "image/png": "[encoded data removed]",
      "text/plain": [
       "<Figure size 576x432 with 1 Axes>"
      ]
     },
     "metadata": {
      "tags": []
     },
     "output_type": "display_data"
    }
   ],
   "source": [
    "#train the modified INCEPTIONV3 model that will accept the axial data and classify the knee is it has a meniscus tear or not \n",
    "axial_meniscus_model = fit_model(training_set_axial, training_label_meniscus, \"axial_meniscus_model\")"
   ]
  },
  {
   "cell_type": "code",
   "execution_count": 0,
   "metadata": {
    "colab": {},
    "colab_type": "code",
    "id": "PLHhRcCpEkS2"
   },
   "outputs": [],
   "source": [
    "del(training_label_meniscus)\n",
    "del(training_set_axial)\n",
    "gc.collect()\n",
    "\n",
    "#load the data labels for the abnormal tear\n",
    "training_label_abnormal = load_labels('MRNet-v1.0/train-abnormal.csv', 2)\n",
    "\n",
    "#load the coronal data, extract 3 slices from each exam & augment this data\n",
    "training_set_coronal = trainingSet('coronal')\n",
    "training_set_coronal = extract_3(training_set_coronal, 1130)\n",
    "training_set_coronal = data_augmentation(training_set_coronal, 2)"
   ]
  },
  {
   "cell_type": "code",
   "execution_count": 23,
   "metadata": {
    "colab": {
     "base_uri": "https://localhost:8080/",
     "height": 645
    },
    "colab_type": "code",
    "id": "IaMWyKecTiWD",
    "outputId": "55547088-9fc9-4668-b537-c0ab03f58cf4"
   },
   "outputs": [
    {
     "name": "stdout",
     "output_type": "stream",
     "text": [
      "Train on 2214 samples, validate on 46 samples\n",
      "Epoch 1/30\n",
      "2214/2214 [==============================] - 20s 9ms/step - loss: 0.5443 - acc: 0.7918 - val_loss: 2.0795 - val_acc: 0.8696\n",
      "-val_f1 : 0.930233 \n",
      "Epoch 2/30\n",
      "2214/2214 [==============================] - 20s 9ms/step - loss: 0.1849 - acc: 0.9286 - val_loss: 2.3734 - val_acc: 0.8478\n",
      "-val_f1 : 0.917647 \n",
      "Epoch 3/30\n",
      "2214/2214 [==============================] - 21s 9ms/step - loss: 0.0794 - acc: 0.9729 - val_loss: 2.1145 - val_acc: 0.8478\n",
      "-val_f1 : 0.917647 \n",
      "Epoch 4/30\n",
      "2214/2214 [==============================] - 21s 9ms/step - loss: 0.0689 - acc: 0.9738 - val_loss: 10.0714 - val_acc: 0.3043\n",
      "-val_f1 : 0.448276 \n"
     ]
    },
    {
     "data": {
      "image/png": "[encoded data removed]",
      "text/plain": [
       "<Figure size 576x432 with 1 Axes>"
      ]
     },
     "metadata": {
      "tags": []
     },
     "output_type": "display_data"
    }
   ],
   "source": [
    "#train the modified INCEPTIONV3 model that will accept the coronal data and classify the knee is it has an abnormal tear or not \n",
    "coronal_abnormal_model = fit_model(training_set_coronal, training_label_abnormal, \"coronal_abnormal_model\")"
   ]
  },
  {
   "cell_type": "code",
   "execution_count": 0,
   "metadata": {
    "colab": {},
    "colab_type": "code",
    "id": "bdRyZSW7gHqS"
   },
   "outputs": [],
   "source": [
    "del(training_label_abnormal)\n",
    "gc.collect()\n",
    "\n",
    "#load the data labels for the acl tear\n",
    "training_label_acl = load_labels('MRNet-v1.0/train-acl.csv', 2)"
   ]
  },
  {
   "cell_type": "code",
   "execution_count": 25,
   "metadata": {
    "colab": {
     "base_uri": "https://localhost:8080/",
     "height": 682
    },
    "colab_type": "code",
    "id": "YFEUHQozTik8",
    "outputId": "649b7813-cce5-4a7a-fb65-2b4f0529fddc"
   },
   "outputs": [
    {
     "name": "stdout",
     "output_type": "stream",
     "text": [
      "Train on 2214 samples, validate on 46 samples\n",
      "Epoch 1/30\n",
      "2214/2214 [==============================] - 21s 9ms/step - loss: 0.6430 - acc: 0.7827 - val_loss: 2.1024 - val_acc: 0.8696\n"
     ]
    },
    {
     "name": "stderr",
     "output_type": "stream",
     "text": [
      "/usr/local/lib/python3.6/dist-packages/sklearn/metrics/classification.py:1437: UndefinedMetricWarning: F-score is ill-defined and being set to 0.0 due to no predicted samples.\n",
      "  'precision', 'predicted', average, warn_for)\n"
     ]
    },
    {
     "name": "stdout",
     "output_type": "stream",
     "text": [
      "-val_f1 : 0.000000 \n",
      "Epoch 2/30\n",
      "2214/2214 [==============================] - 21s 9ms/step - loss: 0.3604 - acc: 0.8379 - val_loss: 2.1024 - val_acc: 0.8696\n",
      "-val_f1 : 0.000000 \n",
      "Epoch 3/30\n",
      "2214/2214 [==============================] - 21s 10ms/step - loss: 0.1910 - acc: 0.9264 - val_loss: 2.1024 - val_acc: 0.8696\n",
      "-val_f1 : 0.000000 \n",
      "Epoch 4/30\n",
      "2214/2214 [==============================] - 21s 10ms/step - loss: 0.0989 - acc: 0.9666 - val_loss: 2.1024 - val_acc: 0.8696\n",
      "-val_f1 : 0.000000 \n"
     ]
    },
    {
     "data": {
      "image/png": "[encoded data removed]",
      "text/plain": [
       "<Figure size 576x432 with 1 Axes>"
      ]
     },
     "metadata": {
      "tags": []
     },
     "output_type": "display_data"
    }
   ],
   "source": [
    "#train the modified INCEPTIONV3 model that will accept the coronal data and classify the knee is it has an acl tear or not \n",
    "coronal_acl_model = fit_model(training_set_coronal, training_label_acl, \"coronal_acl_model\")"
   ]
  },
  {
   "cell_type": "code",
   "execution_count": 0,
   "metadata": {
    "colab": {},
    "colab_type": "code",
    "id": "u7Hi8s8ugKG7"
   },
   "outputs": [],
   "source": [
    "del(training_label_acl)\n",
    "gc.collect()\n",
    "\n",
    "#load the data labels for the meniscus tear\n",
    "training_label_meniscus = load_labels('MRNet-v1.0/train-meniscus.csv', 2)"
   ]
  },
  {
   "cell_type": "code",
   "execution_count": 27,
   "metadata": {
    "colab": {
     "base_uri": "https://localhost:8080/",
     "height": 682
    },
    "colab_type": "code",
    "id": "cN3i8KC4TixN",
    "outputId": "fc9ef266-8c20-472e-9cb8-1439eb70dcf1"
   },
   "outputs": [
    {
     "name": "stdout",
     "output_type": "stream",
     "text": [
      "Train on 2214 samples, validate on 46 samples\n",
      "Epoch 1/30\n",
      "2214/2214 [==============================] - 21s 9ms/step - loss: 0.6598 - acc: 0.7037 - val_loss: 6.3071 - val_acc: 0.6087\n"
     ]
    },
    {
     "name": "stderr",
     "output_type": "stream",
     "text": [
      "/usr/local/lib/python3.6/dist-packages/sklearn/metrics/classification.py:1437: UndefinedMetricWarning: F-score is ill-defined and being set to 0.0 due to no predicted samples.\n",
      "  'precision', 'predicted', average, warn_for)\n"
     ]
    },
    {
     "name": "stdout",
     "output_type": "stream",
     "text": [
      "-val_f1 : 0.000000 \n",
      "Epoch 2/30\n",
      "2214/2214 [==============================] - 21s 10ms/step - loss: 0.3661 - acc: 0.8284 - val_loss: 6.3071 - val_acc: 0.6087\n",
      "-val_f1 : 0.000000 \n",
      "Epoch 3/30\n",
      "2214/2214 [==============================] - 21s 10ms/step - loss: 0.1782 - acc: 0.9345 - val_loss: 6.3071 - val_acc: 0.6087\n",
      "-val_f1 : 0.000000 \n",
      "Epoch 4/30\n",
      "2214/2214 [==============================] - 21s 10ms/step - loss: 0.1102 - acc: 0.9634 - val_loss: 6.3071 - val_acc: 0.6087\n",
      "-val_f1 : 0.000000 \n"
     ]
    },
    {
     "data": {
      "image/png": "[encoded data removed]",
      "text/plain": [
       "<Figure size 576x432 with 1 Axes>"
      ]
     },
     "metadata": {
      "tags": []
     },
     "output_type": "display_data"
    }
   ],
   "source": [
    "#train the modified INCEPTIONV3 model that will accept the coronal data and classify the knee is it has a meniscus tear or not \n",
    "coronal_meniscus_model = fit_model(training_set_coronal, training_label_meniscus, \"coronal_meniscus_model\")"
   ]
  },
  {
   "cell_type": "code",
   "execution_count": 0,
   "metadata": {
    "colab": {},
    "colab_type": "code",
    "id": "_U6DPR0KgPzv"
   },
   "outputs": [],
   "source": [
    "del(training_label_meniscus)\n",
    "del(training_set_coronal)\n",
    "gc.collect()\n",
    "\n",
    "#load the data labels for the abnormal tear\n",
    "training_label_abnormal = load_labels('MRNet-v1.0/train-abnormal.csv', 2)\n",
    "\n",
    "#load the sagittal data, extract 3 slices from each exam & augment this data\n",
    "training_set_sagittal = trainingSet('sagittal')\n",
    "training_set_sagittal = extract_3(training_set_sagittal, 1130)\n",
    "training_set_sagittal = data_augmentation(training_set_sagittal, 2)"
   ]
  },
  {
   "cell_type": "code",
   "execution_count": 29,
   "metadata": {
    "colab": {
     "base_uri": "https://localhost:8080/",
     "height": 645
    },
    "colab_type": "code",
    "id": "H_YrRaorTi9t",
    "outputId": "36e35448-9875-4cb6-b045-bc97c8cbb788"
   },
   "outputs": [
    {
     "name": "stdout",
     "output_type": "stream",
     "text": [
      "Train on 2214 samples, validate on 46 samples\n",
      "Epoch 1/30\n",
      "2214/2214 [==============================] - 21s 9ms/step - loss: 0.5142 - acc: 0.8035 - val_loss: 1.7484 - val_acc: 0.8696\n",
      "-val_f1 : 0.930233 \n",
      "Epoch 2/30\n",
      "2214/2214 [==============================] - 21s 9ms/step - loss: 0.2341 - acc: 0.8952 - val_loss: 5.7002 - val_acc: 0.2609\n",
      "-val_f1 : 0.320000 \n",
      "Epoch 3/30\n",
      "2214/2214 [==============================] - 21s 10ms/step - loss: 0.1072 - acc: 0.9593 - val_loss: 8.5094 - val_acc: 0.1739\n",
      "-val_f1 : 0.240000 \n",
      "Epoch 4/30\n",
      "2214/2214 [==============================] - 21s 10ms/step - loss: 0.0522 - acc: 0.9797 - val_loss: 11.5741 - val_acc: 0.1304\n",
      "-val_f1 : 0.130435 \n"
     ]
    },
    {
     "data": {
      "image/png": "[encoded data removed]",
      "text/plain": [
       "<Figure size 576x432 with 1 Axes>"
      ]
     },
     "metadata": {
      "tags": []
     },
     "output_type": "display_data"
    }
   ],
   "source": [
    "#train the modified INCEPTIONV3 model that will accept the sagittal data and classify the knee is it has an abnormal tear or not \n",
    "sagittal_abnormal_model = fit_model(training_set_sagittal, training_label_abnormal, \"sagittal_abormal_model\")"
   ]
  },
  {
   "cell_type": "code",
   "execution_count": 0,
   "metadata": {
    "colab": {},
    "colab_type": "code",
    "id": "sXWlGNLZglBk"
   },
   "outputs": [],
   "source": [
    "del(training_label_abnormal)\n",
    "gc.collect()\n",
    "\n",
    "#load the data labels for the acl tear\n",
    "training_label_acl = load_labels('MRNet-v1.0/train-acl.csv', 2)"
   ]
  },
  {
   "cell_type": "code",
   "execution_count": 31,
   "metadata": {
    "colab": {
     "base_uri": "https://localhost:8080/",
     "height": 682
    },
    "colab_type": "code",
    "id": "8EQtUg7STjJ2",
    "outputId": "83712fde-00e9-47ac-e638-ea288cbf0feb"
   },
   "outputs": [
    {
     "name": "stdout",
     "output_type": "stream",
     "text": [
      "Train on 2214 samples, validate on 46 samples\n",
      "Epoch 1/30\n",
      "2214/2214 [==============================] - 21s 10ms/step - loss: 0.5940 - acc: 0.7895 - val_loss: 2.1024 - val_acc: 0.8696\n"
     ]
    },
    {
     "name": "stderr",
     "output_type": "stream",
     "text": [
      "/usr/local/lib/python3.6/dist-packages/sklearn/metrics/classification.py:1437: UndefinedMetricWarning: F-score is ill-defined and being set to 0.0 due to no predicted samples.\n",
      "  'precision', 'predicted', average, warn_for)\n"
     ]
    },
    {
     "name": "stdout",
     "output_type": "stream",
     "text": [
      "-val_f1 : 0.000000 \n",
      "Epoch 2/30\n",
      "2214/2214 [==============================] - 21s 10ms/step - loss: 0.2609 - acc: 0.8677 - val_loss: 2.1024 - val_acc: 0.8696\n",
      "-val_f1 : 0.000000 \n",
      "Epoch 3/30\n",
      "2214/2214 [==============================] - 21s 10ms/step - loss: 0.1651 - acc: 0.9359 - val_loss: 2.1024 - val_acc: 0.8696\n",
      "-val_f1 : 0.000000 \n",
      "Epoch 4/30\n",
      "2214/2214 [==============================] - 22s 10ms/step - loss: 0.0820 - acc: 0.9720 - val_loss: 2.1024 - val_acc: 0.8696\n",
      "-val_f1 : 0.000000 \n"
     ]
    },
    {
     "data": {
      "image/png": "[encoded data removed]",
      "text/plain": [
       "<Figure size 576x432 with 1 Axes>"
      ]
     },
     "metadata": {
      "tags": []
     },
     "output_type": "display_data"
    }
   ],
   "source": [
    "#train the modified INCEPTIONV3 model that will accept the sagittal data and classify the knee is it has an acl tear or not \n",
    "sagittal_acl_model = fit_model(training_set_sagittal, training_label_acl, \"sagittal_acl_model\")"
   ]
  },
  {
   "cell_type": "code",
   "execution_count": 0,
   "metadata": {
    "colab": {},
    "colab_type": "code",
    "id": "UeLX5q-ugrSY"
   },
   "outputs": [],
   "source": [
    "del(training_label_acl)\n",
    "gc.collect()\n",
    "\n",
    "#load the data labels for the meniscus tear\n",
    "training_label_meniscus = load_labels('MRNet-v1.0/train-meniscus.csv', 2)"
   ]
  },
  {
   "cell_type": "code",
   "execution_count": 33,
   "metadata": {
    "colab": {
     "base_uri": "https://localhost:8080/",
     "height": 736
    },
    "colab_type": "code",
    "id": "gPKd-N7eTjUg",
    "outputId": "4baad8b1-6618-46cd-98c1-7d685d44a2ec"
   },
   "outputs": [
    {
     "name": "stdout",
     "output_type": "stream",
     "text": [
      "Train on 2214 samples, validate on 46 samples\n",
      "Epoch 1/30\n",
      "2214/2214 [==============================] - 21s 10ms/step - loss: 0.6581 - acc: 0.6906 - val_loss: 6.7667 - val_acc: 0.4130\n",
      "-val_f1 : 0.571429 \n",
      "Epoch 2/30\n",
      "2214/2214 [==============================] - 21s 10ms/step - loss: 0.4353 - acc: 0.7927 - val_loss: 2.9578 - val_acc: 0.6087\n",
      "-val_f1 : 0.608696 \n",
      "Epoch 3/30\n",
      "2214/2214 [==============================] - 22s 10ms/step - loss: 0.2849 - acc: 0.8681 - val_loss: 4.2076 - val_acc: 0.5652\n",
      "-val_f1 : 0.523810 \n",
      "Epoch 4/30\n",
      "2214/2214 [==============================] - 22s 10ms/step - loss: 0.1781 - acc: 0.9309 - val_loss: 8.5339 - val_acc: 0.4348\n",
      "-val_f1 : 0.518519 \n",
      "Epoch 5/30\n",
      "2214/2214 [==============================] - 22s 10ms/step - loss: 0.1321 - acc: 0.9526 - val_loss: 6.3071 - val_acc: 0.6087\n",
      "-val_f1 : 0.000000 \n"
     ]
    },
    {
     "name": "stderr",
     "output_type": "stream",
     "text": [
      "/usr/local/lib/python3.6/dist-packages/sklearn/metrics/classification.py:1437: UndefinedMetricWarning: F-score is ill-defined and being set to 0.0 due to no predicted samples.\n",
      "  'precision', 'predicted', average, warn_for)\n"
     ]
    },
    {
     "data": {
      "image/png": "[encoded data removed]",
      "text/plain": [
       "<Figure size 576x432 with 1 Axes>"
      ]
     },
     "metadata": {
      "tags": []
     },
     "output_type": "display_data"
    }
   ],
   "source": [
    "#train the modified INCEPTIONV3 model that will accept the sagittal data and classify the knee is it has a meniscus tear or not \n",
    "sagittal_meniscus_model = fit_model(training_set_sagittal, training_label_meniscus, \"sagittal_meniscus_model\")"
   ]
  },
  {
   "cell_type": "markdown",
   "metadata": {
    "colab_type": "text",
    "id": "T2OJcQKsZbs4"
   },
   "source": [
    "## Evaluate the 9 models"
   ]
  },
  {
   "cell_type": "code",
   "execution_count": 0,
   "metadata": {
    "colab": {},
    "colab_type": "code",
    "id": "rLaW7IDwZeXD"
   },
   "outputs": [],
   "source": [
    "#load the test data of one single angle of the exams (axial | coronal | sagittal) by giving the angle name\n",
    "def testSet(file_name):\n",
    "    test_set = []\n",
    "    for np_name in sorted(glob.glob('MRNet-v1.0/valid/'+file_name+'/*.npy')):\n",
    "        test_set.append(np.load(np_name))\n",
    "    return test_set   "
   ]
  },
  {
   "cell_type": "code",
   "execution_count": 0,
   "metadata": {
    "colab": {},
    "colab_type": "code",
    "id": "Zokr_v_0aXCD"
   },
   "outputs": [],
   "source": [
    "#load the test data for each angle of the knee\n",
    "test_set_axial= testSet('axial')\n",
    "test_set_coronal=testSet('coronal')\n",
    "test_set_sagittal=testSet('sagittal')"
   ]
  },
  {
   "cell_type": "code",
   "execution_count": 0,
   "metadata": {
    "colab": {},
    "colab_type": "code",
    "id": "ewlW0t1-atSY"
   },
   "outputs": [],
   "source": [
    "#extract the middel 3 slices from each stack\n",
    "test_set_axial = extract_3(test_set_axial, 120)\n",
    "test_set_coronal =extract_3(test_set_coronal, 120)\n",
    "test_set_sagittal =extract_3(test_set_sagittal, 120)"
   ]
  },
  {
   "cell_type": "code",
   "execution_count": 0,
   "metadata": {
    "colab": {},
    "colab_type": "code",
    "id": "6U0JME9GbQ6c"
   },
   "outputs": [],
   "source": [
    "#load the labels of the test data for each knee tear \n",
    "test_label_abnormal = load_labels('MRNet-v1.0/valid-abnormal.csv', 1)\n",
    "test_label_acl = load_labels('MRNet-v1.0/valid-acl.csv', 1)\n",
    "test_label_meniscus = load_labels('MRNet-v1.0/valid-meniscus.csv', 1)"
   ]
  },
  {
   "cell_type": "code",
   "execution_count": 38,
   "metadata": {
    "colab": {
     "base_uri": "https://localhost:8080/",
     "height": 54
    },
    "colab_type": "code",
    "id": "9s9dhoElbugv",
    "outputId": "9f691405-46ef-4ef0-a060-2b12376ec22a"
   },
   "outputs": [
    {
     "name": "stdout",
     "output_type": "stream",
     "text": [
      "120/120 [==============================] - 44s 363ms/step\n"
     ]
    },
    {
     "data": {
      "text/plain": [
       "[3.321330364545206, 0.7916666666666666]"
      ]
     },
     "execution_count": 38,
     "metadata": {
      "tags": []
     },
     "output_type": "execute_result"
    }
   ],
   "source": [
    "axial_abnormal_model.evaluate(test_set_axial, test_label_abnormal)"
   ]
  },
  {
   "cell_type": "code",
   "execution_count": 39,
   "metadata": {
    "colab": {
     "base_uri": "https://localhost:8080/",
     "height": 54
    },
    "colab_type": "code",
    "id": "RcjfITHubwXY",
    "outputId": "c3c5c448-25b1-40d1-a201-00b23bfe6d27"
   },
   "outputs": [
    {
     "name": "stdout",
     "output_type": "stream",
     "text": [
      "120/120 [==============================] - 44s 369ms/step\n"
     ]
    },
    {
     "data": {
      "text/plain": [
       "[7.25314295574382, 0.55]"
      ]
     },
     "execution_count": 39,
     "metadata": {
      "tags": []
     },
     "output_type": "execute_result"
    }
   ],
   "source": [
    "axial_acl_model.evaluate(test_set_axial, test_label_acl) "
   ]
  },
  {
   "cell_type": "code",
   "execution_count": 40,
   "metadata": {
    "colab": {
     "base_uri": "https://localhost:8080/",
     "height": 54
    },
    "colab_type": "code",
    "id": "uqxIfVvUbwtx",
    "outputId": "db399402-2249-4a9f-fe77-ae3052976a7e"
   },
   "outputs": [
    {
     "name": "stdout",
     "output_type": "stream",
     "text": [
      "120/120 [==============================] - 44s 366ms/step\n"
     ]
    },
    {
     "data": {
      "text/plain": [
       "[6.9845082867578165, 0.5666666666666667]"
      ]
     },
     "execution_count": 40,
     "metadata": {
      "tags": []
     },
     "output_type": "execute_result"
    }
   ],
   "source": [
    "axial_meniscus_model.evaluate(test_set_axial, test_label_meniscus) "
   ]
  },
  {
   "cell_type": "code",
   "execution_count": 41,
   "metadata": {
    "colab": {
     "base_uri": "https://localhost:8080/",
     "height": 54
    },
    "colab_type": "code",
    "id": "gEgu3jd4bw3W",
    "outputId": "46e19da7-d9ff-43d6-f984-2a5eda1f765b"
   },
   "outputs": [
    {
     "name": "stdout",
     "output_type": "stream",
     "text": [
      "120/120 [==============================] - 45s 371ms/step\n"
     ]
    },
    {
     "data": {
      "text/plain": [
       "[3.3238882442315503, 0.775]"
      ]
     },
     "execution_count": 41,
     "metadata": {
      "tags": []
     },
     "output_type": "execute_result"
    }
   ],
   "source": [
    "coronal_abnormal_model.evaluate(test_set_coronal, test_label_abnormal)"
   ]
  },
  {
   "cell_type": "code",
   "execution_count": 42,
   "metadata": {
    "colab": {
     "base_uri": "https://localhost:8080/",
     "height": 54
    },
    "colab_type": "code",
    "id": "ZPQpGpC2bw7v",
    "outputId": "a1515aed-710f-4da2-bc64-336f29a364dc"
   },
   "outputs": [
    {
     "name": "stdout",
     "output_type": "stream",
     "text": [
      "120/120 [==============================] - 44s 370ms/step\n"
     ]
    },
    {
     "data": {
      "text/plain": [
       "[7.25314295574382, 0.55]"
      ]
     },
     "execution_count": 42,
     "metadata": {
      "tags": []
     },
     "output_type": "execute_result"
    }
   ],
   "source": [
    "coronal_acl_model.evaluate(test_set_coronal, test_label_acl)"
   ]
  },
  {
   "cell_type": "code",
   "execution_count": 43,
   "metadata": {
    "colab": {
     "base_uri": "https://localhost:8080/",
     "height": 54
    },
    "colab_type": "code",
    "id": "FmvpiJsnbw-r",
    "outputId": "8fef58f9-6ba3-42dc-e48f-7ac5997a8586"
   },
   "outputs": [
    {
     "name": "stdout",
     "output_type": "stream",
     "text": [
      "120/120 [==============================] - 44s 370ms/step\n"
     ]
    },
    {
     "data": {
      "text/plain": [
       "[6.853271393396638, 0.5666666666666667]"
      ]
     },
     "execution_count": 43,
     "metadata": {
      "tags": []
     },
     "output_type": "execute_result"
    }
   ],
   "source": [
    "coronal_meniscus_model.evaluate(test_set_coronal, test_label_meniscus)"
   ]
  },
  {
   "cell_type": "code",
   "execution_count": 44,
   "metadata": {
    "colab": {
     "base_uri": "https://localhost:8080/",
     "height": 54
    },
    "colab_type": "code",
    "id": "HN2eLE6ObxBM",
    "outputId": "27a383f7-2ff4-475e-b0ed-99db4ab23f2b"
   },
   "outputs": [
    {
     "name": "stdout",
     "output_type": "stream",
     "text": [
      "120/120 [==============================] - 45s 377ms/step\n"
     ]
    },
    {
     "data": {
      "text/plain": [
       "[2.6245004099542713, 0.7916666666666666]"
      ]
     },
     "execution_count": 44,
     "metadata": {
      "tags": []
     },
     "output_type": "execute_result"
    }
   ],
   "source": [
    "sagittal_abnormal_model.evaluate(test_set_sagittal, test_label_abnormal)"
   ]
  },
  {
   "cell_type": "code",
   "execution_count": 45,
   "metadata": {
    "colab": {
     "base_uri": "https://localhost:8080/",
     "height": 54
    },
    "colab_type": "code",
    "id": "mqIhEuzrsqDE",
    "outputId": "63f79579-e06b-4b95-9a8d-e2ab4aad8e0e"
   },
   "outputs": [
    {
     "name": "stdout",
     "output_type": "stream",
     "text": [
      "120/120 [==============================] - 45s 376ms/step\n"
     ]
    },
    {
     "data": {
      "text/plain": [
       "[7.25314295574382, 0.55]"
      ]
     },
     "execution_count": 45,
     "metadata": {
      "tags": []
     },
     "output_type": "execute_result"
    }
   ],
   "source": [
    "sagittal_acl_model.evaluate(test_set_sagittal, test_label_acl)"
   ]
  },
  {
   "cell_type": "code",
   "execution_count": 46,
   "metadata": {
    "colab": {
     "base_uri": "https://localhost:8080/",
     "height": 54
    },
    "colab_type": "code",
    "id": "ZTcUHNtEeVOQ",
    "outputId": "74defb33-cb7f-4af2-af99-0d82bc01ae8b"
   },
   "outputs": [
    {
     "name": "stdout",
     "output_type": "stream",
     "text": [
      "120/120 [==============================] - 45s 378ms/step\n"
     ]
    },
    {
     "data": {
      "text/plain": [
       "[4.1824597676595054, 0.4749999980131785]"
      ]
     },
     "execution_count": 46,
     "metadata": {
      "tags": []
     },
     "output_type": "execute_result"
    }
   ],
   "source": [
    "sagittal_meniscus_model.evaluate(test_set_sagittal, test_label_meniscus)"
   ]
  },
  {
   "cell_type": "code",
   "execution_count": 0,
   "metadata": {
    "colab": {},
    "colab_type": "code",
    "id": "s4FM2wYUeZYm"
   },
   "outputs": [],
   "source": [
    "#predict if the knee has an acl tear by using the data of the 3 knee angel (axial, coronal & sagittal)\n",
    "#and the 3 models that accept one of these data and predict if the knee has an abnromal tear or not\n",
    "#by doing a majority voting between the 3 models\n",
    "def predict_abnormal(axial_input, coronal_input, sagittal_input, ground_truth):\n",
    "    axial_abnormal_prediction = axial_abnormal_model.predict(axial_input)\n",
    "    coronal_abnormal_prediction = coronal_abnormal_model.predict(coronal_input)\n",
    "    sagittal_abnormal_prediction = sagittal_abnormal_model.predict(sagittal_input)\n",
    "    \n",
    "    #to say that the exam has the acl tear or not, each of the models will vote in this decision\n",
    "    #and the final decision will be made by taking the max vote\n",
    "    predict_voting = []\n",
    "    for i in range (len(axial_abnormal_prediction)):\n",
    "        voting_list =[0, 0] \n",
    "        \n",
    "        #make the axial_acl_model vote for the final decision \n",
    "        if(axial_abnormal_prediction[i]>0.5):\n",
    "            voting_list[1] +=1\n",
    "        else:\n",
    "            voting_list[0] += 1\n",
    "    \n",
    "        #make the coronal_acl_model vote for the final decision \n",
    "        if(coronal_abnormal_prediction[i]>0.5):\n",
    "            voting_list[1] +=1\n",
    "        else:\n",
    "            voting_list[0] += 1\n",
    "            \n",
    "        #make the sagittal_acl_model vote for the final decision \n",
    "        if(sagittal_abnormal_prediction[i]>0.5):\n",
    "            voting_list[1] +=1\n",
    "        else:\n",
    "            voting_list[0] += 1\n",
    "        \n",
    "        #give the exam the prediction that has the most votes\n",
    "        predict_voting.append(np.argmax(voting_list))\n",
    "    \n",
    "  \n",
    "    return accuracy_score(ground_truth, np.array(predict_voting)) * 100"
   ]
  },
  {
   "cell_type": "code",
   "execution_count": 0,
   "metadata": {
    "colab": {},
    "colab_type": "code",
    "id": "41dMCBZleZgS"
   },
   "outputs": [],
   "source": [
    "#predict if the knee has an acl tear by using the data of the 3 knee angel (axial, coronal & sagittal)\n",
    "#and the 3 models that accept one of these data and predict if the knee has an acl tear or not\n",
    "#by doing a majority voting between the 3 models\n",
    "def predict_acl(axial_input, coronal_input, sagittal_input, ground_truth):\n",
    "    axial_acl_prediction = axial_acl_model.predict(axial_input)\n",
    "    coronal_acl_prediction = coronal_acl_model.predict(coronal_input)\n",
    "    sagittal_acl_prediction = sagittal_acl_model.predict(sagittal_input)\n",
    "    \n",
    "    #to say that the exam has the acl tear or not, each of the models will vote in this decision\n",
    "    #and the final decision will be made by taking the max vote\n",
    "    predict_voting = []\n",
    "    for i in range (len(axial_acl_prediction)):\n",
    "        voting_list =[0, 0] \n",
    "        \n",
    "        #make the axial_acl_model vote for the final decision \n",
    "        if(axial_acl_prediction[i]>0.5):\n",
    "            voting_list[1] +=1\n",
    "        else:\n",
    "            voting_list[0] += 1\n",
    "    \n",
    "        #make the coronal_acl_model vote for the final decision \n",
    "        if(coronal_acl_prediction[i]>0.5):\n",
    "            voting_list[1] +=1\n",
    "        else:\n",
    "            voting_list[0] += 1\n",
    "            \n",
    "        #make the sagittal_acl_model vote for the final decision \n",
    "        if(sagittal_acl_prediction[i]>0.5):\n",
    "            voting_list[1] +=1\n",
    "        else:\n",
    "            voting_list[0] += 1\n",
    "        \n",
    "        #give the exam the prediction that has the most votes\n",
    "        predict_voting.append(np.argmax(voting_list))\n",
    "    \n",
    "  \n",
    "    return accuracy_score(ground_truth, np.array(predict_voting)) * 100"
   ]
  },
  {
   "cell_type": "code",
   "execution_count": 0,
   "metadata": {
    "colab": {},
    "colab_type": "code",
    "id": "H_kbSJWyeZkB"
   },
   "outputs": [],
   "source": [
    "#predict if the knee has an meniscus tear by using the data of the 3 knee angel (axial, coronal & sagittal)\n",
    "#and the 3 models that accept one of these data and predict if the knee has an meniscus tear or not\n",
    "#by doing a majority voting between the 3 models\n",
    "def predict_meniscus(axial_input, coronal_input, sagittal_input, ground_truth):\n",
    "    axial_meniscus_prediction = axial_meniscus_model.predict(axial_input)\n",
    "    coronal_meniscus_prediction = coronal_meniscus_model.predict(coronal_input)\n",
    "    sagittal_meniscus_prediction = sagittal_meniscus_model.predict(sagittal_input)\n",
    "    \n",
    "    #to say that the exam has the meniscus tear or not, each of the models will vote in this decision\n",
    "    #and the final decision will be made by taking the max vote\n",
    "    predict_voting = []\n",
    "    for i in range (len(axial_meniscus_prediction)):\n",
    "        voting_list =[0, 0] \n",
    "        \n",
    "        #make the axial_meniscus_model vote for the final decision \n",
    "        if(axial_meniscus_prediction[i]>0.5):\n",
    "            voting_list[1] +=1\n",
    "        else:\n",
    "            voting_list[0] += 1\n",
    "    \n",
    "        #make the coronal_meniscus_model vote for the final decision \n",
    "        if(coronal_meniscus_prediction[i]>0.5):\n",
    "            voting_list[1] +=1\n",
    "        else:\n",
    "            voting_list[0] += 1\n",
    "            \n",
    "        #make the sagittal_meniscus_model vote for the final decision \n",
    "        if(sagittal_meniscus_prediction[i]>0.5):\n",
    "            voting_list[1] +=1\n",
    "        else:\n",
    "            voting_list[0] += 1\n",
    "        \n",
    "        #give the exam the prediction that has the most votes\n",
    "        predict_voting.append(np.argmax(voting_list))\n",
    "    \n",
    "  \n",
    "    return accuracy_score(ground_truth, np.array(predict_voting)) * 100"
   ]
  },
  {
   "cell_type": "code",
   "execution_count": 50,
   "metadata": {
    "colab": {
     "base_uri": "https://localhost:8080/",
     "height": 35
    },
    "colab_type": "code",
    "id": "ZFK0To77elJL",
    "outputId": "48d84d9f-b255-4200-a036-35f91e7a01ad"
   },
   "outputs": [
    {
     "name": "stdout",
     "output_type": "stream",
     "text": [
      "79.16666666666666\n"
     ]
    }
   ],
   "source": [
    "#evaluate the abnormal ensemble models\n",
    "print (predict_abnormal(test_set_axial, test_set_coronal, test_set_sagittal, test_label_abnormal))"
   ]
  },
  {
   "cell_type": "code",
   "execution_count": 51,
   "metadata": {
    "colab": {
     "base_uri": "https://localhost:8080/",
     "height": 35
    },
    "colab_type": "code",
    "id": "sK1HlpfmelMb",
    "outputId": "d6db24d1-97a9-4f0d-d332-c89683fe7aea"
   },
   "outputs": [
    {
     "name": "stdout",
     "output_type": "stream",
     "text": [
      "55.00000000000001\n"
     ]
    }
   ],
   "source": [
    "#evaluate the acl ensemble models\n",
    "print (predict_acl(test_set_axial, test_set_coronal, test_set_sagittal, test_label_acl))"
   ]
  },
  {
   "cell_type": "code",
   "execution_count": 52,
   "metadata": {
    "colab": {
     "base_uri": "https://localhost:8080/",
     "height": 35
    },
    "colab_type": "code",
    "id": "HIxG9mqielPy",
    "outputId": "47425457-a4c8-46be-b6f2-70ca97f6e262"
   },
   "outputs": [
    {
     "name": "stdout",
     "output_type": "stream",
     "text": [
      "56.666666666666664\n"
     ]
    }
   ],
   "source": [
    "#evaluate the meniscus ensemble models\n",
    "print (predict_meniscus(test_set_axial, test_set_coronal, test_set_sagittal, test_label_meniscus))"
   ]
  }
 ],
 "metadata": {
  "accelerator": "GPU",
  "colab": {
   "collapsed_sections": [],
   "name": "MRNet2.ipynb",
   "provenance": [],
   "version": "0.3.2"
  },
  "kernelspec": {
   "display_name": "Python 3",
   "language": "python",
   "name": "python3"
  },
  "language_info": {
   "codemirror_mode": {
    "name": "ipython",
    "version": 3
   },
   "file_extension": ".py",
   "mimetype": "text/x-python",
   "name": "python",
   "nbconvert_exporter": "python",
   "pygments_lexer": "ipython3",
   "version": "3.7.3"
  }
 },
 "nbformat": 4,
 "nbformat_minor": 1
}
