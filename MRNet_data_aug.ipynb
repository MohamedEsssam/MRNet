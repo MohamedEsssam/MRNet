{
  "nbformat": 4,
  "nbformat_minor": 0,
  "metadata": {
    "colab": {
      "name": "MRNet_data aug.ipynb",
      "version": "0.3.2",
      "provenance": [],
      "collapsed_sections": []
    },
    "language_info": {
      "codemirror_mode": {
        "name": "ipython",
        "version": 3
      },
      "file_extension": ".py",
      "mimetype": "text/x-python",
      "name": "python",
      "nbconvert_exporter": "python",
      "pygments_lexer": "ipython3",
      "version": "3.7.3"
    },
    "kernelspec": {
      "display_name": "Python 3",
      "language": "python",
      "name": "python3"
    },
    "accelerator": "GPU"
  },
  "cells": [
    {
      "cell_type": "code",
      "metadata": {
        "colab_type": "code",
        "id": "VgPa4TB6FGYm",
        "outputId": "b670a150-aaf5-41eb-ce66-8539f2013e62",
        "colab": {
          "base_uri": "https://localhost:8080/",
          "height": 34
        }
      },
      "source": [
        "from google.colab import drive\n",
        "import numpy as np\n",
        "import matplotlib\n",
        "import matplotlib.pyplot as plt\n",
        "import matplotlib as mpl\n",
        "import glob\n",
        "from sklearn.preprocessing import normalize\n",
        "import gc\n",
        "from keras.applications.inception_v3 import InceptionV3\n",
        "from keras.applications.xception import Xception\n",
        "from keras.layers import Input, Dense, Flatten, GlobalAveragePooling2D, GlobalMaxPooling2D \n",
        "from keras.models import Model\n",
        "from keras.optimizers import SGD\n",
        "from sklearn.model_selection import train_test_split\n",
        "from keras.callbacks import EarlyStopping, ModelCheckpoint, Callback\n",
        "from keras.models import load_model\n",
        "from keras.layers import Dropout\n",
        "from keras import backend as K\n",
        "from sklearn.metrics import accuracy_score, confusion_matrix, f1_score, precision_score, recall_score\n",
        "from keras.preprocessing.image import ImageDataGenerator"
      ],
      "execution_count": 1,
      "outputs": [
        {
          "output_type": "stream",
          "text": [
            "Using TensorFlow backend.\n"
          ],
          "name": "stderr"
        }
      ]
    },
    {
      "cell_type": "code",
      "metadata": {
        "colab_type": "code",
        "id": "wr4vmtAHFWd6",
        "outputId": "5671660c-1334-44eb-a521-0e9647b3f784",
        "colab": {
          "base_uri": "https://localhost:8080/",
          "height": 122
        }
      },
      "source": [
        "drive.mount('/content/drive')\n",
        "root_path = 'drive/My Drive/Colab Notebooks/'"
      ],
      "execution_count": 2,
      "outputs": [
        {
          "output_type": "stream",
          "text": [
            "Go to this URL in a browser: https://accounts.google.com/o/oauth2/auth?client_id=947318989803-6bn6qk8qdgf4n4g3pfee6491hc0brc4i.apps.googleusercontent.com&redirect_uri=urn%3Aietf%3Awg%3Aoauth%3A2.0%3Aoob&scope=email%20https%3A%2F%2Fwww.googleapis.com%2Fauth%2Fdocs.test%20https%3A%2F%2Fwww.googleapis.com%2Fauth%2Fdrive%20https%3A%2F%2Fwww.googleapis.com%2Fauth%2Fdrive.photos.readonly%20https%3A%2F%2Fwww.googleapis.com%2Fauth%2Fpeopleapi.readonly&response_type=code\n",
            "\n",
            "Enter your authorization code:\n",
            "··········\n",
            "Mounted at /content/drive\n"
          ],
          "name": "stdout"
        }
      ]
    },
    {
      "cell_type": "code",
      "metadata": {
        "colab_type": "code",
        "id": "IGZvfyYLFfOA",
        "outputId": "627a4777-5a6c-46ab-d6eb-ba9b87090279",
        "colab": {
          "base_uri": "https://localhost:8080/",
          "height": 34
        }
      },
      "source": [
        "cd drive/My Drive/Colab Notebooks"
      ],
      "execution_count": 3,
      "outputs": [
        {
          "output_type": "stream",
          "text": [
            "/content/drive/My Drive/Colab Notebooks\n"
          ],
          "name": "stdout"
        }
      ]
    },
    {
      "cell_type": "code",
      "metadata": {
        "colab_type": "code",
        "id": "0IZsEifGF6xD",
        "colab": {}
      },
      "source": [
        "#load the training data of one single angle of the exams (axial | coronal | sagittal) by giving the angle name\n",
        "def trainingSet(file_name):\n",
        "    training_set = []\n",
        "    for np_name in sorted(glob.glob('MRNet-v1.0/train/'+file_name+'/*.npy')):\n",
        "        training_set.append(np.load(np_name))\n",
        "    return training_set  "
      ],
      "execution_count": 0,
      "outputs": []
    },
    {
      "cell_type": "code",
      "metadata": {
        "colab_type": "code",
        "id": "hDEOQ3sUG-JL",
        "colab": {}
      },
      "source": [
        "#load the labels of one knee tear(abnormal | acl | meniscus) by the giving the file name that contains the labels\n",
        "def load_labels(train_file_name):\n",
        "    training_labels = np.loadtxt(train_file_name, delimiter=',')[:,1]\n",
        "    return training_labels"
      ],
      "execution_count": 0,
      "outputs": []
    },
    {
      "cell_type": "code",
      "metadata": {
        "colab_type": "code",
        "id": "MA0X0JzCNfXX",
        "colab": {}
      },
      "source": [
        "#as each exam (stack) contains S slices and most of the pretrained CNN models accept the image with channel = 3\n",
        "#extract the middle 3 slices as most of the time they deside if the patiant has a certain tear or not\n",
        "def extract_3(dataset, data_size):\n",
        "    for i in range(len(dataset)):\n",
        "        dataset[i] = list(dataset[i])\n",
        "        middel_idx = int(len(dataset[i]) / 2)\n",
        "        dataset[i] = dataset[i][middel_idx - 1 : middel_idx + 2]\n",
        "        dataset[i] = np.array(dataset[i])\n",
        "    dataset = np.array(dataset)\n",
        "    dataset = dataset.reshape(data_size, 256, 256 ,3)\n",
        "    return dataset"
      ],
      "execution_count": 0,
      "outputs": []
    },
    {
      "cell_type": "code",
      "metadata": {
        "colab_type": "code",
        "id": "w_hU0XOUGhby",
        "colab": {}
      },
      "source": [
        "#load the training data for each angle of the knee\n",
        "training_set_axial= trainingSet('axial')\n",
        "training_set_coronal=trainingSet('coronal')\n",
        "training_set_sagittal=trainingSet('sagittal')"
      ],
      "execution_count": 0,
      "outputs": []
    },
    {
      "cell_type": "code",
      "metadata": {
        "colab_type": "code",
        "id": "fnjEyVtvN8mS",
        "colab": {}
      },
      "source": [
        "#extract the middel 3 slices from each stack\n",
        "training_set_axial = extract_3(training_set_axial, 1130)\n",
        "training_set_coronal =extract_3(training_set_coronal, 1130)\n",
        "training_set_sagittal =extract_3(training_set_sagittal, 1130)"
      ],
      "execution_count": 0,
      "outputs": []
    },
    {
      "cell_type": "code",
      "metadata": {
        "colab_type": "code",
        "id": "4oOEuN-VTVYB",
        "outputId": "d3ddbb99-6b64-4d61-8d02-6c7133960ad5",
        "colab": {
          "base_uri": "https://localhost:8080/",
          "height": 34
        }
      },
      "source": [
        "training_set_axial.shape"
      ],
      "execution_count": 9,
      "outputs": [
        {
          "output_type": "execute_result",
          "data": {
            "text/plain": [
              "(1130, 256, 256, 3)"
            ]
          },
          "metadata": {
            "tags": []
          },
          "execution_count": 9
        }
      ]
    },
    {
      "cell_type": "code",
      "metadata": {
        "colab_type": "code",
        "id": "5-fzezVNHInf",
        "colab": {}
      },
      "source": [
        "#load the labels of the trainig data for each knee tear \n",
        "training_label_abnormal = load_labels('MRNet-v1.0/train-abnormal.csv')\n",
        "training_label_acl = load_labels('MRNet-v1.0/train-acl.csv')\n",
        "training_label_meniscus = load_labels('MRNet-v1.0/train-meniscus.csv')"
      ],
      "execution_count": 0,
      "outputs": []
    },
    {
      "cell_type": "code",
      "metadata": {
        "colab_type": "code",
        "id": "soOp5GPoTbOh",
        "outputId": "aeb2900c-7bfc-4462-82c4-4d79158706f3",
        "colab": {
          "base_uri": "https://localhost:8080/",
          "height": 34
        }
      },
      "source": [
        "training_label_abnormal.shape"
      ],
      "execution_count": 11,
      "outputs": [
        {
          "output_type": "execute_result",
          "data": {
            "text/plain": [
              "(1130,)"
            ]
          },
          "metadata": {
            "tags": []
          },
          "execution_count": 11
        }
      ]
    },
    {
      "cell_type": "code",
      "metadata": {
        "colab_type": "code",
        "id": "mKpopatuHiUu",
        "colab": {}
      },
      "source": [
        "datagen = ImageDataGenerator(\n",
        "        rotation_range=5,\n",
        "        width_shift_range=0.05,\n",
        "        height_shift_range=0.05,\n",
        "        zoom_range=0.01,\n",
        "        fill_mode='nearest')"
      ],
      "execution_count": 0,
      "outputs": []
    },
    {
      "cell_type": "code",
      "metadata": {
        "colab_type": "code",
        "id": "v3f9NyZpHidA",
        "colab": {}
      },
      "source": [
        "def data_augmentation(dataset, labels):\n",
        "  augmented_data = []\n",
        "  augmented_labels = []\n",
        "  num_augmented = 0\n",
        "  for X_batch, y_batch in datagen.flow(dataset, labels, batch_size= dataset.shape[0], shuffle=False):\n",
        "      augmented_data.append(X_batch)\n",
        "      augmented_labels.append(y_batch)\n",
        "      num_augmented += dataset.shape[0]\n",
        "      if num_augmented == dataset.shape[0] * 2:\n",
        "          break\n",
        "          \n",
        "  dataset = np.array(augmented_data).reshape(num_augmented, 256, 256, 3)\n",
        "  labels = np.array(augmented_labels).reshape(num_augmented, 1)\n",
        "  return dataset, labels"
      ],
      "execution_count": 0,
      "outputs": []
    },
    {
      "cell_type": "code",
      "metadata": {
        "colab_type": "code",
        "id": "qAPQR6ufHiiX",
        "colab": {}
      },
      "source": [
        "training_set_axial, training_label_abnormal = data_augmentation(training_set_axial, training_label_abnormal)"
      ],
      "execution_count": 0,
      "outputs": []
    },
    {
      "cell_type": "code",
      "metadata": {
        "colab_type": "code",
        "id": "GiGP4ht1WZOB",
        "colab": {}
      },
      "source": [
        "training_set_coronal, training_label_acl = data_augmentation(training_set_coronal, training_label_acl)"
      ],
      "execution_count": 0,
      "outputs": []
    },
    {
      "cell_type": "code",
      "metadata": {
        "colab_type": "code",
        "id": "Yo0B1mWiWZcj",
        "colab": {}
      },
      "source": [
        "training_set_sagittal, training_label_meniscus = data_augmentation(training_set_sagittal, training_label_meniscus)"
      ],
      "execution_count": 0,
      "outputs": []
    },
    {
      "cell_type": "code",
      "metadata": {
        "colab_type": "code",
        "id": "KjJQBf4aOW2d",
        "colab": {
          "base_uri": "https://localhost:8080/",
          "height": 34
        },
        "outputId": "1fb79101-ed6b-44f4-83d2-e773ad913e1c"
      },
      "source": [
        "training_set_axial.shape"
      ],
      "execution_count": 17,
      "outputs": [
        {
          "output_type": "execute_result",
          "data": {
            "text/plain": [
              "(2260, 256, 256, 3)"
            ]
          },
          "metadata": {
            "tags": []
          },
          "execution_count": 17
        }
      ]
    },
    {
      "cell_type": "code",
      "metadata": {
        "colab_type": "code",
        "id": "9fXZ-LbeKhR0",
        "colab": {
          "base_uri": "https://localhost:8080/",
          "height": 11597
        },
        "outputId": "168bdaed-e5ee-4fbf-9688-a8d749007963"
      },
      "source": [
        "#load INCEPTIONV3 pretrainned model from keras without the top layer &\n",
        "#specify the shape of the input image as (256x256x3) \n",
        "mri_InceptionV3 = InceptionV3(include_top = False, input_shape = (256, 256, 3))\n",
        "\n",
        "#remove the last one\n",
        "mri_InceptionV3.layers.pop()\n",
        "\n",
        "#get the output of the INCEPTIONV# model \"feature extraction\" and add Dense layers so that the model is designed\n",
        "#to classify our data\n",
        "mri_InceptionV3_output = mri_InceptionV3.output\n",
        "\n",
        "mri_InceptionV3_last_layer = GlobalMaxPooling2D()(mri_InceptionV3_output)\n",
        "\n",
        "mri_InceptionV3_last_layer = Dense(1024, activation = 'relu')(mri_InceptionV3_last_layer)\n",
        "\n",
        "mri_InceptionV3_last_layer = Dense(128, activation = 'relu')(mri_InceptionV3_last_layer)\n",
        "\n",
        "mri_InceptionV3_last_layer = Dense(32, activation = 'relu')(mri_InceptionV3_last_layer)\n",
        "\n",
        "predictor = Dense(1, activation='sigmoid')(mri_InceptionV3_last_layer)\n",
        "\n",
        "modified_mri_InceptionV3 = Model(inputs = mri_InceptionV3.input, output = predictor)\n",
        "\n",
        "modified_mri_InceptionV3.summary()"
      ],
      "execution_count": 18,
      "outputs": [
        {
          "output_type": "stream",
          "text": [
            "WARNING:tensorflow:From /usr/local/lib/python3.6/dist-packages/tensorflow/python/framework/op_def_library.py:263: colocate_with (from tensorflow.python.framework.ops) is deprecated and will be removed in a future version.\n",
            "Instructions for updating:\n",
            "Colocations handled automatically by placer.\n",
            "Downloading data from https://github.com/fchollet/deep-learning-models/releases/download/v0.5/inception_v3_weights_tf_dim_ordering_tf_kernels_notop.h5\n",
            "87916544/87910968 [==============================] - 1s 0us/step\n",
            "__________________________________________________________________________________________________\n",
            "Layer (type)                    Output Shape         Param #     Connected to                     \n",
            "==================================================================================================\n",
            "input_1 (InputLayer)            (None, 256, 256, 3)  0                                            \n",
            "__________________________________________________________________________________________________\n",
            "conv2d_1 (Conv2D)               (None, 127, 127, 32) 864         input_1[0][0]                    \n",
            "__________________________________________________________________________________________________\n",
            "batch_normalization_1 (BatchNor (None, 127, 127, 32) 96          conv2d_1[0][0]                   \n",
            "__________________________________________________________________________________________________\n",
            "activation_1 (Activation)       (None, 127, 127, 32) 0           batch_normalization_1[0][0]      \n",
            "__________________________________________________________________________________________________\n",
            "conv2d_2 (Conv2D)               (None, 125, 125, 32) 9216        activation_1[0][0]               \n",
            "__________________________________________________________________________________________________\n",
            "batch_normalization_2 (BatchNor (None, 125, 125, 32) 96          conv2d_2[0][0]                   \n",
            "__________________________________________________________________________________________________\n",
            "activation_2 (Activation)       (None, 125, 125, 32) 0           batch_normalization_2[0][0]      \n",
            "__________________________________________________________________________________________________\n",
            "conv2d_3 (Conv2D)               (None, 125, 125, 64) 18432       activation_2[0][0]               \n",
            "__________________________________________________________________________________________________\n",
            "batch_normalization_3 (BatchNor (None, 125, 125, 64) 192         conv2d_3[0][0]                   \n",
            "__________________________________________________________________________________________________\n",
            "activation_3 (Activation)       (None, 125, 125, 64) 0           batch_normalization_3[0][0]      \n",
            "__________________________________________________________________________________________________\n",
            "max_pooling2d_1 (MaxPooling2D)  (None, 62, 62, 64)   0           activation_3[0][0]               \n",
            "__________________________________________________________________________________________________\n",
            "conv2d_4 (Conv2D)               (None, 62, 62, 80)   5120        max_pooling2d_1[0][0]            \n",
            "__________________________________________________________________________________________________\n",
            "batch_normalization_4 (BatchNor (None, 62, 62, 80)   240         conv2d_4[0][0]                   \n",
            "__________________________________________________________________________________________________\n",
            "activation_4 (Activation)       (None, 62, 62, 80)   0           batch_normalization_4[0][0]      \n",
            "__________________________________________________________________________________________________\n",
            "conv2d_5 (Conv2D)               (None, 60, 60, 192)  138240      activation_4[0][0]               \n",
            "__________________________________________________________________________________________________\n",
            "batch_normalization_5 (BatchNor (None, 60, 60, 192)  576         conv2d_5[0][0]                   \n",
            "__________________________________________________________________________________________________\n",
            "activation_5 (Activation)       (None, 60, 60, 192)  0           batch_normalization_5[0][0]      \n",
            "__________________________________________________________________________________________________\n",
            "max_pooling2d_2 (MaxPooling2D)  (None, 29, 29, 192)  0           activation_5[0][0]               \n",
            "__________________________________________________________________________________________________\n",
            "conv2d_9 (Conv2D)               (None, 29, 29, 64)   12288       max_pooling2d_2[0][0]            \n",
            "__________________________________________________________________________________________________\n",
            "batch_normalization_9 (BatchNor (None, 29, 29, 64)   192         conv2d_9[0][0]                   \n",
            "__________________________________________________________________________________________________\n",
            "activation_9 (Activation)       (None, 29, 29, 64)   0           batch_normalization_9[0][0]      \n",
            "__________________________________________________________________________________________________\n",
            "conv2d_7 (Conv2D)               (None, 29, 29, 48)   9216        max_pooling2d_2[0][0]            \n",
            "__________________________________________________________________________________________________\n",
            "conv2d_10 (Conv2D)              (None, 29, 29, 96)   55296       activation_9[0][0]               \n",
            "__________________________________________________________________________________________________\n",
            "batch_normalization_7 (BatchNor (None, 29, 29, 48)   144         conv2d_7[0][0]                   \n",
            "__________________________________________________________________________________________________\n",
            "batch_normalization_10 (BatchNo (None, 29, 29, 96)   288         conv2d_10[0][0]                  \n",
            "__________________________________________________________________________________________________\n",
            "activation_7 (Activation)       (None, 29, 29, 48)   0           batch_normalization_7[0][0]      \n",
            "__________________________________________________________________________________________________\n",
            "activation_10 (Activation)      (None, 29, 29, 96)   0           batch_normalization_10[0][0]     \n",
            "__________________________________________________________________________________________________\n",
            "average_pooling2d_1 (AveragePoo (None, 29, 29, 192)  0           max_pooling2d_2[0][0]            \n",
            "__________________________________________________________________________________________________\n",
            "conv2d_6 (Conv2D)               (None, 29, 29, 64)   12288       max_pooling2d_2[0][0]            \n",
            "__________________________________________________________________________________________________\n",
            "conv2d_8 (Conv2D)               (None, 29, 29, 64)   76800       activation_7[0][0]               \n",
            "__________________________________________________________________________________________________\n",
            "conv2d_11 (Conv2D)              (None, 29, 29, 96)   82944       activation_10[0][0]              \n",
            "__________________________________________________________________________________________________\n",
            "conv2d_12 (Conv2D)              (None, 29, 29, 32)   6144        average_pooling2d_1[0][0]        \n",
            "__________________________________________________________________________________________________\n",
            "batch_normalization_6 (BatchNor (None, 29, 29, 64)   192         conv2d_6[0][0]                   \n",
            "__________________________________________________________________________________________________\n",
            "batch_normalization_8 (BatchNor (None, 29, 29, 64)   192         conv2d_8[0][0]                   \n",
            "__________________________________________________________________________________________________\n",
            "batch_normalization_11 (BatchNo (None, 29, 29, 96)   288         conv2d_11[0][0]                  \n",
            "__________________________________________________________________________________________________\n",
            "batch_normalization_12 (BatchNo (None, 29, 29, 32)   96          conv2d_12[0][0]                  \n",
            "__________________________________________________________________________________________________\n",
            "activation_6 (Activation)       (None, 29, 29, 64)   0           batch_normalization_6[0][0]      \n",
            "__________________________________________________________________________________________________\n",
            "activation_8 (Activation)       (None, 29, 29, 64)   0           batch_normalization_8[0][0]      \n",
            "__________________________________________________________________________________________________\n",
            "activation_11 (Activation)      (None, 29, 29, 96)   0           batch_normalization_11[0][0]     \n",
            "__________________________________________________________________________________________________\n",
            "activation_12 (Activation)      (None, 29, 29, 32)   0           batch_normalization_12[0][0]     \n",
            "__________________________________________________________________________________________________\n",
            "mixed0 (Concatenate)            (None, 29, 29, 256)  0           activation_6[0][0]               \n",
            "                                                                 activation_8[0][0]               \n",
            "                                                                 activation_11[0][0]              \n",
            "                                                                 activation_12[0][0]              \n",
            "__________________________________________________________________________________________________\n",
            "conv2d_16 (Conv2D)              (None, 29, 29, 64)   16384       mixed0[0][0]                     \n",
            "__________________________________________________________________________________________________\n",
            "batch_normalization_16 (BatchNo (None, 29, 29, 64)   192         conv2d_16[0][0]                  \n",
            "__________________________________________________________________________________________________\n",
            "activation_16 (Activation)      (None, 29, 29, 64)   0           batch_normalization_16[0][0]     \n",
            "__________________________________________________________________________________________________\n",
            "conv2d_14 (Conv2D)              (None, 29, 29, 48)   12288       mixed0[0][0]                     \n",
            "__________________________________________________________________________________________________\n",
            "conv2d_17 (Conv2D)              (None, 29, 29, 96)   55296       activation_16[0][0]              \n",
            "__________________________________________________________________________________________________\n",
            "batch_normalization_14 (BatchNo (None, 29, 29, 48)   144         conv2d_14[0][0]                  \n",
            "__________________________________________________________________________________________________\n",
            "batch_normalization_17 (BatchNo (None, 29, 29, 96)   288         conv2d_17[0][0]                  \n",
            "__________________________________________________________________________________________________\n",
            "activation_14 (Activation)      (None, 29, 29, 48)   0           batch_normalization_14[0][0]     \n",
            "__________________________________________________________________________________________________\n",
            "activation_17 (Activation)      (None, 29, 29, 96)   0           batch_normalization_17[0][0]     \n",
            "__________________________________________________________________________________________________\n",
            "average_pooling2d_2 (AveragePoo (None, 29, 29, 256)  0           mixed0[0][0]                     \n",
            "__________________________________________________________________________________________________\n",
            "conv2d_13 (Conv2D)              (None, 29, 29, 64)   16384       mixed0[0][0]                     \n",
            "__________________________________________________________________________________________________\n",
            "conv2d_15 (Conv2D)              (None, 29, 29, 64)   76800       activation_14[0][0]              \n",
            "__________________________________________________________________________________________________\n",
            "conv2d_18 (Conv2D)              (None, 29, 29, 96)   82944       activation_17[0][0]              \n",
            "__________________________________________________________________________________________________\n",
            "conv2d_19 (Conv2D)              (None, 29, 29, 64)   16384       average_pooling2d_2[0][0]        \n",
            "__________________________________________________________________________________________________\n",
            "batch_normalization_13 (BatchNo (None, 29, 29, 64)   192         conv2d_13[0][0]                  \n",
            "__________________________________________________________________________________________________\n",
            "batch_normalization_15 (BatchNo (None, 29, 29, 64)   192         conv2d_15[0][0]                  \n",
            "__________________________________________________________________________________________________\n",
            "batch_normalization_18 (BatchNo (None, 29, 29, 96)   288         conv2d_18[0][0]                  \n",
            "__________________________________________________________________________________________________\n",
            "batch_normalization_19 (BatchNo (None, 29, 29, 64)   192         conv2d_19[0][0]                  \n",
            "__________________________________________________________________________________________________\n",
            "activation_13 (Activation)      (None, 29, 29, 64)   0           batch_normalization_13[0][0]     \n",
            "__________________________________________________________________________________________________\n",
            "activation_15 (Activation)      (None, 29, 29, 64)   0           batch_normalization_15[0][0]     \n",
            "__________________________________________________________________________________________________\n",
            "activation_18 (Activation)      (None, 29, 29, 96)   0           batch_normalization_18[0][0]     \n",
            "__________________________________________________________________________________________________\n",
            "activation_19 (Activation)      (None, 29, 29, 64)   0           batch_normalization_19[0][0]     \n",
            "__________________________________________________________________________________________________\n",
            "mixed1 (Concatenate)            (None, 29, 29, 288)  0           activation_13[0][0]              \n",
            "                                                                 activation_15[0][0]              \n",
            "                                                                 activation_18[0][0]              \n",
            "                                                                 activation_19[0][0]              \n",
            "__________________________________________________________________________________________________\n",
            "conv2d_23 (Conv2D)              (None, 29, 29, 64)   18432       mixed1[0][0]                     \n",
            "__________________________________________________________________________________________________\n",
            "batch_normalization_23 (BatchNo (None, 29, 29, 64)   192         conv2d_23[0][0]                  \n",
            "__________________________________________________________________________________________________\n",
            "activation_23 (Activation)      (None, 29, 29, 64)   0           batch_normalization_23[0][0]     \n",
            "__________________________________________________________________________________________________\n",
            "conv2d_21 (Conv2D)              (None, 29, 29, 48)   13824       mixed1[0][0]                     \n",
            "__________________________________________________________________________________________________\n",
            "conv2d_24 (Conv2D)              (None, 29, 29, 96)   55296       activation_23[0][0]              \n",
            "__________________________________________________________________________________________________\n",
            "batch_normalization_21 (BatchNo (None, 29, 29, 48)   144         conv2d_21[0][0]                  \n",
            "__________________________________________________________________________________________________\n",
            "batch_normalization_24 (BatchNo (None, 29, 29, 96)   288         conv2d_24[0][0]                  \n",
            "__________________________________________________________________________________________________\n",
            "activation_21 (Activation)      (None, 29, 29, 48)   0           batch_normalization_21[0][0]     \n",
            "__________________________________________________________________________________________________\n",
            "activation_24 (Activation)      (None, 29, 29, 96)   0           batch_normalization_24[0][0]     \n",
            "__________________________________________________________________________________________________\n",
            "average_pooling2d_3 (AveragePoo (None, 29, 29, 288)  0           mixed1[0][0]                     \n",
            "__________________________________________________________________________________________________\n",
            "conv2d_20 (Conv2D)              (None, 29, 29, 64)   18432       mixed1[0][0]                     \n",
            "__________________________________________________________________________________________________\n",
            "conv2d_22 (Conv2D)              (None, 29, 29, 64)   76800       activation_21[0][0]              \n",
            "__________________________________________________________________________________________________\n",
            "conv2d_25 (Conv2D)              (None, 29, 29, 96)   82944       activation_24[0][0]              \n",
            "__________________________________________________________________________________________________\n",
            "conv2d_26 (Conv2D)              (None, 29, 29, 64)   18432       average_pooling2d_3[0][0]        \n",
            "__________________________________________________________________________________________________\n",
            "batch_normalization_20 (BatchNo (None, 29, 29, 64)   192         conv2d_20[0][0]                  \n",
            "__________________________________________________________________________________________________\n",
            "batch_normalization_22 (BatchNo (None, 29, 29, 64)   192         conv2d_22[0][0]                  \n",
            "__________________________________________________________________________________________________\n",
            "batch_normalization_25 (BatchNo (None, 29, 29, 96)   288         conv2d_25[0][0]                  \n",
            "__________________________________________________________________________________________________\n",
            "batch_normalization_26 (BatchNo (None, 29, 29, 64)   192         conv2d_26[0][0]                  \n",
            "__________________________________________________________________________________________________\n",
            "activation_20 (Activation)      (None, 29, 29, 64)   0           batch_normalization_20[0][0]     \n",
            "__________________________________________________________________________________________________\n",
            "activation_22 (Activation)      (None, 29, 29, 64)   0           batch_normalization_22[0][0]     \n",
            "__________________________________________________________________________________________________\n",
            "activation_25 (Activation)      (None, 29, 29, 96)   0           batch_normalization_25[0][0]     \n",
            "__________________________________________________________________________________________________\n",
            "activation_26 (Activation)      (None, 29, 29, 64)   0           batch_normalization_26[0][0]     \n",
            "__________________________________________________________________________________________________\n",
            "mixed2 (Concatenate)            (None, 29, 29, 288)  0           activation_20[0][0]              \n",
            "                                                                 activation_22[0][0]              \n",
            "                                                                 activation_25[0][0]              \n",
            "                                                                 activation_26[0][0]              \n",
            "__________________________________________________________________________________________________\n",
            "conv2d_28 (Conv2D)              (None, 29, 29, 64)   18432       mixed2[0][0]                     \n",
            "__________________________________________________________________________________________________\n",
            "batch_normalization_28 (BatchNo (None, 29, 29, 64)   192         conv2d_28[0][0]                  \n",
            "__________________________________________________________________________________________________\n",
            "activation_28 (Activation)      (None, 29, 29, 64)   0           batch_normalization_28[0][0]     \n",
            "__________________________________________________________________________________________________\n",
            "conv2d_29 (Conv2D)              (None, 29, 29, 96)   55296       activation_28[0][0]              \n",
            "__________________________________________________________________________________________________\n",
            "batch_normalization_29 (BatchNo (None, 29, 29, 96)   288         conv2d_29[0][0]                  \n",
            "__________________________________________________________________________________________________\n",
            "activation_29 (Activation)      (None, 29, 29, 96)   0           batch_normalization_29[0][0]     \n",
            "__________________________________________________________________________________________________\n",
            "conv2d_27 (Conv2D)              (None, 14, 14, 384)  995328      mixed2[0][0]                     \n",
            "__________________________________________________________________________________________________\n",
            "conv2d_30 (Conv2D)              (None, 14, 14, 96)   82944       activation_29[0][0]              \n",
            "__________________________________________________________________________________________________\n",
            "batch_normalization_27 (BatchNo (None, 14, 14, 384)  1152        conv2d_27[0][0]                  \n",
            "__________________________________________________________________________________________________\n",
            "batch_normalization_30 (BatchNo (None, 14, 14, 96)   288         conv2d_30[0][0]                  \n",
            "__________________________________________________________________________________________________\n",
            "activation_27 (Activation)      (None, 14, 14, 384)  0           batch_normalization_27[0][0]     \n",
            "__________________________________________________________________________________________________\n",
            "activation_30 (Activation)      (None, 14, 14, 96)   0           batch_normalization_30[0][0]     \n",
            "__________________________________________________________________________________________________\n",
            "max_pooling2d_3 (MaxPooling2D)  (None, 14, 14, 288)  0           mixed2[0][0]                     \n",
            "__________________________________________________________________________________________________\n",
            "mixed3 (Concatenate)            (None, 14, 14, 768)  0           activation_27[0][0]              \n",
            "                                                                 activation_30[0][0]              \n",
            "                                                                 max_pooling2d_3[0][0]            \n",
            "__________________________________________________________________________________________________\n",
            "conv2d_35 (Conv2D)              (None, 14, 14, 128)  98304       mixed3[0][0]                     \n",
            "__________________________________________________________________________________________________\n",
            "batch_normalization_35 (BatchNo (None, 14, 14, 128)  384         conv2d_35[0][0]                  \n",
            "__________________________________________________________________________________________________\n",
            "activation_35 (Activation)      (None, 14, 14, 128)  0           batch_normalization_35[0][0]     \n",
            "__________________________________________________________________________________________________\n",
            "conv2d_36 (Conv2D)              (None, 14, 14, 128)  114688      activation_35[0][0]              \n",
            "__________________________________________________________________________________________________\n",
            "batch_normalization_36 (BatchNo (None, 14, 14, 128)  384         conv2d_36[0][0]                  \n",
            "__________________________________________________________________________________________________\n",
            "activation_36 (Activation)      (None, 14, 14, 128)  0           batch_normalization_36[0][0]     \n",
            "__________________________________________________________________________________________________\n",
            "conv2d_32 (Conv2D)              (None, 14, 14, 128)  98304       mixed3[0][0]                     \n",
            "__________________________________________________________________________________________________\n",
            "conv2d_37 (Conv2D)              (None, 14, 14, 128)  114688      activation_36[0][0]              \n",
            "__________________________________________________________________________________________________\n",
            "batch_normalization_32 (BatchNo (None, 14, 14, 128)  384         conv2d_32[0][0]                  \n",
            "__________________________________________________________________________________________________\n",
            "batch_normalization_37 (BatchNo (None, 14, 14, 128)  384         conv2d_37[0][0]                  \n",
            "__________________________________________________________________________________________________\n",
            "activation_32 (Activation)      (None, 14, 14, 128)  0           batch_normalization_32[0][0]     \n",
            "__________________________________________________________________________________________________\n",
            "activation_37 (Activation)      (None, 14, 14, 128)  0           batch_normalization_37[0][0]     \n",
            "__________________________________________________________________________________________________\n",
            "conv2d_33 (Conv2D)              (None, 14, 14, 128)  114688      activation_32[0][0]              \n",
            "__________________________________________________________________________________________________\n",
            "conv2d_38 (Conv2D)              (None, 14, 14, 128)  114688      activation_37[0][0]              \n",
            "__________________________________________________________________________________________________\n",
            "batch_normalization_33 (BatchNo (None, 14, 14, 128)  384         conv2d_33[0][0]                  \n",
            "__________________________________________________________________________________________________\n",
            "batch_normalization_38 (BatchNo (None, 14, 14, 128)  384         conv2d_38[0][0]                  \n",
            "__________________________________________________________________________________________________\n",
            "activation_33 (Activation)      (None, 14, 14, 128)  0           batch_normalization_33[0][0]     \n",
            "__________________________________________________________________________________________________\n",
            "activation_38 (Activation)      (None, 14, 14, 128)  0           batch_normalization_38[0][0]     \n",
            "__________________________________________________________________________________________________\n",
            "average_pooling2d_4 (AveragePoo (None, 14, 14, 768)  0           mixed3[0][0]                     \n",
            "__________________________________________________________________________________________________\n",
            "conv2d_31 (Conv2D)              (None, 14, 14, 192)  147456      mixed3[0][0]                     \n",
            "__________________________________________________________________________________________________\n",
            "conv2d_34 (Conv2D)              (None, 14, 14, 192)  172032      activation_33[0][0]              \n",
            "__________________________________________________________________________________________________\n",
            "conv2d_39 (Conv2D)              (None, 14, 14, 192)  172032      activation_38[0][0]              \n",
            "__________________________________________________________________________________________________\n",
            "conv2d_40 (Conv2D)              (None, 14, 14, 192)  147456      average_pooling2d_4[0][0]        \n",
            "__________________________________________________________________________________________________\n",
            "batch_normalization_31 (BatchNo (None, 14, 14, 192)  576         conv2d_31[0][0]                  \n",
            "__________________________________________________________________________________________________\n",
            "batch_normalization_34 (BatchNo (None, 14, 14, 192)  576         conv2d_34[0][0]                  \n",
            "__________________________________________________________________________________________________\n",
            "batch_normalization_39 (BatchNo (None, 14, 14, 192)  576         conv2d_39[0][0]                  \n",
            "__________________________________________________________________________________________________\n",
            "batch_normalization_40 (BatchNo (None, 14, 14, 192)  576         conv2d_40[0][0]                  \n",
            "__________________________________________________________________________________________________\n",
            "activation_31 (Activation)      (None, 14, 14, 192)  0           batch_normalization_31[0][0]     \n",
            "__________________________________________________________________________________________________\n",
            "activation_34 (Activation)      (None, 14, 14, 192)  0           batch_normalization_34[0][0]     \n",
            "__________________________________________________________________________________________________\n",
            "activation_39 (Activation)      (None, 14, 14, 192)  0           batch_normalization_39[0][0]     \n",
            "__________________________________________________________________________________________________\n",
            "activation_40 (Activation)      (None, 14, 14, 192)  0           batch_normalization_40[0][0]     \n",
            "__________________________________________________________________________________________________\n",
            "mixed4 (Concatenate)            (None, 14, 14, 768)  0           activation_31[0][0]              \n",
            "                                                                 activation_34[0][0]              \n",
            "                                                                 activation_39[0][0]              \n",
            "                                                                 activation_40[0][0]              \n",
            "__________________________________________________________________________________________________\n",
            "conv2d_45 (Conv2D)              (None, 14, 14, 160)  122880      mixed4[0][0]                     \n",
            "__________________________________________________________________________________________________\n",
            "batch_normalization_45 (BatchNo (None, 14, 14, 160)  480         conv2d_45[0][0]                  \n",
            "__________________________________________________________________________________________________\n",
            "activation_45 (Activation)      (None, 14, 14, 160)  0           batch_normalization_45[0][0]     \n",
            "__________________________________________________________________________________________________\n",
            "conv2d_46 (Conv2D)              (None, 14, 14, 160)  179200      activation_45[0][0]              \n",
            "__________________________________________________________________________________________________\n",
            "batch_normalization_46 (BatchNo (None, 14, 14, 160)  480         conv2d_46[0][0]                  \n",
            "__________________________________________________________________________________________________\n",
            "activation_46 (Activation)      (None, 14, 14, 160)  0           batch_normalization_46[0][0]     \n",
            "__________________________________________________________________________________________________\n",
            "conv2d_42 (Conv2D)              (None, 14, 14, 160)  122880      mixed4[0][0]                     \n",
            "__________________________________________________________________________________________________\n",
            "conv2d_47 (Conv2D)              (None, 14, 14, 160)  179200      activation_46[0][0]              \n",
            "__________________________________________________________________________________________________\n",
            "batch_normalization_42 (BatchNo (None, 14, 14, 160)  480         conv2d_42[0][0]                  \n",
            "__________________________________________________________________________________________________\n",
            "batch_normalization_47 (BatchNo (None, 14, 14, 160)  480         conv2d_47[0][0]                  \n",
            "__________________________________________________________________________________________________\n",
            "activation_42 (Activation)      (None, 14, 14, 160)  0           batch_normalization_42[0][0]     \n",
            "__________________________________________________________________________________________________\n",
            "activation_47 (Activation)      (None, 14, 14, 160)  0           batch_normalization_47[0][0]     \n",
            "__________________________________________________________________________________________________\n",
            "conv2d_43 (Conv2D)              (None, 14, 14, 160)  179200      activation_42[0][0]              \n",
            "__________________________________________________________________________________________________\n",
            "conv2d_48 (Conv2D)              (None, 14, 14, 160)  179200      activation_47[0][0]              \n",
            "__________________________________________________________________________________________________\n",
            "batch_normalization_43 (BatchNo (None, 14, 14, 160)  480         conv2d_43[0][0]                  \n",
            "__________________________________________________________________________________________________\n",
            "batch_normalization_48 (BatchNo (None, 14, 14, 160)  480         conv2d_48[0][0]                  \n",
            "__________________________________________________________________________________________________\n",
            "activation_43 (Activation)      (None, 14, 14, 160)  0           batch_normalization_43[0][0]     \n",
            "__________________________________________________________________________________________________\n",
            "activation_48 (Activation)      (None, 14, 14, 160)  0           batch_normalization_48[0][0]     \n",
            "__________________________________________________________________________________________________\n",
            "average_pooling2d_5 (AveragePoo (None, 14, 14, 768)  0           mixed4[0][0]                     \n",
            "__________________________________________________________________________________________________\n",
            "conv2d_41 (Conv2D)              (None, 14, 14, 192)  147456      mixed4[0][0]                     \n",
            "__________________________________________________________________________________________________\n",
            "conv2d_44 (Conv2D)              (None, 14, 14, 192)  215040      activation_43[0][0]              \n",
            "__________________________________________________________________________________________________\n",
            "conv2d_49 (Conv2D)              (None, 14, 14, 192)  215040      activation_48[0][0]              \n",
            "__________________________________________________________________________________________________\n",
            "conv2d_50 (Conv2D)              (None, 14, 14, 192)  147456      average_pooling2d_5[0][0]        \n",
            "__________________________________________________________________________________________________\n",
            "batch_normalization_41 (BatchNo (None, 14, 14, 192)  576         conv2d_41[0][0]                  \n",
            "__________________________________________________________________________________________________\n",
            "batch_normalization_44 (BatchNo (None, 14, 14, 192)  576         conv2d_44[0][0]                  \n",
            "__________________________________________________________________________________________________\n",
            "batch_normalization_49 (BatchNo (None, 14, 14, 192)  576         conv2d_49[0][0]                  \n",
            "__________________________________________________________________________________________________\n",
            "batch_normalization_50 (BatchNo (None, 14, 14, 192)  576         conv2d_50[0][0]                  \n",
            "__________________________________________________________________________________________________\n",
            "activation_41 (Activation)      (None, 14, 14, 192)  0           batch_normalization_41[0][0]     \n",
            "__________________________________________________________________________________________________\n",
            "activation_44 (Activation)      (None, 14, 14, 192)  0           batch_normalization_44[0][0]     \n",
            "__________________________________________________________________________________________________\n",
            "activation_49 (Activation)      (None, 14, 14, 192)  0           batch_normalization_49[0][0]     \n",
            "__________________________________________________________________________________________________\n",
            "activation_50 (Activation)      (None, 14, 14, 192)  0           batch_normalization_50[0][0]     \n",
            "__________________________________________________________________________________________________\n",
            "mixed5 (Concatenate)            (None, 14, 14, 768)  0           activation_41[0][0]              \n",
            "                                                                 activation_44[0][0]              \n",
            "                                                                 activation_49[0][0]              \n",
            "                                                                 activation_50[0][0]              \n",
            "__________________________________________________________________________________________________\n",
            "conv2d_55 (Conv2D)              (None, 14, 14, 160)  122880      mixed5[0][0]                     \n",
            "__________________________________________________________________________________________________\n",
            "batch_normalization_55 (BatchNo (None, 14, 14, 160)  480         conv2d_55[0][0]                  \n",
            "__________________________________________________________________________________________________\n",
            "activation_55 (Activation)      (None, 14, 14, 160)  0           batch_normalization_55[0][0]     \n",
            "__________________________________________________________________________________________________\n",
            "conv2d_56 (Conv2D)              (None, 14, 14, 160)  179200      activation_55[0][0]              \n",
            "__________________________________________________________________________________________________\n",
            "batch_normalization_56 (BatchNo (None, 14, 14, 160)  480         conv2d_56[0][0]                  \n",
            "__________________________________________________________________________________________________\n",
            "activation_56 (Activation)      (None, 14, 14, 160)  0           batch_normalization_56[0][0]     \n",
            "__________________________________________________________________________________________________\n",
            "conv2d_52 (Conv2D)              (None, 14, 14, 160)  122880      mixed5[0][0]                     \n",
            "__________________________________________________________________________________________________\n",
            "conv2d_57 (Conv2D)              (None, 14, 14, 160)  179200      activation_56[0][0]              \n",
            "__________________________________________________________________________________________________\n",
            "batch_normalization_52 (BatchNo (None, 14, 14, 160)  480         conv2d_52[0][0]                  \n",
            "__________________________________________________________________________________________________\n",
            "batch_normalization_57 (BatchNo (None, 14, 14, 160)  480         conv2d_57[0][0]                  \n",
            "__________________________________________________________________________________________________\n",
            "activation_52 (Activation)      (None, 14, 14, 160)  0           batch_normalization_52[0][0]     \n",
            "__________________________________________________________________________________________________\n",
            "activation_57 (Activation)      (None, 14, 14, 160)  0           batch_normalization_57[0][0]     \n",
            "__________________________________________________________________________________________________\n",
            "conv2d_53 (Conv2D)              (None, 14, 14, 160)  179200      activation_52[0][0]              \n",
            "__________________________________________________________________________________________________\n",
            "conv2d_58 (Conv2D)              (None, 14, 14, 160)  179200      activation_57[0][0]              \n",
            "__________________________________________________________________________________________________\n",
            "batch_normalization_53 (BatchNo (None, 14, 14, 160)  480         conv2d_53[0][0]                  \n",
            "__________________________________________________________________________________________________\n",
            "batch_normalization_58 (BatchNo (None, 14, 14, 160)  480         conv2d_58[0][0]                  \n",
            "__________________________________________________________________________________________________\n",
            "activation_53 (Activation)      (None, 14, 14, 160)  0           batch_normalization_53[0][0]     \n",
            "__________________________________________________________________________________________________\n",
            "activation_58 (Activation)      (None, 14, 14, 160)  0           batch_normalization_58[0][0]     \n",
            "__________________________________________________________________________________________________\n",
            "average_pooling2d_6 (AveragePoo (None, 14, 14, 768)  0           mixed5[0][0]                     \n",
            "__________________________________________________________________________________________________\n",
            "conv2d_51 (Conv2D)              (None, 14, 14, 192)  147456      mixed5[0][0]                     \n",
            "__________________________________________________________________________________________________\n",
            "conv2d_54 (Conv2D)              (None, 14, 14, 192)  215040      activation_53[0][0]              \n",
            "__________________________________________________________________________________________________\n",
            "conv2d_59 (Conv2D)              (None, 14, 14, 192)  215040      activation_58[0][0]              \n",
            "__________________________________________________________________________________________________\n",
            "conv2d_60 (Conv2D)              (None, 14, 14, 192)  147456      average_pooling2d_6[0][0]        \n",
            "__________________________________________________________________________________________________\n",
            "batch_normalization_51 (BatchNo (None, 14, 14, 192)  576         conv2d_51[0][0]                  \n",
            "__________________________________________________________________________________________________\n",
            "batch_normalization_54 (BatchNo (None, 14, 14, 192)  576         conv2d_54[0][0]                  \n",
            "__________________________________________________________________________________________________\n",
            "batch_normalization_59 (BatchNo (None, 14, 14, 192)  576         conv2d_59[0][0]                  \n",
            "__________________________________________________________________________________________________\n",
            "batch_normalization_60 (BatchNo (None, 14, 14, 192)  576         conv2d_60[0][0]                  \n",
            "__________________________________________________________________________________________________\n",
            "activation_51 (Activation)      (None, 14, 14, 192)  0           batch_normalization_51[0][0]     \n",
            "__________________________________________________________________________________________________\n",
            "activation_54 (Activation)      (None, 14, 14, 192)  0           batch_normalization_54[0][0]     \n",
            "__________________________________________________________________________________________________\n",
            "activation_59 (Activation)      (None, 14, 14, 192)  0           batch_normalization_59[0][0]     \n",
            "__________________________________________________________________________________________________\n",
            "activation_60 (Activation)      (None, 14, 14, 192)  0           batch_normalization_60[0][0]     \n",
            "__________________________________________________________________________________________________\n",
            "mixed6 (Concatenate)            (None, 14, 14, 768)  0           activation_51[0][0]              \n",
            "                                                                 activation_54[0][0]              \n",
            "                                                                 activation_59[0][0]              \n",
            "                                                                 activation_60[0][0]              \n",
            "__________________________________________________________________________________________________\n",
            "conv2d_65 (Conv2D)              (None, 14, 14, 192)  147456      mixed6[0][0]                     \n",
            "__________________________________________________________________________________________________\n",
            "batch_normalization_65 (BatchNo (None, 14, 14, 192)  576         conv2d_65[0][0]                  \n",
            "__________________________________________________________________________________________________\n",
            "activation_65 (Activation)      (None, 14, 14, 192)  0           batch_normalization_65[0][0]     \n",
            "__________________________________________________________________________________________________\n",
            "conv2d_66 (Conv2D)              (None, 14, 14, 192)  258048      activation_65[0][0]              \n",
            "__________________________________________________________________________________________________\n",
            "batch_normalization_66 (BatchNo (None, 14, 14, 192)  576         conv2d_66[0][0]                  \n",
            "__________________________________________________________________________________________________\n",
            "activation_66 (Activation)      (None, 14, 14, 192)  0           batch_normalization_66[0][0]     \n",
            "__________________________________________________________________________________________________\n",
            "conv2d_62 (Conv2D)              (None, 14, 14, 192)  147456      mixed6[0][0]                     \n",
            "__________________________________________________________________________________________________\n",
            "conv2d_67 (Conv2D)              (None, 14, 14, 192)  258048      activation_66[0][0]              \n",
            "__________________________________________________________________________________________________\n",
            "batch_normalization_62 (BatchNo (None, 14, 14, 192)  576         conv2d_62[0][0]                  \n",
            "__________________________________________________________________________________________________\n",
            "batch_normalization_67 (BatchNo (None, 14, 14, 192)  576         conv2d_67[0][0]                  \n",
            "__________________________________________________________________________________________________\n",
            "activation_62 (Activation)      (None, 14, 14, 192)  0           batch_normalization_62[0][0]     \n",
            "__________________________________________________________________________________________________\n",
            "activation_67 (Activation)      (None, 14, 14, 192)  0           batch_normalization_67[0][0]     \n",
            "__________________________________________________________________________________________________\n",
            "conv2d_63 (Conv2D)              (None, 14, 14, 192)  258048      activation_62[0][0]              \n",
            "__________________________________________________________________________________________________\n",
            "conv2d_68 (Conv2D)              (None, 14, 14, 192)  258048      activation_67[0][0]              \n",
            "__________________________________________________________________________________________________\n",
            "batch_normalization_63 (BatchNo (None, 14, 14, 192)  576         conv2d_63[0][0]                  \n",
            "__________________________________________________________________________________________________\n",
            "batch_normalization_68 (BatchNo (None, 14, 14, 192)  576         conv2d_68[0][0]                  \n",
            "__________________________________________________________________________________________________\n",
            "activation_63 (Activation)      (None, 14, 14, 192)  0           batch_normalization_63[0][0]     \n",
            "__________________________________________________________________________________________________\n",
            "activation_68 (Activation)      (None, 14, 14, 192)  0           batch_normalization_68[0][0]     \n",
            "__________________________________________________________________________________________________\n",
            "average_pooling2d_7 (AveragePoo (None, 14, 14, 768)  0           mixed6[0][0]                     \n",
            "__________________________________________________________________________________________________\n",
            "conv2d_61 (Conv2D)              (None, 14, 14, 192)  147456      mixed6[0][0]                     \n",
            "__________________________________________________________________________________________________\n",
            "conv2d_64 (Conv2D)              (None, 14, 14, 192)  258048      activation_63[0][0]              \n",
            "__________________________________________________________________________________________________\n",
            "conv2d_69 (Conv2D)              (None, 14, 14, 192)  258048      activation_68[0][0]              \n",
            "__________________________________________________________________________________________________\n",
            "conv2d_70 (Conv2D)              (None, 14, 14, 192)  147456      average_pooling2d_7[0][0]        \n",
            "__________________________________________________________________________________________________\n",
            "batch_normalization_61 (BatchNo (None, 14, 14, 192)  576         conv2d_61[0][0]                  \n",
            "__________________________________________________________________________________________________\n",
            "batch_normalization_64 (BatchNo (None, 14, 14, 192)  576         conv2d_64[0][0]                  \n",
            "__________________________________________________________________________________________________\n",
            "batch_normalization_69 (BatchNo (None, 14, 14, 192)  576         conv2d_69[0][0]                  \n",
            "__________________________________________________________________________________________________\n",
            "batch_normalization_70 (BatchNo (None, 14, 14, 192)  576         conv2d_70[0][0]                  \n",
            "__________________________________________________________________________________________________\n",
            "activation_61 (Activation)      (None, 14, 14, 192)  0           batch_normalization_61[0][0]     \n",
            "__________________________________________________________________________________________________\n",
            "activation_64 (Activation)      (None, 14, 14, 192)  0           batch_normalization_64[0][0]     \n",
            "__________________________________________________________________________________________________\n",
            "activation_69 (Activation)      (None, 14, 14, 192)  0           batch_normalization_69[0][0]     \n",
            "__________________________________________________________________________________________________\n",
            "activation_70 (Activation)      (None, 14, 14, 192)  0           batch_normalization_70[0][0]     \n",
            "__________________________________________________________________________________________________\n",
            "mixed7 (Concatenate)            (None, 14, 14, 768)  0           activation_61[0][0]              \n",
            "                                                                 activation_64[0][0]              \n",
            "                                                                 activation_69[0][0]              \n",
            "                                                                 activation_70[0][0]              \n",
            "__________________________________________________________________________________________________\n",
            "conv2d_73 (Conv2D)              (None, 14, 14, 192)  147456      mixed7[0][0]                     \n",
            "__________________________________________________________________________________________________\n",
            "batch_normalization_73 (BatchNo (None, 14, 14, 192)  576         conv2d_73[0][0]                  \n",
            "__________________________________________________________________________________________________\n",
            "activation_73 (Activation)      (None, 14, 14, 192)  0           batch_normalization_73[0][0]     \n",
            "__________________________________________________________________________________________________\n",
            "conv2d_74 (Conv2D)              (None, 14, 14, 192)  258048      activation_73[0][0]              \n",
            "__________________________________________________________________________________________________\n",
            "batch_normalization_74 (BatchNo (None, 14, 14, 192)  576         conv2d_74[0][0]                  \n",
            "__________________________________________________________________________________________________\n",
            "activation_74 (Activation)      (None, 14, 14, 192)  0           batch_normalization_74[0][0]     \n",
            "__________________________________________________________________________________________________\n",
            "conv2d_71 (Conv2D)              (None, 14, 14, 192)  147456      mixed7[0][0]                     \n",
            "__________________________________________________________________________________________________\n",
            "conv2d_75 (Conv2D)              (None, 14, 14, 192)  258048      activation_74[0][0]              \n",
            "__________________________________________________________________________________________________\n",
            "batch_normalization_71 (BatchNo (None, 14, 14, 192)  576         conv2d_71[0][0]                  \n",
            "__________________________________________________________________________________________________\n",
            "batch_normalization_75 (BatchNo (None, 14, 14, 192)  576         conv2d_75[0][0]                  \n",
            "__________________________________________________________________________________________________\n",
            "activation_71 (Activation)      (None, 14, 14, 192)  0           batch_normalization_71[0][0]     \n",
            "__________________________________________________________________________________________________\n",
            "activation_75 (Activation)      (None, 14, 14, 192)  0           batch_normalization_75[0][0]     \n",
            "__________________________________________________________________________________________________\n",
            "conv2d_72 (Conv2D)              (None, 6, 6, 320)    552960      activation_71[0][0]              \n",
            "__________________________________________________________________________________________________\n",
            "conv2d_76 (Conv2D)              (None, 6, 6, 192)    331776      activation_75[0][0]              \n",
            "__________________________________________________________________________________________________\n",
            "batch_normalization_72 (BatchNo (None, 6, 6, 320)    960         conv2d_72[0][0]                  \n",
            "__________________________________________________________________________________________________\n",
            "batch_normalization_76 (BatchNo (None, 6, 6, 192)    576         conv2d_76[0][0]                  \n",
            "__________________________________________________________________________________________________\n",
            "activation_72 (Activation)      (None, 6, 6, 320)    0           batch_normalization_72[0][0]     \n",
            "__________________________________________________________________________________________________\n",
            "activation_76 (Activation)      (None, 6, 6, 192)    0           batch_normalization_76[0][0]     \n",
            "__________________________________________________________________________________________________\n",
            "max_pooling2d_4 (MaxPooling2D)  (None, 6, 6, 768)    0           mixed7[0][0]                     \n",
            "__________________________________________________________________________________________________\n",
            "mixed8 (Concatenate)            (None, 6, 6, 1280)   0           activation_72[0][0]              \n",
            "                                                                 activation_76[0][0]              \n",
            "                                                                 max_pooling2d_4[0][0]            \n",
            "__________________________________________________________________________________________________\n",
            "conv2d_81 (Conv2D)              (None, 6, 6, 448)    573440      mixed8[0][0]                     \n",
            "__________________________________________________________________________________________________\n",
            "batch_normalization_81 (BatchNo (None, 6, 6, 448)    1344        conv2d_81[0][0]                  \n",
            "__________________________________________________________________________________________________\n",
            "activation_81 (Activation)      (None, 6, 6, 448)    0           batch_normalization_81[0][0]     \n",
            "__________________________________________________________________________________________________\n",
            "conv2d_78 (Conv2D)              (None, 6, 6, 384)    491520      mixed8[0][0]                     \n",
            "__________________________________________________________________________________________________\n",
            "conv2d_82 (Conv2D)              (None, 6, 6, 384)    1548288     activation_81[0][0]              \n",
            "__________________________________________________________________________________________________\n",
            "batch_normalization_78 (BatchNo (None, 6, 6, 384)    1152        conv2d_78[0][0]                  \n",
            "__________________________________________________________________________________________________\n",
            "batch_normalization_82 (BatchNo (None, 6, 6, 384)    1152        conv2d_82[0][0]                  \n",
            "__________________________________________________________________________________________________\n",
            "activation_78 (Activation)      (None, 6, 6, 384)    0           batch_normalization_78[0][0]     \n",
            "__________________________________________________________________________________________________\n",
            "activation_82 (Activation)      (None, 6, 6, 384)    0           batch_normalization_82[0][0]     \n",
            "__________________________________________________________________________________________________\n",
            "conv2d_79 (Conv2D)              (None, 6, 6, 384)    442368      activation_78[0][0]              \n",
            "__________________________________________________________________________________________________\n",
            "conv2d_80 (Conv2D)              (None, 6, 6, 384)    442368      activation_78[0][0]              \n",
            "__________________________________________________________________________________________________\n",
            "conv2d_83 (Conv2D)              (None, 6, 6, 384)    442368      activation_82[0][0]              \n",
            "__________________________________________________________________________________________________\n",
            "conv2d_84 (Conv2D)              (None, 6, 6, 384)    442368      activation_82[0][0]              \n",
            "__________________________________________________________________________________________________\n",
            "average_pooling2d_8 (AveragePoo (None, 6, 6, 1280)   0           mixed8[0][0]                     \n",
            "__________________________________________________________________________________________________\n",
            "conv2d_77 (Conv2D)              (None, 6, 6, 320)    409600      mixed8[0][0]                     \n",
            "__________________________________________________________________________________________________\n",
            "batch_normalization_79 (BatchNo (None, 6, 6, 384)    1152        conv2d_79[0][0]                  \n",
            "__________________________________________________________________________________________________\n",
            "batch_normalization_80 (BatchNo (None, 6, 6, 384)    1152        conv2d_80[0][0]                  \n",
            "__________________________________________________________________________________________________\n",
            "batch_normalization_83 (BatchNo (None, 6, 6, 384)    1152        conv2d_83[0][0]                  \n",
            "__________________________________________________________________________________________________\n",
            "batch_normalization_84 (BatchNo (None, 6, 6, 384)    1152        conv2d_84[0][0]                  \n",
            "__________________________________________________________________________________________________\n",
            "conv2d_85 (Conv2D)              (None, 6, 6, 192)    245760      average_pooling2d_8[0][0]        \n",
            "__________________________________________________________________________________________________\n",
            "batch_normalization_77 (BatchNo (None, 6, 6, 320)    960         conv2d_77[0][0]                  \n",
            "__________________________________________________________________________________________________\n",
            "activation_79 (Activation)      (None, 6, 6, 384)    0           batch_normalization_79[0][0]     \n",
            "__________________________________________________________________________________________________\n",
            "activation_80 (Activation)      (None, 6, 6, 384)    0           batch_normalization_80[0][0]     \n",
            "__________________________________________________________________________________________________\n",
            "activation_83 (Activation)      (None, 6, 6, 384)    0           batch_normalization_83[0][0]     \n",
            "__________________________________________________________________________________________________\n",
            "activation_84 (Activation)      (None, 6, 6, 384)    0           batch_normalization_84[0][0]     \n",
            "__________________________________________________________________________________________________\n",
            "batch_normalization_85 (BatchNo (None, 6, 6, 192)    576         conv2d_85[0][0]                  \n",
            "__________________________________________________________________________________________________\n",
            "activation_77 (Activation)      (None, 6, 6, 320)    0           batch_normalization_77[0][0]     \n",
            "__________________________________________________________________________________________________\n",
            "mixed9_0 (Concatenate)          (None, 6, 6, 768)    0           activation_79[0][0]              \n",
            "                                                                 activation_80[0][0]              \n",
            "__________________________________________________________________________________________________\n",
            "concatenate_1 (Concatenate)     (None, 6, 6, 768)    0           activation_83[0][0]              \n",
            "                                                                 activation_84[0][0]              \n",
            "__________________________________________________________________________________________________\n",
            "activation_85 (Activation)      (None, 6, 6, 192)    0           batch_normalization_85[0][0]     \n",
            "__________________________________________________________________________________________________\n",
            "mixed9 (Concatenate)            (None, 6, 6, 2048)   0           activation_77[0][0]              \n",
            "                                                                 mixed9_0[0][0]                   \n",
            "                                                                 concatenate_1[0][0]              \n",
            "                                                                 activation_85[0][0]              \n",
            "__________________________________________________________________________________________________\n",
            "conv2d_90 (Conv2D)              (None, 6, 6, 448)    917504      mixed9[0][0]                     \n",
            "__________________________________________________________________________________________________\n",
            "batch_normalization_90 (BatchNo (None, 6, 6, 448)    1344        conv2d_90[0][0]                  \n",
            "__________________________________________________________________________________________________\n",
            "activation_90 (Activation)      (None, 6, 6, 448)    0           batch_normalization_90[0][0]     \n",
            "__________________________________________________________________________________________________\n",
            "conv2d_87 (Conv2D)              (None, 6, 6, 384)    786432      mixed9[0][0]                     \n",
            "__________________________________________________________________________________________________\n",
            "conv2d_91 (Conv2D)              (None, 6, 6, 384)    1548288     activation_90[0][0]              \n",
            "__________________________________________________________________________________________________\n",
            "batch_normalization_87 (BatchNo (None, 6, 6, 384)    1152        conv2d_87[0][0]                  \n",
            "__________________________________________________________________________________________________\n",
            "batch_normalization_91 (BatchNo (None, 6, 6, 384)    1152        conv2d_91[0][0]                  \n",
            "__________________________________________________________________________________________________\n",
            "activation_87 (Activation)      (None, 6, 6, 384)    0           batch_normalization_87[0][0]     \n",
            "__________________________________________________________________________________________________\n",
            "activation_91 (Activation)      (None, 6, 6, 384)    0           batch_normalization_91[0][0]     \n",
            "__________________________________________________________________________________________________\n",
            "conv2d_88 (Conv2D)              (None, 6, 6, 384)    442368      activation_87[0][0]              \n",
            "__________________________________________________________________________________________________\n",
            "conv2d_89 (Conv2D)              (None, 6, 6, 384)    442368      activation_87[0][0]              \n",
            "__________________________________________________________________________________________________\n",
            "conv2d_92 (Conv2D)              (None, 6, 6, 384)    442368      activation_91[0][0]              \n",
            "__________________________________________________________________________________________________\n",
            "conv2d_93 (Conv2D)              (None, 6, 6, 384)    442368      activation_91[0][0]              \n",
            "__________________________________________________________________________________________________\n",
            "average_pooling2d_9 (AveragePoo (None, 6, 6, 2048)   0           mixed9[0][0]                     \n",
            "__________________________________________________________________________________________________\n",
            "conv2d_86 (Conv2D)              (None, 6, 6, 320)    655360      mixed9[0][0]                     \n",
            "__________________________________________________________________________________________________\n",
            "batch_normalization_88 (BatchNo (None, 6, 6, 384)    1152        conv2d_88[0][0]                  \n",
            "__________________________________________________________________________________________________\n",
            "batch_normalization_89 (BatchNo (None, 6, 6, 384)    1152        conv2d_89[0][0]                  \n",
            "__________________________________________________________________________________________________\n",
            "batch_normalization_92 (BatchNo (None, 6, 6, 384)    1152        conv2d_92[0][0]                  \n",
            "__________________________________________________________________________________________________\n",
            "batch_normalization_93 (BatchNo (None, 6, 6, 384)    1152        conv2d_93[0][0]                  \n",
            "__________________________________________________________________________________________________\n",
            "conv2d_94 (Conv2D)              (None, 6, 6, 192)    393216      average_pooling2d_9[0][0]        \n",
            "__________________________________________________________________________________________________\n",
            "batch_normalization_86 (BatchNo (None, 6, 6, 320)    960         conv2d_86[0][0]                  \n",
            "__________________________________________________________________________________________________\n",
            "activation_88 (Activation)      (None, 6, 6, 384)    0           batch_normalization_88[0][0]     \n",
            "__________________________________________________________________________________________________\n",
            "activation_89 (Activation)      (None, 6, 6, 384)    0           batch_normalization_89[0][0]     \n",
            "__________________________________________________________________________________________________\n",
            "activation_92 (Activation)      (None, 6, 6, 384)    0           batch_normalization_92[0][0]     \n",
            "__________________________________________________________________________________________________\n",
            "activation_93 (Activation)      (None, 6, 6, 384)    0           batch_normalization_93[0][0]     \n",
            "__________________________________________________________________________________________________\n",
            "batch_normalization_94 (BatchNo (None, 6, 6, 192)    576         conv2d_94[0][0]                  \n",
            "__________________________________________________________________________________________________\n",
            "activation_86 (Activation)      (None, 6, 6, 320)    0           batch_normalization_86[0][0]     \n",
            "__________________________________________________________________________________________________\n",
            "mixed9_1 (Concatenate)          (None, 6, 6, 768)    0           activation_88[0][0]              \n",
            "                                                                 activation_89[0][0]              \n",
            "__________________________________________________________________________________________________\n",
            "concatenate_2 (Concatenate)     (None, 6, 6, 768)    0           activation_92[0][0]              \n",
            "                                                                 activation_93[0][0]              \n",
            "__________________________________________________________________________________________________\n",
            "activation_94 (Activation)      (None, 6, 6, 192)    0           batch_normalization_94[0][0]     \n",
            "__________________________________________________________________________________________________\n",
            "mixed10 (Concatenate)           (None, 6, 6, 2048)   0           activation_86[0][0]              \n",
            "                                                                 mixed9_1[0][0]                   \n",
            "                                                                 concatenate_2[0][0]              \n",
            "                                                                 activation_94[0][0]              \n",
            "__________________________________________________________________________________________________\n",
            "global_max_pooling2d_1 (GlobalM (None, 2048)         0           mixed10[0][0]                    \n",
            "__________________________________________________________________________________________________\n",
            "dense_1 (Dense)                 (None, 1024)         2098176     global_max_pooling2d_1[0][0]     \n",
            "__________________________________________________________________________________________________\n",
            "dense_2 (Dense)                 (None, 128)          131200      dense_1[0][0]                    \n",
            "__________________________________________________________________________________________________\n",
            "dense_3 (Dense)                 (None, 32)           4128        dense_2[0][0]                    \n",
            "__________________________________________________________________________________________________\n",
            "dense_4 (Dense)                 (None, 1)            33          dense_3[0][0]                    \n",
            "==================================================================================================\n",
            "Total params: 24,036,321\n",
            "Trainable params: 24,001,889\n",
            "Non-trainable params: 34,432\n",
            "__________________________________________________________________________________________________\n"
          ],
          "name": "stdout"
        },
        {
          "output_type": "stream",
          "text": [
            "/usr/local/lib/python3.6/dist-packages/ipykernel_launcher.py:20: UserWarning: Update your `Model` call to the Keras 2 API: `Model(inputs=Tensor(\"in..., outputs=Tensor(\"de...)`\n"
          ],
          "name": "stderr"
        }
      ]
    },
    {
      "cell_type": "code",
      "metadata": {
        "colab_type": "code",
        "id": "h_Ex8umhLHRf",
        "colab": {}
      },
      "source": [
        "#freeze the added dense layers and unfreeze the rest:\n",
        "for layer in modified_mri_InceptionV3.layers[15:]:\n",
        "    layer.trainable = True \n",
        "    \n",
        "for layer in mri_InceptionV3.layers:\n",
        "    layer.trainable = False\n",
        "    \n",
        "modified_mri_InceptionV3.compile(loss='binary_crossentropy', optimizer=\"adam\", metrics=['accuracy'])"
      ],
      "execution_count": 0,
      "outputs": []
    },
    {
      "cell_type": "code",
      "metadata": {
        "colab_type": "code",
        "id": "QW0nkyYphAXF",
        "colab": {}
      },
      "source": [
        "class Metrics(Callback):\n",
        "  def on_train_begin(self, logs={}):\n",
        "    self.val_f1s = []\n",
        "  def on_epoch_end(self, epoch, logs={}):\n",
        "    val_predict = (np.asarray(self.model.predict(self.validation_data[0]))).round()\n",
        "    val_targ = self.validation_data[1]\n",
        "    _val_f1 = f1_score(val_targ, val_predict)\n",
        "    self.val_f1s.append(_val_f1)\n",
        "    print ('-val_f1 : %f '%(_val_f1))\n",
        "    return\n",
        "metrics = Metrics()"
      ],
      "execution_count": 0,
      "outputs": []
    },
    {
      "cell_type": "code",
      "metadata": {
        "colab_type": "code",
        "id": "YsweVLh8p68x",
        "colab": {}
      },
      "source": [
        "def plot_history(history):\n",
        "  plt.figure(figsize=(8, 6))\n",
        "  ax = plt.gca()\n",
        "  plt.title('Training performance')\n",
        "  plt.plot(history.epoch, history.history['loss'], label='Loss')\n",
        "  plt.plot(history.epoch, history.history['val_loss'], label='validation error')\n",
        "  plt.plot(history.epoch, history.history['acc'], label='accuracy')\n",
        "  plt.plot(history.epoch, history.history['val_acc'], label='validation accuracy')\n",
        "  plt.plot(metrics.val_f1s, label='f_score')\n",
        "  plt.grid(True,color='white')\n",
        "  mpl.style.use('seaborn')\n",
        "  plt.legend() \n",
        "  "
      ],
      "execution_count": 0,
      "outputs": []
    },
    {
      "cell_type": "code",
      "metadata": {
        "colab_type": "code",
        "id": "Qy5DNM96LedU",
        "colab": {}
      },
      "source": [
        "#train the model with 1073 trainning data & 57 validation data\n",
        "#save the model that has the max validation accuracy\n",
        "#at the end plot the trainng loss & accuracy, validation loss & accuracy & F-score \n",
        "def fit_model(training_set, training_labels, model_file_name):\n",
        "  \n",
        "    history = modified_mri_InceptionV3.fit(x = training_set, y = training_labels, batch_size=32,\n",
        "                       epochs=30, validation_split = 0.05,\n",
        "                       callbacks =[\n",
        "                          EarlyStopping(patience=3, monitor = 'val_loss', mode = 'min'),\n",
        "                          ModelCheckpoint(model_file_name, monitor='val_acc', save_best_only=True, mode='max', period=1), metrics])\n",
        "    plot_history(history)\n",
        "    best_model = load_model(model_file_name)\n",
        "    return best_model"
      ],
      "execution_count": 0,
      "outputs": []
    },
    {
      "cell_type": "code",
      "metadata": {
        "colab_type": "code",
        "id": "yJMZ8-NMLon_",
        "colab": {
          "base_uri": "https://localhost:8080/",
          "height": 814
        },
        "outputId": "cc245ed4-0c93-45e6-85fe-e1400bdaf7c9"
      },
      "source": [
        "#train the modified INCEPTIONV3 model that will accept the axial data and classify the knee is it has an abnormal tear or not \n",
        "axial_abnormal_model = fit_model(training_set_axial, training_label_abnormal, \"axial_abnormal_model\")"
      ],
      "execution_count": 52,
      "outputs": [
        {
          "output_type": "stream",
          "text": [
            "Train on 2147 samples, validate on 113 samples\n",
            "Epoch 1/30\n",
            "2147/2147 [==============================] - 8s 4ms/step - loss: 0.4070 - acc: 0.8295 - val_loss: 5.0151 - val_acc: 0.2035\n",
            "-val_f1 : 0.021739 \n",
            "Epoch 2/30\n",
            "2147/2147 [==============================] - 8s 4ms/step - loss: 0.3952 - acc: 0.8337 - val_loss: 5.2926 - val_acc: 0.2212\n",
            "-val_f1 : 0.063830 \n",
            "Epoch 3/30\n",
            "2147/2147 [==============================] - 8s 4ms/step - loss: 0.3878 - acc: 0.8267 - val_loss: 6.6724 - val_acc: 0.2035\n",
            "-val_f1 : 0.021739 \n",
            "Epoch 4/30\n",
            "2147/2147 [==============================] - 8s 4ms/step - loss: 0.3649 - acc: 0.8449 - val_loss: 4.2279 - val_acc: 0.2212\n",
            "-val_f1 : 0.063830 \n",
            "Epoch 5/30\n",
            "2147/2147 [==============================] - 8s 4ms/step - loss: 0.3829 - acc: 0.8314 - val_loss: 3.2198 - val_acc: 0.2566\n",
            "-val_f1 : 0.160000 \n",
            "Epoch 6/30\n",
            "2147/2147 [==============================] - 8s 4ms/step - loss: 0.3702 - acc: 0.8365 - val_loss: 6.3825 - val_acc: 0.2035\n",
            "-val_f1 : 0.021739 \n",
            "Epoch 7/30\n",
            "2147/2147 [==============================] - 8s 4ms/step - loss: 0.3521 - acc: 0.8486 - val_loss: 6.7398 - val_acc: 0.2035\n",
            "-val_f1 : 0.021739 \n",
            "Epoch 8/30\n",
            "2147/2147 [==============================] - 8s 4ms/step - loss: 0.3463 - acc: 0.8486 - val_loss: 6.8429 - val_acc: 0.2124\n",
            "-val_f1 : 0.043011 \n"
          ],
          "name": "stdout"
        },
        {
          "output_type": "display_data",
          "data": {
            "image/png": "[encoded data removed]",
            "text/plain": [
              "<Figure size 576x432 with 1 Axes>"
            ]
          },
          "metadata": {
            "tags": []
          }
        }
      ]
    },
    {
      "cell_type": "code",
      "metadata": {
        "colab_type": "code",
        "id": "rgwq4QabMM3f",
        "colab": {
          "base_uri": "https://localhost:8080/",
          "height": 664
        },
        "outputId": "448dae48-956f-40a5-c8ef-36b123038c8c"
      },
      "source": [
        "#train the modified INCEPTIONV3 model that will accept the axial data and classify the knee is it has an acl tear or not \n",
        "axial_acl_model = fit_model(training_set_axial, training_label_acl, \"axial_acl_model\")"
      ],
      "execution_count": 24,
      "outputs": [
        {
          "output_type": "stream",
          "text": [
            "Train on 2147 samples, validate on 113 samples\n",
            "Epoch 1/30\n",
            "2147/2147 [==============================] - 8s 4ms/step - loss: 0.5568 - acc: 0.7927 - val_loss: 0.4800 - val_acc: 0.8142\n",
            "-val_f1 : 0.000000 \n",
            "Epoch 2/30\n",
            "2147/2147 [==============================] - 8s 4ms/step - loss: 0.5074 - acc: 0.7988 - val_loss: 2.4248 - val_acc: 0.8496\n",
            "-val_f1 : 0.000000 \n",
            "Epoch 3/30\n",
            "  32/2147 [..............................] - ETA: 6s - loss: 0.5404 - acc: 0.7812"
          ],
          "name": "stdout"
        },
        {
          "output_type": "stream",
          "text": [
            "/usr/local/lib/python3.6/dist-packages/sklearn/metrics/classification.py:1437: UndefinedMetricWarning: F-score is ill-defined and being set to 0.0 due to no predicted samples.\n",
            "  'precision', 'predicted', average, warn_for)\n"
          ],
          "name": "stderr"
        },
        {
          "output_type": "stream",
          "text": [
            "2147/2147 [==============================] - 8s 4ms/step - loss: 0.4378 - acc: 0.8156 - val_loss: 2.4248 - val_acc: 0.8496\n",
            "-val_f1 : 0.000000 \n",
            "Epoch 4/30\n",
            "2147/2147 [==============================] - 8s 4ms/step - loss: 0.4364 - acc: 0.8165 - val_loss: 2.1940 - val_acc: 0.8496\n",
            "-val_f1 : 0.000000 \n"
          ],
          "name": "stdout"
        },
        {
          "output_type": "display_data",
          "data": {
            "image/png": "[encoded data removed]",
            "text/plain": [
              "<Figure size 576x432 with 1 Axes>"
            ]
          },
          "metadata": {
            "tags": []
          }
        }
      ]
    },
    {
      "cell_type": "code",
      "metadata": {
        "colab_type": "code",
        "id": "n6koKwqZTiIR",
        "colab": {
          "base_uri": "https://localhost:8080/",
          "height": 766
        },
        "outputId": "97c1062a-2b07-4623-9eac-d1ee42d0ed92"
      },
      "source": [
        "#train the modified INCEPTIONV3 model that will accept the axial data and classify the knee is it has a meniscus tear or not \n",
        "axial_meniscus_model = fit_model(training_set_axial, training_label_meniscus, \"axial_meniscus_model\")"
      ],
      "execution_count": 25,
      "outputs": [
        {
          "output_type": "stream",
          "text": [
            "Train on 2147 samples, validate on 113 samples\n",
            "Epoch 1/30\n",
            "2147/2147 [==============================] - 8s 4ms/step - loss: 0.6204 - acc: 0.6530 - val_loss: 2.8215 - val_acc: 0.6637\n",
            "-val_f1 : 0.000000 \n",
            "Epoch 2/30\n",
            "  32/2147 [..............................] - ETA: 6s - loss: 0.5671 - acc: 0.7500"
          ],
          "name": "stdout"
        },
        {
          "output_type": "stream",
          "text": [
            "/usr/local/lib/python3.6/dist-packages/sklearn/metrics/classification.py:1437: UndefinedMetricWarning: F-score is ill-defined and being set to 0.0 due to no predicted samples.\n",
            "  'precision', 'predicted', average, warn_for)\n"
          ],
          "name": "stderr"
        },
        {
          "output_type": "stream",
          "text": [
            "2147/2147 [==============================] - 8s 4ms/step - loss: 0.5745 - acc: 0.6875 - val_loss: 5.4151 - val_acc: 0.6637\n",
            "-val_f1 : 0.000000 \n",
            "Epoch 3/30\n",
            "2147/2147 [==============================] - 8s 4ms/step - loss: 0.5990 - acc: 0.6777 - val_loss: 0.9020 - val_acc: 0.6637\n",
            "-val_f1 : 0.136364 \n",
            "Epoch 4/30\n",
            "2147/2147 [==============================] - 8s 4ms/step - loss: 0.5747 - acc: 0.6833 - val_loss: 5.2512 - val_acc: 0.6637\n",
            "-val_f1 : 0.000000 \n",
            "Epoch 5/30\n",
            "2147/2147 [==============================] - 8s 4ms/step - loss: 0.5842 - acc: 0.6907 - val_loss: 2.5717 - val_acc: 0.6637\n",
            "-val_f1 : 0.050000 \n",
            "Epoch 6/30\n",
            "2147/2147 [==============================] - 8s 4ms/step - loss: 0.5392 - acc: 0.7140 - val_loss: 4.5500 - val_acc: 0.6726\n",
            "-val_f1 : 0.051282 \n"
          ],
          "name": "stdout"
        },
        {
          "output_type": "display_data",
          "data": {
            "image/png": "[encoded data removed]",
            "text/plain": [
              "<Figure size 576x432 with 1 Axes>"
            ]
          },
          "metadata": {
            "tags": []
          }
        }
      ]
    },
    {
      "cell_type": "code",
      "metadata": {
        "colab_type": "code",
        "id": "IaMWyKecTiWD",
        "colab": {
          "base_uri": "https://localhost:8080/",
          "height": 916
        },
        "outputId": "d1e147e5-c3c1-4ec4-d919-6670f2dbdfd2"
      },
      "source": [
        "#train the modified INCEPTIONV3 model that will accept the coronal data and classify the knee is it has an abnormal tear or not \n",
        "coronal_abnormal_model = fit_model(training_set_coronal, training_label_abnormal, \"coronal_abnormal_model\")"
      ],
      "execution_count": 26,
      "outputs": [
        {
          "output_type": "stream",
          "text": [
            "Train on 2147 samples, validate on 113 samples\n",
            "Epoch 1/30\n",
            "2147/2147 [==============================] - 8s 4ms/step - loss: 0.5147 - acc: 0.7993 - val_loss: 2.2675 - val_acc: 0.8053\n",
            "-val_f1 : 0.892157 \n",
            "Epoch 2/30\n",
            "2147/2147 [==============================] - 8s 4ms/step - loss: 0.4747 - acc: 0.8081 - val_loss: 2.5541 - val_acc: 0.8053\n",
            "-val_f1 : 0.892157 \n",
            "Epoch 3/30\n",
            "2147/2147 [==============================] - 8s 4ms/step - loss: 0.4685 - acc: 0.8086 - val_loss: 1.6575 - val_acc: 0.8053\n",
            "-val_f1 : 0.892157 \n",
            "Epoch 4/30\n",
            "2147/2147 [==============================] - 8s 4ms/step - loss: 0.4377 - acc: 0.8100 - val_loss: 1.7343 - val_acc: 0.6726\n",
            "-val_f1 : 0.800000 \n",
            "Epoch 5/30\n",
            "2147/2147 [==============================] - 8s 4ms/step - loss: 0.4320 - acc: 0.8142 - val_loss: 1.6804 - val_acc: 0.7965\n",
            "-val_f1 : 0.886700 \n",
            "Epoch 6/30\n",
            "2147/2147 [==============================] - 8s 4ms/step - loss: 0.4166 - acc: 0.8081 - val_loss: 1.0946 - val_acc: 0.6637\n",
            "-val_f1 : 0.788889 \n",
            "Epoch 7/30\n",
            "2147/2147 [==============================] - 8s 4ms/step - loss: 0.4328 - acc: 0.8100 - val_loss: 0.9903 - val_acc: 0.3097\n",
            "-val_f1 : 0.360656 \n",
            "Epoch 8/30\n",
            "2147/2147 [==============================] - 8s 4ms/step - loss: 0.4107 - acc: 0.8151 - val_loss: 1.5425 - val_acc: 0.6106\n",
            "-val_f1 : 0.744186 \n",
            "Epoch 9/30\n",
            "2147/2147 [==============================] - 8s 4ms/step - loss: 0.4029 - acc: 0.8216 - val_loss: 1.5156 - val_acc: 0.6991\n",
            "-val_f1 : 0.817204 \n",
            "Epoch 10/30\n",
            "2147/2147 [==============================] - 8s 4ms/step - loss: 0.3939 - acc: 0.8281 - val_loss: 1.6473 - val_acc: 0.7168\n",
            "-val_f1 : 0.826087 \n"
          ],
          "name": "stdout"
        },
        {
          "output_type": "display_data",
          "data": {
            "image/png": "[encoded data removed]",
            "text/plain": [
              "<Figure size 576x432 with 1 Axes>"
            ]
          },
          "metadata": {
            "tags": []
          }
        }
      ]
    },
    {
      "cell_type": "code",
      "metadata": {
        "colab_type": "code",
        "id": "YFEUHQozTik8",
        "colab": {
          "base_uri": "https://localhost:8080/",
          "height": 766
        },
        "outputId": "3ceaa3db-bcbe-4a75-d933-fef5dc3f2fed"
      },
      "source": [
        "#train the modified INCEPTIONV3 model that will accept the coronal data and classify the knee is it has an acl tear or not \n",
        "coronal_acl_model = fit_model(training_set_coronal, training_label_acl, \"coronal_acl_model\")"
      ],
      "execution_count": 27,
      "outputs": [
        {
          "output_type": "stream",
          "text": [
            "Train on 2147 samples, validate on 113 samples\n",
            "Epoch 1/30\n",
            "2147/2147 [==============================] - 8s 4ms/step - loss: 0.5582 - acc: 0.7899 - val_loss: 1.5039 - val_acc: 0.8496\n",
            "-val_f1 : 0.000000 \n",
            "Epoch 2/30\n",
            "  32/2147 [..............................] - ETA: 6s - loss: 0.2758 - acc: 0.9375"
          ],
          "name": "stdout"
        },
        {
          "output_type": "stream",
          "text": [
            "/usr/local/lib/python3.6/dist-packages/sklearn/metrics/classification.py:1437: UndefinedMetricWarning: F-score is ill-defined and being set to 0.0 due to no predicted samples.\n",
            "  'precision', 'predicted', average, warn_for)\n"
          ],
          "name": "stderr"
        },
        {
          "output_type": "stream",
          "text": [
            "2147/2147 [==============================] - 8s 4ms/step - loss: 0.4802 - acc: 0.8142 - val_loss: 1.9839 - val_acc: 0.8496\n",
            "-val_f1 : 0.000000 \n",
            "Epoch 3/30\n",
            "2147/2147 [==============================] - 8s 4ms/step - loss: 0.4736 - acc: 0.8142 - val_loss: 1.5012 - val_acc: 0.8496\n",
            "-val_f1 : 0.000000 \n",
            "Epoch 4/30\n",
            "2147/2147 [==============================] - 8s 4ms/step - loss: 0.4528 - acc: 0.8142 - val_loss: 1.6846 - val_acc: 0.8496\n",
            "-val_f1 : 0.000000 \n",
            "Epoch 5/30\n",
            "2147/2147 [==============================] - 8s 4ms/step - loss: 0.4625 - acc: 0.8142 - val_loss: 2.1236 - val_acc: 0.8496\n",
            "-val_f1 : 0.000000 \n",
            "Epoch 6/30\n",
            "2147/2147 [==============================] - 8s 4ms/step - loss: 0.4407 - acc: 0.8142 - val_loss: 1.9625 - val_acc: 0.8496\n",
            "-val_f1 : 0.000000 \n"
          ],
          "name": "stdout"
        },
        {
          "output_type": "display_data",
          "data": {
            "image/png": "[encoded data removed]",
            "text/plain": [
              "<Figure size 576x432 with 1 Axes>"
            ]
          },
          "metadata": {
            "tags": []
          }
        }
      ]
    },
    {
      "cell_type": "code",
      "metadata": {
        "colab_type": "code",
        "id": "cN3i8KC4TixN",
        "colab": {
          "base_uri": "https://localhost:8080/",
          "height": 1174
        },
        "outputId": "5c9b8e26-814e-40cc-f87b-d4e17a026a19"
      },
      "source": [
        "#train the modified INCEPTIONV3 model that will accept the coronal data and classify the knee is it has a meniscus tear or not \n",
        "coronal_meniscus_model = fit_model(training_set_coronal, training_label_meniscus, \"coronal_meniscus_model\")"
      ],
      "execution_count": 28,
      "outputs": [
        {
          "output_type": "stream",
          "text": [
            "Train on 2147 samples, validate on 113 samples\n",
            "Epoch 1/30\n",
            "2147/2147 [==============================] - 8s 4ms/step - loss: 0.6549 - acc: 0.6479 - val_loss: 0.7278 - val_acc: 0.5310\n",
            "-val_f1 : 0.273973 \n",
            "Epoch 2/30\n",
            "2147/2147 [==============================] - 8s 4ms/step - loss: 0.6491 - acc: 0.6479 - val_loss: 0.7261 - val_acc: 0.5133\n",
            "-val_f1 : 0.225352 \n",
            "Epoch 3/30\n",
            "2147/2147 [==============================] - 8s 4ms/step - loss: 0.6492 - acc: 0.6479 - val_loss: 0.6780 - val_acc: 0.5664\n",
            "-val_f1 : 0.196721 \n",
            "Epoch 4/30\n",
            "2147/2147 [==============================] - 8s 4ms/step - loss: 0.6496 - acc: 0.6456 - val_loss: 0.6537 - val_acc: 0.6814\n",
            "-val_f1 : 0.142857 \n",
            "Epoch 5/30\n",
            "2147/2147 [==============================] - 8s 4ms/step - loss: 0.6492 - acc: 0.6479 - val_loss: 0.6526 - val_acc: 0.6814\n",
            "-val_f1 : 0.142857 \n",
            "Epoch 6/30\n",
            "2147/2147 [==============================] - 8s 4ms/step - loss: 0.6497 - acc: 0.6479 - val_loss: 0.6644 - val_acc: 0.6372\n",
            "-val_f1 : 0.163265 \n",
            "Epoch 7/30\n",
            "2147/2147 [==============================] - 8s 4ms/step - loss: 0.6495 - acc: 0.6474 - val_loss: 0.6453 - val_acc: 0.6549\n",
            "-val_f1 : 0.000000 \n",
            "Epoch 8/30\n",
            "2147/2147 [==============================] - 8s 4ms/step - loss: 0.6490 - acc: 0.6479 - val_loss: 0.6448 - val_acc: 0.6549\n",
            "-val_f1 : 0.000000 \n",
            "Epoch 9/30\n",
            "2147/2147 [==============================] - 8s 4ms/step - loss: 0.6490 - acc: 0.6479 - val_loss: 0.6381 - val_acc: 0.6549\n",
            "-val_f1 : 0.000000 \n",
            "Epoch 10/30\n",
            "2147/2147 [==============================] - 8s 4ms/step - loss: 0.6490 - acc: 0.6479 - val_loss: 0.6384 - val_acc: 0.6549\n",
            "-val_f1 : 0.000000 \n",
            "Epoch 11/30\n",
            "2147/2147 [==============================] - 8s 4ms/step - loss: 0.6490 - acc: 0.6479 - val_loss: 0.6368 - val_acc: 0.6549\n",
            "-val_f1 : 0.000000 \n",
            "Epoch 12/30\n",
            "2147/2147 [==============================] - 8s 4ms/step - loss: 0.6490 - acc: 0.6479 - val_loss: 1.5694 - val_acc: 0.6637\n",
            "-val_f1 : 0.000000 \n",
            "Epoch 13/30\n",
            "  32/2147 [..............................] - ETA: 7s - loss: 0.5289 - acc: 0.8125"
          ],
          "name": "stdout"
        },
        {
          "output_type": "stream",
          "text": [
            "/usr/local/lib/python3.6/dist-packages/sklearn/metrics/classification.py:1437: UndefinedMetricWarning: F-score is ill-defined and being set to 0.0 due to no predicted samples.\n",
            "  'precision', 'predicted', average, warn_for)\n"
          ],
          "name": "stderr"
        },
        {
          "output_type": "stream",
          "text": [
            "2147/2147 [==============================] - 8s 4ms/step - loss: 0.6405 - acc: 0.6479 - val_loss: 4.5026 - val_acc: 0.6637\n",
            "-val_f1 : 0.000000 \n",
            "Epoch 14/30\n",
            "2147/2147 [==============================] - 8s 4ms/step - loss: 0.6504 - acc: 0.6479 - val_loss: 0.6381 - val_acc: 0.6549\n",
            "-val_f1 : 0.000000 \n"
          ],
          "name": "stdout"
        },
        {
          "output_type": "display_data",
          "data": {
            "image/png": "[encoded data removed]",
            "text/plain": [
              "<Figure size 576x432 with 1 Axes>"
            ]
          },
          "metadata": {
            "tags": []
          }
        }
      ]
    },
    {
      "cell_type": "code",
      "metadata": {
        "colab_type": "code",
        "id": "H_YrRaorTi9t",
        "colab": {
          "base_uri": "https://localhost:8080/",
          "height": 865
        },
        "outputId": "5b297916-3d70-4ade-9e0e-f6877f320bb9"
      },
      "source": [
        "#train the modified INCEPTIONV3 model that will accept the sagittal data and classify the knee is it has an abnormal tear or not \n",
        "sagittal_abnormal_model = fit_model(training_set_sagittal, training_label_abnormal, \"sagittal_abormal_model\")"
      ],
      "execution_count": 29,
      "outputs": [
        {
          "output_type": "stream",
          "text": [
            "Train on 2147 samples, validate on 113 samples\n",
            "Epoch 1/30\n",
            "2147/2147 [==============================] - 8s 4ms/step - loss: 0.7336 - acc: 0.4541 - val_loss: 0.6154 - val_acc: 0.8053\n",
            "-val_f1 : 0.892157 \n",
            "Epoch 2/30\n",
            "2147/2147 [==============================] - 8s 4ms/step - loss: 0.5328 - acc: 0.8081 - val_loss: 0.5155 - val_acc: 0.8053\n",
            "-val_f1 : 0.892157 \n",
            "Epoch 3/30\n",
            "2147/2147 [==============================] - 8s 4ms/step - loss: 0.4921 - acc: 0.8081 - val_loss: 1.1393 - val_acc: 0.8053\n",
            "-val_f1 : 0.892157 \n",
            "Epoch 4/30\n",
            "2147/2147 [==============================] - 8s 4ms/step - loss: 0.4906 - acc: 0.8081 - val_loss: 0.5059 - val_acc: 0.8053\n",
            "-val_f1 : 0.892157 \n",
            "Epoch 5/30\n",
            "2147/2147 [==============================] - 8s 4ms/step - loss: 0.4893 - acc: 0.8081 - val_loss: 0.5058 - val_acc: 0.8053\n",
            "-val_f1 : 0.892157 \n",
            "Epoch 6/30\n",
            "2147/2147 [==============================] - 8s 4ms/step - loss: 0.4892 - acc: 0.8081 - val_loss: 0.5055 - val_acc: 0.8053\n",
            "-val_f1 : 0.892157 \n",
            "Epoch 7/30\n",
            "2147/2147 [==============================] - 8s 4ms/step - loss: 0.4893 - acc: 0.8081 - val_loss: 0.5057 - val_acc: 0.8053\n",
            "-val_f1 : 0.892157 \n",
            "Epoch 8/30\n",
            "2147/2147 [==============================] - 8s 4ms/step - loss: 0.4905 - acc: 0.8081 - val_loss: 0.5099 - val_acc: 0.8053\n",
            "-val_f1 : 0.892157 \n",
            "Epoch 9/30\n",
            "2147/2147 [==============================] - 8s 4ms/step - loss: 0.4895 - acc: 0.8081 - val_loss: 0.5101 - val_acc: 0.8053\n",
            "-val_f1 : 0.892157 \n"
          ],
          "name": "stdout"
        },
        {
          "output_type": "display_data",
          "data": {
            "image/png": "[encoded data removed]",
            "text/plain": [
              "<Figure size 576x432 with 1 Axes>"
            ]
          },
          "metadata": {
            "tags": []
          }
        }
      ]
    },
    {
      "cell_type": "code",
      "metadata": {
        "colab_type": "code",
        "id": "8EQtUg7STjJ2",
        "colab": {
          "base_uri": "https://localhost:8080/",
          "height": 664
        },
        "outputId": "c8dadb64-4bad-4936-b3be-7daad7dbb460"
      },
      "source": [
        "#train the modified INCEPTIONV3 model that will accept the sagittal data and classify the knee is it has an acl tear or not \n",
        "sagittal_acl_model = fit_model(training_set_sagittal, training_label_acl, \"sagittal_acl_model\")"
      ],
      "execution_count": 30,
      "outputs": [
        {
          "output_type": "stream",
          "text": [
            "Train on 2147 samples, validate on 113 samples\n",
            "Epoch 1/30\n",
            "2147/2147 [==============================] - 8s 4ms/step - loss: 0.9034 - acc: 0.2627 - val_loss: 0.8302 - val_acc: 0.8496\n",
            "-val_f1 : 0.000000 \n",
            "Epoch 2/30\n",
            "  32/2147 [..............................] - ETA: 7s - loss: 0.5264 - acc: 0.8125"
          ],
          "name": "stdout"
        },
        {
          "output_type": "stream",
          "text": [
            "/usr/local/lib/python3.6/dist-packages/sklearn/metrics/classification.py:1437: UndefinedMetricWarning: F-score is ill-defined and being set to 0.0 due to no predicted samples.\n",
            "  'precision', 'predicted', average, warn_for)\n"
          ],
          "name": "stderr"
        },
        {
          "output_type": "stream",
          "text": [
            "2147/2147 [==============================] - 8s 4ms/step - loss: 0.4849 - acc: 0.8142 - val_loss: 1.7688 - val_acc: 0.8496\n",
            "-val_f1 : 0.000000 \n",
            "Epoch 3/30\n",
            "2147/2147 [==============================] - 8s 4ms/step - loss: 0.4668 - acc: 0.8142 - val_loss: 1.4748 - val_acc: 0.8496\n",
            "-val_f1 : 0.000000 \n",
            "Epoch 4/30\n",
            "2147/2147 [==============================] - 8s 4ms/step - loss: 0.4651 - acc: 0.8142 - val_loss: 1.9984 - val_acc: 0.8496\n",
            "-val_f1 : 0.000000 \n"
          ],
          "name": "stdout"
        },
        {
          "output_type": "display_data",
          "data": {
            "image/png": "[encoded data removed]",
            "text/plain": [
              "<Figure size 576x432 with 1 Axes>"
            ]
          },
          "metadata": {
            "tags": []
          }
        }
      ]
    },
    {
      "cell_type": "code",
      "metadata": {
        "colab_type": "code",
        "id": "gPKd-N7eTjUg",
        "colab": {
          "base_uri": "https://localhost:8080/",
          "height": 664
        },
        "outputId": "e5e1ba2b-11ad-4abd-bc74-3eb70ab8d810"
      },
      "source": [
        "#train the modified INCEPTIONV3 model that will accept the sagittal data and classify the knee is it has a meniscus tear or not \n",
        "sagittal_meniscus_model = fit_model(training_set_sagittal, training_label_meniscus, \"sagittal_meniscus_model\")"
      ],
      "execution_count": 31,
      "outputs": [
        {
          "output_type": "stream",
          "text": [
            "Train on 2147 samples, validate on 113 samples\n",
            "Epoch 1/30\n",
            "2147/2147 [==============================] - 8s 4ms/step - loss: 0.6496 - acc: 0.6469 - val_loss: 2.6880 - val_acc: 0.6637\n",
            "-val_f1 : 0.000000 \n",
            "Epoch 2/30\n",
            "  32/2147 [..............................] - ETA: 7s - loss: 0.5068 - acc: 0.8438"
          ],
          "name": "stdout"
        },
        {
          "output_type": "stream",
          "text": [
            "/usr/local/lib/python3.6/dist-packages/sklearn/metrics/classification.py:1437: UndefinedMetricWarning: F-score is ill-defined and being set to 0.0 due to no predicted samples.\n",
            "  'precision', 'predicted', average, warn_for)\n"
          ],
          "name": "stderr"
        },
        {
          "output_type": "stream",
          "text": [
            "2147/2147 [==============================] - 8s 4ms/step - loss: 0.6323 - acc: 0.6479 - val_loss: 3.1717 - val_acc: 0.6637\n",
            "-val_f1 : 0.000000 \n",
            "Epoch 3/30\n",
            "2147/2147 [==============================] - 8s 4ms/step - loss: 0.6248 - acc: 0.6521 - val_loss: 3.7506 - val_acc: 0.6637\n",
            "-val_f1 : 0.000000 \n",
            "Epoch 4/30\n",
            "2147/2147 [==============================] - 8s 4ms/step - loss: 0.6118 - acc: 0.6633 - val_loss: 4.2659 - val_acc: 0.6637\n",
            "-val_f1 : 0.000000 \n"
          ],
          "name": "stdout"
        },
        {
          "output_type": "display_data",
          "data": {
            "image/png": "[encoded data removed]",
            "text/plain": [
              "<Figure size 576x432 with 1 Axes>"
            ]
          },
          "metadata": {
            "tags": []
          }
        }
      ]
    },
    {
      "cell_type": "markdown",
      "metadata": {
        "colab_type": "text",
        "id": "T2OJcQKsZbs4"
      },
      "source": [
        "## Evaluate the 9 models"
      ]
    },
    {
      "cell_type": "code",
      "metadata": {
        "colab_type": "code",
        "id": "rLaW7IDwZeXD",
        "colab": {}
      },
      "source": [
        "#load the test data of one single angle of the exams (axial | coronal | sagittal) by giving the angle name\n",
        "def testSet(file_name):\n",
        "    test_set = []\n",
        "    for np_name in sorted(glob.glob('MRNet-v1.0/valid/'+file_name+'/*.npy')):\n",
        "        test_set.append(np.load(np_name))\n",
        "    return test_set   "
      ],
      "execution_count": 0,
      "outputs": []
    },
    {
      "cell_type": "code",
      "metadata": {
        "colab_type": "code",
        "id": "Zokr_v_0aXCD",
        "colab": {}
      },
      "source": [
        "#load the test data for each angle of the knee\n",
        "test_set_axial= testSet('axial')\n",
        "test_set_coronal=testSet('coronal')\n",
        "test_set_sagittal=testSet('sagittal')"
      ],
      "execution_count": 0,
      "outputs": []
    },
    {
      "cell_type": "code",
      "metadata": {
        "colab_type": "code",
        "id": "ewlW0t1-atSY",
        "colab": {}
      },
      "source": [
        "#extract the middel 3 slices from each stack\n",
        "test_set_axial = extract_3(test_set_axial, 120)\n",
        "test_set_coronal =extract_3(test_set_coronal, 120)\n",
        "test_set_sagittal =extract_3(test_set_sagittal, 120)"
      ],
      "execution_count": 0,
      "outputs": []
    },
    {
      "cell_type": "code",
      "metadata": {
        "colab_type": "code",
        "id": "6U0JME9GbQ6c",
        "colab": {}
      },
      "source": [
        "#load the labels of the test data for each knee tear \n",
        "test_label_abnormal = load_labels('MRNet-v1.0/valid-abnormal.csv')\n",
        "test_label_acl = load_labels('MRNet-v1.0/valid-acl.csv')\n",
        "test_label_meniscus = load_labels('MRNet-v1.0/valid-meniscus.csv')"
      ],
      "execution_count": 0,
      "outputs": []
    },
    {
      "cell_type": "code",
      "metadata": {
        "colab_type": "code",
        "id": "9s9dhoElbugv",
        "colab": {
          "base_uri": "https://localhost:8080/",
          "height": 51
        },
        "outputId": "b048cb26-5835-4c3d-8e72-32d11cc280cd"
      },
      "source": [
        "axial_abnormal_model.evaluate(test_set_axial, test_label_abnormal)"
      ],
      "execution_count": 36,
      "outputs": [
        {
          "output_type": "stream",
          "text": [
            "120/120 [==============================] - 15s 129ms/step\n"
          ],
          "name": "stdout"
        },
        {
          "output_type": "execute_result",
          "data": {
            "text/plain": [
              "[3.191678504541081, 0.7916666666666666]"
            ]
          },
          "metadata": {
            "tags": []
          },
          "execution_count": 36
        }
      ]
    },
    {
      "cell_type": "code",
      "metadata": {
        "colab_type": "code",
        "id": "RcjfITHubwXY",
        "colab": {
          "base_uri": "https://localhost:8080/",
          "height": 51
        },
        "outputId": "b05fcf66-fe7c-40f4-fc0c-b39f9f16cf1f"
      },
      "source": [
        "axial_acl_model.evaluate(test_set_axial, test_label_acl) "
      ],
      "execution_count": 37,
      "outputs": [
        {
          "output_type": "stream",
          "text": [
            "120/120 [==============================] - 15s 128ms/step\n"
          ],
          "name": "stdout"
        },
        {
          "output_type": "execute_result",
          "data": {
            "text/plain": [
              "[7.095335601843491, 0.55]"
            ]
          },
          "metadata": {
            "tags": []
          },
          "execution_count": 37
        }
      ]
    },
    {
      "cell_type": "code",
      "metadata": {
        "colab_type": "code",
        "id": "uqxIfVvUbwtx",
        "colab": {
          "base_uri": "https://localhost:8080/",
          "height": 51
        },
        "outputId": "09d1d4d3-646f-4941-ea63-cc9a1161386b"
      },
      "source": [
        "axial_meniscus_model.evaluate(test_set_axial, test_label_meniscus) "
      ],
      "execution_count": 38,
      "outputs": [
        {
          "output_type": "stream",
          "text": [
            "120/120 [==============================] - 15s 122ms/step\n"
          ],
          "name": "stdout"
        },
        {
          "output_type": "execute_result",
          "data": {
            "text/plain": [
              "[5.935317405064901, 0.5666666666666667]"
            ]
          },
          "metadata": {
            "tags": []
          },
          "execution_count": 38
        }
      ]
    },
    {
      "cell_type": "code",
      "metadata": {
        "colab_type": "code",
        "id": "gEgu3jd4bw3W",
        "colab": {
          "base_uri": "https://localhost:8080/",
          "height": 51
        },
        "outputId": "efd07cd2-5ccf-427c-aa00-6d584a5a9b88"
      },
      "source": [
        "coronal_abnormal_model.evaluate(test_set_coronal, test_label_abnormal)"
      ],
      "execution_count": 39,
      "outputs": [
        {
          "output_type": "stream",
          "text": [
            "120/120 [==============================] - 15s 124ms/step\n"
          ],
          "name": "stdout"
        },
        {
          "output_type": "execute_result",
          "data": {
            "text/plain": [
              "[1.8087958463506462, 0.7916666666666666]"
            ]
          },
          "metadata": {
            "tags": []
          },
          "execution_count": 39
        }
      ]
    },
    {
      "cell_type": "code",
      "metadata": {
        "colab_type": "code",
        "id": "ZPQpGpC2bw7v",
        "colab": {
          "base_uri": "https://localhost:8080/",
          "height": 51
        },
        "outputId": "a997e6a1-e06e-43b1-c118-ac439b622fcf"
      },
      "source": [
        "coronal_acl_model.evaluate(test_set_coronal, test_label_acl)"
      ],
      "execution_count": 40,
      "outputs": [
        {
          "output_type": "stream",
          "text": [
            "120/120 [==============================] - 15s 124ms/step\n"
          ],
          "name": "stdout"
        },
        {
          "output_type": "execute_result",
          "data": {
            "text/plain": [
              "[4.239802800382798, 0.55]"
            ]
          },
          "metadata": {
            "tags": []
          },
          "execution_count": 40
        }
      ]
    },
    {
      "cell_type": "code",
      "metadata": {
        "colab_type": "code",
        "id": "FmvpiJsnbw-r",
        "colab": {
          "base_uri": "https://localhost:8080/",
          "height": 51
        },
        "outputId": "a09079ef-f57c-4b54-a5d1-7032feec4849"
      },
      "source": [
        "coronal_meniscus_model.evaluate(test_set_coronal, test_label_meniscus)"
      ],
      "execution_count": 41,
      "outputs": [
        {
          "output_type": "stream",
          "text": [
            "120/120 [==============================] - 15s 124ms/step\n"
          ],
          "name": "stdout"
        },
        {
          "output_type": "execute_result",
          "data": {
            "text/plain": [
              "[0.6872082074483236, 0.583333333581686]"
            ]
          },
          "metadata": {
            "tags": []
          },
          "execution_count": 41
        }
      ]
    },
    {
      "cell_type": "code",
      "metadata": {
        "colab_type": "code",
        "id": "HN2eLE6ObxBM",
        "colab": {
          "base_uri": "https://localhost:8080/",
          "height": 51
        },
        "outputId": "d022ed66-c98d-457a-9abb-d38d4565dcdb"
      },
      "source": [
        "sagittal_abnormal_model.evaluate(test_set_sagittal, test_label_abnormal)"
      ],
      "execution_count": 42,
      "outputs": [
        {
          "output_type": "stream",
          "text": [
            "120/120 [==============================] - 16s 136ms/step\n"
          ],
          "name": "stdout"
        },
        {
          "output_type": "execute_result",
          "data": {
            "text/plain": [
              "[0.6240400274594625, 0.7916666666666666]"
            ]
          },
          "metadata": {
            "tags": []
          },
          "execution_count": 42
        }
      ]
    },
    {
      "cell_type": "code",
      "metadata": {
        "colab_type": "code",
        "id": "mqIhEuzrsqDE",
        "colab": {
          "base_uri": "https://localhost:8080/",
          "height": 51
        },
        "outputId": "c64d1b44-5cd0-43b6-e7a3-c2de94985d45"
      },
      "source": [
        "sagittal_acl_model.evaluate(test_set_sagittal, test_label_acl)"
      ],
      "execution_count": 43,
      "outputs": [
        {
          "output_type": "stream",
          "text": [
            "120/120 [==============================] - 15s 127ms/step\n"
          ],
          "name": "stdout"
        },
        {
          "output_type": "execute_result",
          "data": {
            "text/plain": [
              "[1.9826522752642632, 0.55]"
            ]
          },
          "metadata": {
            "tags": []
          },
          "execution_count": 43
        }
      ]
    },
    {
      "cell_type": "code",
      "metadata": {
        "colab_type": "code",
        "id": "ZTcUHNtEeVOQ",
        "colab": {
          "base_uri": "https://localhost:8080/",
          "height": 51
        },
        "outputId": "65491ee5-f17a-4a8a-aa9c-a53d23bfa0db"
      },
      "source": [
        "sagittal_meniscus_model.evaluate(test_set_sagittal, test_label_meniscus)"
      ],
      "execution_count": 44,
      "outputs": [
        {
          "output_type": "stream",
          "text": [
            "120/120 [==============================] - 15s 125ms/step\n"
          ],
          "name": "stdout"
        },
        {
          "output_type": "execute_result",
          "data": {
            "text/plain": [
              "[2.880169814576705, 0.5666666666666667]"
            ]
          },
          "metadata": {
            "tags": []
          },
          "execution_count": 44
        }
      ]
    },
    {
      "cell_type": "code",
      "metadata": {
        "colab_type": "code",
        "id": "s4FM2wYUeZYm",
        "colab": {}
      },
      "source": [
        "#predict if the knee has an acl tear by using the data of the 3 knee angel (axial, coronal & sagittal)\n",
        "#and the 3 models that accept one of these data and predict if the knee has an abnromal tear or not\n",
        "#by doing a majority voting between the 3 models\n",
        "def predict_abnormal(axial_input, coronal_input, sagittal_input, ground_truth):\n",
        "    axial_abnormal_prediction = axial_abnormal_model.predict(axial_input)\n",
        "    coronal_abnormal_prediction = coronal_abnormal_model.predict(coronal_input)\n",
        "    sagittal_abnormal_prediction = sagittal_abnormal_model.predict(sagittal_input)\n",
        "    \n",
        "    #to say that the exam has the acl tear or not, each of the models will vote in this decision\n",
        "    #and the final decision will be made by taking the max vote\n",
        "    predict_voting = []\n",
        "    for i in range (len(axial_abnormal_prediction)):\n",
        "        voting_list =[0, 0] \n",
        "        \n",
        "        #make the axial_acl_model vote for the final decision \n",
        "        if(axial_abnormal_prediction[i]>0.5):\n",
        "            voting_list[1] +=1\n",
        "        else:\n",
        "            voting_list[0] += 1\n",
        "    \n",
        "        #make the coronal_acl_model vote for the final decision \n",
        "        if(coronal_abnormal_prediction[i]>0.5):\n",
        "            voting_list[1] +=1\n",
        "        else:\n",
        "            voting_list[0] += 1\n",
        "            \n",
        "        #make the sagittal_acl_model vote for the final decision \n",
        "        if(sagittal_abnormal_prediction[i]>0.5):\n",
        "            voting_list[1] +=1\n",
        "        else:\n",
        "            voting_list[0] += 1\n",
        "        \n",
        "        #give the exam the prediction that has the most votes\n",
        "        predict_voting.append(np.argmax(voting_list))\n",
        "    \n",
        "  \n",
        "    return accuracy_score(ground_truth, np.array(predict_voting)) * 100"
      ],
      "execution_count": 0,
      "outputs": []
    },
    {
      "cell_type": "code",
      "metadata": {
        "colab_type": "code",
        "id": "41dMCBZleZgS",
        "colab": {}
      },
      "source": [
        "#predict if the knee has an acl tear by using the data of the 3 knee angel (axial, coronal & sagittal)\n",
        "#and the 3 models that accept one of these data and predict if the knee has an acl tear or not\n",
        "#by doing a majority voting between the 3 models\n",
        "def predict_acl(axial_input, coronal_input, sagittal_input, ground_truth):\n",
        "    axial_acl_prediction = axial_acl_model.predict(axial_input)\n",
        "    coronal_acl_prediction = coronal_acl_model.predict(coronal_input)\n",
        "    sagittal_acl_prediction = sagittal_acl_model.predict(sagittal_input)\n",
        "    \n",
        "    #to say that the exam has the acl tear or not, each of the models will vote in this decision\n",
        "    #and the final decision will be made by taking the max vote\n",
        "    predict_voting = []\n",
        "    for i in range (len(axial_acl_prediction)):\n",
        "        voting_list =[0, 0] \n",
        "        \n",
        "        #make the axial_acl_model vote for the final decision \n",
        "        if(axial_acl_prediction[i]>0.5):\n",
        "            voting_list[1] +=1\n",
        "        else:\n",
        "            voting_list[0] += 1\n",
        "    \n",
        "        #make the coronal_acl_model vote for the final decision \n",
        "        if(coronal_acl_prediction[i]>0.5):\n",
        "            voting_list[1] +=1\n",
        "        else:\n",
        "            voting_list[0] += 1\n",
        "            \n",
        "        #make the sagittal_acl_model vote for the final decision \n",
        "        if(sagittal_acl_prediction[i]>0.5):\n",
        "            voting_list[1] +=1\n",
        "        else:\n",
        "            voting_list[0] += 1\n",
        "        \n",
        "        #give the exam the prediction that has the most votes\n",
        "        predict_voting.append(np.argmax(voting_list))\n",
        "    \n",
        "  \n",
        "    return accuracy_score(ground_truth, np.array(predict_voting)) * 100"
      ],
      "execution_count": 0,
      "outputs": []
    },
    {
      "cell_type": "code",
      "metadata": {
        "colab_type": "code",
        "id": "H_kbSJWyeZkB",
        "colab": {}
      },
      "source": [
        "#predict if the knee has an meniscus tear by using the data of the 3 knee angel (axial, coronal & sagittal)\n",
        "#and the 3 models that accept one of these data and predict if the knee has an meniscus tear or not\n",
        "#by doing a majority voting between the 3 models\n",
        "def predict_meniscus(axial_input, coronal_input, sagittal_input, ground_truth):\n",
        "    axial_meniscus_prediction = axial_meniscus_model.predict(axial_input)\n",
        "    coronal_meniscus_prediction = coronal_meniscus_model.predict(coronal_input)\n",
        "    sagittal_meniscus_prediction = sagittal_meniscus_model.predict(sagittal_input)\n",
        "    \n",
        "    #to say that the exam has the meniscus tear or not, each of the models will vote in this decision\n",
        "    #and the final decision will be made by taking the max vote\n",
        "    predict_voting = []\n",
        "    for i in range (len(axial_meniscus_prediction)):\n",
        "        voting_list =[0, 0] \n",
        "        \n",
        "        #make the axial_meniscus_model vote for the final decision \n",
        "        if(axial_meniscus_prediction[i]>0.5):\n",
        "            voting_list[1] +=1\n",
        "        else:\n",
        "            voting_list[0] += 1\n",
        "    \n",
        "        #make the coronal_meniscus_model vote for the final decision \n",
        "        if(coronal_meniscus_prediction[i]>0.5):\n",
        "            voting_list[1] +=1\n",
        "        else:\n",
        "            voting_list[0] += 1\n",
        "            \n",
        "        #make the sagittal_meniscus_model vote for the final decision \n",
        "        if(sagittal_meniscus_prediction[i]>0.5):\n",
        "            voting_list[1] +=1\n",
        "        else:\n",
        "            voting_list[0] += 1\n",
        "        \n",
        "        #give the exam the prediction that has the most votes\n",
        "        predict_voting.append(np.argmax(voting_list))\n",
        "    \n",
        "  \n",
        "    return accuracy_score(ground_truth, np.array(predict_voting)) * 100"
      ],
      "execution_count": 0,
      "outputs": []
    },
    {
      "cell_type": "code",
      "metadata": {
        "colab_type": "code",
        "id": "ZFK0To77elJL",
        "colab": {
          "base_uri": "https://localhost:8080/",
          "height": 34
        },
        "outputId": "864ab2cb-de8f-4027-8d86-c7847713cda7"
      },
      "source": [
        "#evaluate the abnormal ensemble models\n",
        "print (predict_abnormal(test_set_axial, test_set_coronal, test_set_sagittal, test_label_abnormal))"
      ],
      "execution_count": 48,
      "outputs": [
        {
          "output_type": "stream",
          "text": [
            "79.16666666666666\n"
          ],
          "name": "stdout"
        }
      ]
    },
    {
      "cell_type": "code",
      "metadata": {
        "colab_type": "code",
        "id": "sK1HlpfmelMb",
        "colab": {
          "base_uri": "https://localhost:8080/",
          "height": 34
        },
        "outputId": "bd8ff527-6222-4399-f0df-36f98a3c5bb1"
      },
      "source": [
        "#evaluate the acl ensemble models\n",
        "print (predict_acl(test_set_axial, test_set_coronal, test_set_sagittal, test_label_acl))"
      ],
      "execution_count": 49,
      "outputs": [
        {
          "output_type": "stream",
          "text": [
            "55.00000000000001\n"
          ],
          "name": "stdout"
        }
      ]
    },
    {
      "cell_type": "code",
      "metadata": {
        "colab_type": "code",
        "id": "HIxG9mqielPy",
        "colab": {
          "base_uri": "https://localhost:8080/",
          "height": 34
        },
        "outputId": "52fde8b6-d3c0-40ac-e866-8d9ca9bf762f"
      },
      "source": [
        "#evaluate the meniscus ensemble models\n",
        "print (predict_meniscus(test_set_axial, test_set_coronal, test_set_sagittal, test_label_meniscus))"
      ],
      "execution_count": 50,
      "outputs": [
        {
          "output_type": "stream",
          "text": [
            "56.666666666666664\n"
          ],
          "name": "stdout"
        }
      ]
    }
  ]
}